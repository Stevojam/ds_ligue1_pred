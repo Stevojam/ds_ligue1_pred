{
 "cells": [
  {
   "cell_type": "code",
   "execution_count": 1,
   "metadata": {},
   "outputs": [],
   "source": [
    "import TransferMarkt_scraper as tms\n",
    "import pandas as pd"
   ]
  },
  {
   "cell_type": "code",
   "execution_count": null,
   "metadata": {},
   "outputs": [],
   "source": [
    "#Input the start year and end year from which we want the data\n",
    "start_year = 2011\n",
    "end_year = 2023"
   ]
  },
  {
   "cell_type": "code",
   "execution_count": 5,
   "metadata": {},
   "outputs": [],
   "source": [
    "#Import squad values from transferMarkt with scraper and export to csv.\n",
    "df_squadValues = tms.get_squadValues(start_year, end_year)\n",
    "df_squadValues.to_csv('squad_values.csv', index = False)"
   ]
  },
  {
   "cell_type": "code",
   "execution_count": 6,
   "metadata": {},
   "outputs": [],
   "source": [
    "#Import transfer details from transferMarkt with scraper and export to csv. Input are start year and end year from which we want the data\n",
    "df_transferDetails = tms.get_transferDetails(start_year, end_year)\n",
    "df_transferDetails.to_csv('transfer_details.csv', index = False)"
   ]
  },
  {
   "cell_type": "code",
   "execution_count": 8,
   "metadata": {},
   "outputs": [],
   "source": [
    "#Import transfer details from transferMarkt with scraper and export to csv. Input are start year and end year from which we want the data\n",
    "df_standings = tms.get_seasonTable(start_year, end_year)\n",
    "df_standings.to_csv('standings.csv', index = False)"
   ]
  },
  {
   "cell_type": "code",
   "execution_count": null,
   "metadata": {},
   "outputs": [],
   "source": []
  }
 ],
 "metadata": {
  "kernelspec": {
   "display_name": "Python 3",
   "language": "python",
   "name": "python3"
  },
  "language_info": {
   "codemirror_mode": {
    "name": "ipython",
    "version": 3
   },
   "file_extension": ".py",
   "mimetype": "text/x-python",
   "name": "python",
   "nbconvert_exporter": "python",
   "pygments_lexer": "ipython3",
   "version": "3.7.6"
  },
  "orig_nbformat": 4
 },
 "nbformat": 4,
 "nbformat_minor": 2
}
