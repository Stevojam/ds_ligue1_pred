{
 "cells": [
  {
   "cell_type": "code",
   "execution_count": 2,
   "metadata": {},
   "outputs": [],
   "source": [
    "## Import packages\n",
    "\n",
    "import pandas as pd"
   ]
  },
  {
   "cell_type": "code",
   "execution_count": 3,
   "metadata": {},
   "outputs": [],
   "source": [
    "### Import csv files\n",
    "\n",
    "df_squadValues = pd.read_csv('squad_values.csv')\n",
    "df_transferDetails = pd.read_csv('transfer_details.csv')\n",
    "df_standings = pd.read_csv('standings.csv')"
   ]
  },
  {
   "cell_type": "code",
   "execution_count": 4,
   "metadata": {},
   "outputs": [],
   "source": [
    "### Cleaning the squad values dataframe\n",
    "\n",
    "market_values = df_squadValues['Market_value'].apply(lambda x: x.replace('€', ''))\n",
    "market_values = market_values.replace({\"th\":\"*1e3\", \"m\":\"*1e6\", \"bn\":\"*1e9\"}, regex=True).map(pd.eval).astype(int)\n",
    "df_squadValues[\"Market_value\"] = market_values\n",
    "df_squadValues = df_squadValues.rename(columns={\"Year\": \"Season\"})\n",
    "df_squadValues['Team'] = df_squadValues[\"Team\"].apply(lambda x: x.strip())\n"
   ]
  },
  {
   "cell_type": "code",
   "execution_count": 5,
   "metadata": {},
   "outputs": [],
   "source": [
    "### Cleaning the transfer details dataframe\n",
    "\n",
    "df_transferDetails['Expenditure'] = df_transferDetails['Expenditure'].apply(lambda x: x.replace('€', ''))\n",
    "df_transferDetails['Income'] = df_transferDetails['Income'].apply(lambda x: x.replace('€', ''))\n",
    "\n",
    "df_transferDetails['Expenditure'] = df_transferDetails['Expenditure'].replace(\"-\", 0).replace({\"Th.\":\"*1e3\", \"m\":\"*1e6\", \"bn\":\"*1e9\"}, regex=True).map(pd.eval).astype(int)\n",
    "df_transferDetails['Income'] = df_transferDetails['Income'].replace(\"-\", 0).replace({\"Th.\":\"*1e3\", \"m\":\"*1e6\", \"bn\":\"*1e9\"}, regex=True).map(pd.eval).astype(int)\n",
    "df_transferDetails['Balance'] = df_transferDetails['Expenditure'] - df_transferDetails['Income']\n"
   ]
  },
  {
   "cell_type": "code",
   "execution_count": 6,
   "metadata": {},
   "outputs": [],
   "source": [
    "### Cleaning the df_standings dataframe\n",
    "\n",
    "df_standings['GF'] = df_standings['Goals'].apply(lambda x: int(x.split(':')[0]))\n",
    "df_standings['GA'] = df_standings['Goals'].apply(lambda x: int(x.split(':')[1]))"
   ]
  },
  {
   "cell_type": "code",
   "execution_count": 7,
   "metadata": {},
   "outputs": [],
   "source": [
    "### Merging the dataframes into one\n",
    "\n",
    "df = df_standings.merge(df_transferDetails, how='left', on=['Season', 'Team']).merge(df_squadValues, how=\"left\", on=[\"Season\", \"Team\"])"
   ]
  },
  {
   "cell_type": "code",
   "execution_count": 8,
   "metadata": {},
   "outputs": [],
   "source": [
    "### We create a copy of the initial dataframe\n",
    "\n",
    "df_copy = df\n",
    "df_copy = df_copy.sort_values(by=[\"Team\", \"Season\"]).reset_index(drop=True)"
   ]
  },
  {
   "cell_type": "code",
   "execution_count": 9,
   "metadata": {},
   "outputs": [
    {
     "name": "stderr",
     "output_type": "stream",
     "text": [
      "/var/folders/02/kvdchhy158bcnynphq3prw8h0000gn/T/ipykernel_43261/3109556431.py:4: SettingWithCopyWarning: \n",
      "A value is trying to be set on a copy of a slice from a DataFrame.\n",
      "Try using .loc[row_indexer,col_indexer] = value instead\n",
      "\n",
      "See the caveats in the documentation: https://pandas.pydata.org/pandas-docs/stable/user_guide/indexing.html#returning-a-view-versus-a-copy\n",
      "  df_2019[\"PtsperGame\"] = df_2019[\"Points\"]/df_2019[\"Matches\"]\n",
      "/var/folders/02/kvdchhy158bcnynphq3prw8h0000gn/T/ipykernel_43261/3109556431.py:5: SettingWithCopyWarning: \n",
      "A value is trying to be set on a copy of a slice from a DataFrame.\n",
      "Try using .loc[row_indexer,col_indexer] = value instead\n",
      "\n",
      "See the caveats in the documentation: https://pandas.pydata.org/pandas-docs/stable/user_guide/indexing.html#returning-a-view-versus-a-copy\n",
      "  df_2019[\"Points\"] = (df_2019[\"PtsperGame\"] * 38).astype('int')\n"
     ]
    }
   ],
   "source": [
    "### We modify the 2019 season that was shortened due to COVID and apply the points per game ratio\n",
    "\n",
    "df_2019 = df_copy.loc[df_copy[\"Season\"] == 2019]\n",
    "df_2019[\"PtsperGame\"] = df_2019[\"Points\"]/df_2019[\"Matches\"]\n",
    "df_2019[\"Points\"] = (df_2019[\"PtsperGame\"] * 38).astype('int')\n",
    "df_copy.loc[df_copy[\"Season\"] == 2019] = df_2019"
   ]
  },
  {
   "cell_type": "code",
   "execution_count": 10,
   "metadata": {},
   "outputs": [],
   "source": [
    "### We create a new column with the Points gained the year before\n",
    "### For the clubs that were relegated in L2 or promoted in L1, we take the number of points gained during the same season\n",
    "\n",
    "Pts_year_before = [df_copy.loc[0].Points]\n",
    "for i in range(1, len(df_copy)):\n",
    "    if df_copy.loc[i].Team == df_copy.loc[i-1].Team:\n",
    "        Pts_year_before.append(df_copy.loc[i-1].Points)\n",
    "    else:\n",
    "        Pts_year_before.append(df_copy.loc[i].Points)\n",
    "\n",
    "df_copy[\"Pts_year_before\"] = Pts_year_before"
   ]
  },
  {
   "cell_type": "code",
   "execution_count": 11,
   "metadata": {},
   "outputs": [],
   "source": [
    "### Export the data to csv\n",
    "df_copy.to_csv('L1_squad_standings_cleaned.csv', index=False)\n"
   ]
  },
  {
   "cell_type": "code",
   "execution_count": 16,
   "metadata": {},
   "outputs": [
    {
     "data": {
      "text/html": [
       "<div>\n",
       "<style scoped>\n",
       "    .dataframe tbody tr th:only-of-type {\n",
       "        vertical-align: middle;\n",
       "    }\n",
       "\n",
       "    .dataframe tbody tr th {\n",
       "        vertical-align: top;\n",
       "    }\n",
       "\n",
       "    .dataframe thead th {\n",
       "        text-align: right;\n",
       "    }\n",
       "</style>\n",
       "<table border=\"1\" class=\"dataframe\">\n",
       "  <thead>\n",
       "    <tr style=\"text-align: right;\">\n",
       "      <th></th>\n",
       "      <th>Points</th>\n",
       "      <th>Market_value</th>\n",
       "      <th>Pts_year_before</th>\n",
       "    </tr>\n",
       "  </thead>\n",
       "  <tbody>\n",
       "    <tr>\n",
       "      <th>0</th>\n",
       "      <td>41</td>\n",
       "      <td>26550000</td>\n",
       "      <td>41</td>\n",
       "    </tr>\n",
       "    <tr>\n",
       "      <th>1</th>\n",
       "      <td>40</td>\n",
       "      <td>34100000</td>\n",
       "      <td>41</td>\n",
       "    </tr>\n",
       "    <tr>\n",
       "      <th>2</th>\n",
       "      <td>23</td>\n",
       "      <td>28300000</td>\n",
       "      <td>40</td>\n",
       "    </tr>\n",
       "    <tr>\n",
       "      <th>3</th>\n",
       "      <td>34</td>\n",
       "      <td>50900000</td>\n",
       "      <td>34</td>\n",
       "    </tr>\n",
       "    <tr>\n",
       "      <th>4</th>\n",
       "      <td>80</td>\n",
       "      <td>242550000</td>\n",
       "      <td>80</td>\n",
       "    </tr>\n",
       "    <tr>\n",
       "      <th>...</th>\n",
       "      <td>...</td>\n",
       "      <td>...</td>\n",
       "      <td>...</td>\n",
       "    </tr>\n",
       "    <tr>\n",
       "      <th>215</th>\n",
       "      <td>58</td>\n",
       "      <td>297500000</td>\n",
       "      <td>67</td>\n",
       "    </tr>\n",
       "    <tr>\n",
       "      <th>216</th>\n",
       "      <td>37</td>\n",
       "      <td>216900000</td>\n",
       "      <td>58</td>\n",
       "    </tr>\n",
       "    <tr>\n",
       "      <th>217</th>\n",
       "      <td>43</td>\n",
       "      <td>44500000</td>\n",
       "      <td>43</td>\n",
       "    </tr>\n",
       "    <tr>\n",
       "      <th>218</th>\n",
       "      <td>48</td>\n",
       "      <td>49750000</td>\n",
       "      <td>43</td>\n",
       "    </tr>\n",
       "    <tr>\n",
       "      <th>219</th>\n",
       "      <td>29</td>\n",
       "      <td>36650000</td>\n",
       "      <td>48</td>\n",
       "    </tr>\n",
       "  </tbody>\n",
       "</table>\n",
       "<p>220 rows × 3 columns</p>\n",
       "</div>"
      ],
      "text/plain": [
       "     Points  Market_value  Pts_year_before\n",
       "0        41      26550000               41\n",
       "1        40      34100000               41\n",
       "2        23      28300000               40\n",
       "3        34      50900000               34\n",
       "4        80     242550000               80\n",
       "..      ...           ...              ...\n",
       "215      58     297500000               67\n",
       "216      37     216900000               58\n",
       "217      43      44500000               43\n",
       "218      48      49750000               43\n",
       "219      29      36650000               48\n",
       "\n",
       "[220 rows x 3 columns]"
      ]
     },
     "execution_count": 16,
     "metadata": {},
     "output_type": "execute_result"
    }
   ],
   "source": [
    "df_copy[[\"Points\", \"Market_value\", \"Pts_year_before\"]]"
   ]
  },
  {
   "cell_type": "code",
   "execution_count": null,
   "metadata": {},
   "outputs": [],
   "source": []
  }
 ],
 "metadata": {
  "interpreter": {
   "hash": "83a4418669e7ac7b7effeaee65fefb8cf1a77de8a9e3d7e79a2464d62065dafd"
  },
  "kernelspec": {
   "display_name": "Python 3.10.1 64-bit ('minimal_ds': conda)",
   "language": "python",
   "name": "python3"
  },
  "language_info": {
   "codemirror_mode": {
    "name": "ipython",
    "version": 3
   },
   "file_extension": ".py",
   "mimetype": "text/x-python",
   "name": "python",
   "nbconvert_exporter": "python",
   "pygments_lexer": "ipython3",
   "version": "3.10.1"
  },
  "orig_nbformat": 4
 },
 "nbformat": 4,
 "nbformat_minor": 2
}
