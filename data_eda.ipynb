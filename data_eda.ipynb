{
 "cells": [
  {
   "cell_type": "code",
   "execution_count": 7,
   "metadata": {},
   "outputs": [
    {
     "ename": "ModuleNotFoundError",
     "evalue": "No module named 'plotly'",
     "output_type": "error",
     "traceback": [
      "\u001b[0;31m---------------------------------------------------------------------------\u001b[0m",
      "\u001b[0;31mModuleNotFoundError\u001b[0m                       Traceback (most recent call last)",
      "\u001b[0;32m<ipython-input-7-270977b689b1>\u001b[0m in \u001b[0;36m<module>\u001b[0;34m\u001b[0m\n\u001b[1;32m      2\u001b[0m \u001b[0;32mimport\u001b[0m \u001b[0mseaborn\u001b[0m \u001b[0;32mas\u001b[0m \u001b[0msns\u001b[0m\u001b[0;34m\u001b[0m\u001b[0;34m\u001b[0m\u001b[0m\n\u001b[1;32m      3\u001b[0m \u001b[0;32mimport\u001b[0m \u001b[0mmatplotlib\u001b[0m\u001b[0;34m.\u001b[0m\u001b[0mpyplot\u001b[0m \u001b[0;32mas\u001b[0m \u001b[0mplt\u001b[0m\u001b[0;34m\u001b[0m\u001b[0;34m\u001b[0m\u001b[0m\n\u001b[0;32m----> 4\u001b[0;31m \u001b[0;32mimport\u001b[0m \u001b[0mplotly\u001b[0m\u001b[0;34m.\u001b[0m\u001b[0mexpress\u001b[0m \u001b[0;32mas\u001b[0m \u001b[0mpx\u001b[0m\u001b[0;34m\u001b[0m\u001b[0;34m\u001b[0m\u001b[0m\n\u001b[0m\u001b[1;32m      5\u001b[0m \u001b[0;32mimport\u001b[0m \u001b[0mplotly\u001b[0m\u001b[0;34m.\u001b[0m\u001b[0mgraph_objects\u001b[0m \u001b[0;32mas\u001b[0m \u001b[0mgo\u001b[0m\u001b[0;34m\u001b[0m\u001b[0;34m\u001b[0m\u001b[0m\n\u001b[1;32m      6\u001b[0m \u001b[0;32mfrom\u001b[0m \u001b[0mplotly\u001b[0m\u001b[0;34m.\u001b[0m\u001b[0msubplots\u001b[0m \u001b[0;32mimport\u001b[0m \u001b[0mmake_subplots\u001b[0m\u001b[0;34m\u001b[0m\u001b[0;34m\u001b[0m\u001b[0m\n",
      "\u001b[0;31mModuleNotFoundError\u001b[0m: No module named 'plotly'"
     ]
    }
   ],
   "source": [
    "import pandas as pd\n",
    "import seaborn as sns\n",
    "import matplotlib.pyplot as plt\n",
    "import plotly.express as px\n",
    "import plotly.graph_objects as go\n",
    "from plotly.subplots import make_subplots\n",
    "import plotly.figure_factory as ff\n"
   ]
  },
  {
   "cell_type": "code",
   "execution_count": null,
   "metadata": {},
   "outputs": [],
   "source": [
    "df = pd.read_csv('L1_squad_standings_cleaned.csv')\n",
    "df_2021 = df.loc[df[\"Season\"] == 2021]\n",
    "df = df.loc[df[\"Season\"] != 2021]"
   ]
  },
  {
   "cell_type": "code",
   "execution_count": null,
   "metadata": {},
   "outputs": [
    {
     "data": {
      "text/html": [
       "<div>\n",
       "<style scoped>\n",
       "    .dataframe tbody tr th:only-of-type {\n",
       "        vertical-align: middle;\n",
       "    }\n",
       "\n",
       "    .dataframe tbody tr th {\n",
       "        vertical-align: top;\n",
       "    }\n",
       "\n",
       "    .dataframe thead th {\n",
       "        text-align: right;\n",
       "    }\n",
       "</style>\n",
       "<table border=\"1\" class=\"dataframe\">\n",
       "  <thead>\n",
       "    <tr style=\"text-align: right;\">\n",
       "      <th></th>\n",
       "      <th>Season</th>\n",
       "      <th>Position</th>\n",
       "      <th>Team</th>\n",
       "      <th>Matches</th>\n",
       "      <th>Wins</th>\n",
       "      <th>Draws</th>\n",
       "      <th>Losses</th>\n",
       "      <th>Goals</th>\n",
       "      <th>Points</th>\n",
       "      <th>GF</th>\n",
       "      <th>GA</th>\n",
       "      <th>Arrivals</th>\n",
       "      <th>Expenditure</th>\n",
       "      <th>Departures</th>\n",
       "      <th>Income</th>\n",
       "      <th>Balance</th>\n",
       "      <th>Squad</th>\n",
       "      <th>Average_age</th>\n",
       "      <th>Market_value</th>\n",
       "      <th>Pts_year_before</th>\n",
       "    </tr>\n",
       "  </thead>\n",
       "  <tbody>\n",
       "    <tr>\n",
       "      <th>0</th>\n",
       "      <td>2011</td>\n",
       "      <td>16</td>\n",
       "      <td>AC Ajaccio</td>\n",
       "      <td>38</td>\n",
       "      <td>9</td>\n",
       "      <td>14</td>\n",
       "      <td>15</td>\n",
       "      <td>40:61</td>\n",
       "      <td>41</td>\n",
       "      <td>40</td>\n",
       "      <td>61</td>\n",
       "      <td>11</td>\n",
       "      <td>200000</td>\n",
       "      <td>7</td>\n",
       "      <td>0</td>\n",
       "      <td>200000</td>\n",
       "      <td>33</td>\n",
       "      <td>26.2</td>\n",
       "      <td>26550000</td>\n",
       "      <td>41</td>\n",
       "    </tr>\n",
       "    <tr>\n",
       "      <th>1</th>\n",
       "      <td>2012</td>\n",
       "      <td>17</td>\n",
       "      <td>AC Ajaccio</td>\n",
       "      <td>38</td>\n",
       "      <td>9</td>\n",
       "      <td>15</td>\n",
       "      <td>14</td>\n",
       "      <td>39:51</td>\n",
       "      <td>40</td>\n",
       "      <td>39</td>\n",
       "      <td>51</td>\n",
       "      <td>11</td>\n",
       "      <td>0</td>\n",
       "      <td>9</td>\n",
       "      <td>0</td>\n",
       "      <td>0</td>\n",
       "      <td>32</td>\n",
       "      <td>27.2</td>\n",
       "      <td>34100000</td>\n",
       "      <td>41</td>\n",
       "    </tr>\n",
       "    <tr>\n",
       "      <th>2</th>\n",
       "      <td>2013</td>\n",
       "      <td>20</td>\n",
       "      <td>AC Ajaccio</td>\n",
       "      <td>38</td>\n",
       "      <td>4</td>\n",
       "      <td>11</td>\n",
       "      <td>23</td>\n",
       "      <td>37:72</td>\n",
       "      <td>23</td>\n",
       "      <td>37</td>\n",
       "      <td>72</td>\n",
       "      <td>19</td>\n",
       "      <td>0</td>\n",
       "      <td>16</td>\n",
       "      <td>0</td>\n",
       "      <td>0</td>\n",
       "      <td>38</td>\n",
       "      <td>25.4</td>\n",
       "      <td>28300000</td>\n",
       "      <td>40</td>\n",
       "    </tr>\n",
       "    <tr>\n",
       "      <th>3</th>\n",
       "      <td>2011</td>\n",
       "      <td>20</td>\n",
       "      <td>AJ Auxerre</td>\n",
       "      <td>38</td>\n",
       "      <td>7</td>\n",
       "      <td>13</td>\n",
       "      <td>18</td>\n",
       "      <td>46:57</td>\n",
       "      <td>34</td>\n",
       "      <td>46</td>\n",
       "      <td>57</td>\n",
       "      <td>24</td>\n",
       "      <td>2750000</td>\n",
       "      <td>13</td>\n",
       "      <td>3500000</td>\n",
       "      <td>-750000</td>\n",
       "      <td>42</td>\n",
       "      <td>24.0</td>\n",
       "      <td>50900000</td>\n",
       "      <td>34</td>\n",
       "    </tr>\n",
       "    <tr>\n",
       "      <th>4</th>\n",
       "      <td>2013</td>\n",
       "      <td>2</td>\n",
       "      <td>AS Monaco</td>\n",
       "      <td>38</td>\n",
       "      <td>23</td>\n",
       "      <td>11</td>\n",
       "      <td>4</td>\n",
       "      <td>63:31</td>\n",
       "      <td>80</td>\n",
       "      <td>63</td>\n",
       "      <td>31</td>\n",
       "      <td>33</td>\n",
       "      <td>149200000</td>\n",
       "      <td>24</td>\n",
       "      <td>4750000</td>\n",
       "      <td>144450000</td>\n",
       "      <td>45</td>\n",
       "      <td>25.1</td>\n",
       "      <td>242550000</td>\n",
       "      <td>80</td>\n",
       "    </tr>\n",
       "  </tbody>\n",
       "</table>\n",
       "</div>"
      ],
      "text/plain": [
       "   Season Position        Team  Matches  Wins  Draws  Losses  Goals  Points  \\\n",
       "0    2011      16   AC Ajaccio       38     9     14      15  40:61      41   \n",
       "1    2012      17   AC Ajaccio       38     9     15      14  39:51      40   \n",
       "2    2013      20   AC Ajaccio       38     4     11      23  37:72      23   \n",
       "3    2011      20   AJ Auxerre       38     7     13      18  46:57      34   \n",
       "4    2013       2    AS Monaco       38    23     11       4  63:31      80   \n",
       "\n",
       "   GF  GA  Arrivals  Expenditure  Departures   Income    Balance  Squad  \\\n",
       "0  40  61        11       200000           7        0     200000     33   \n",
       "1  39  51        11            0           9        0          0     32   \n",
       "2  37  72        19            0          16        0          0     38   \n",
       "3  46  57        24      2750000          13  3500000    -750000     42   \n",
       "4  63  31        33    149200000          24  4750000  144450000     45   \n",
       "\n",
       "   Average_age  Market_value  Pts_year_before  \n",
       "0         26.2      26550000               41  \n",
       "1         27.2      34100000               41  \n",
       "2         25.4      28300000               40  \n",
       "3         24.0      50900000               34  \n",
       "4         25.1     242550000               80  "
      ]
     },
     "execution_count": 32,
     "metadata": {},
     "output_type": "execute_result"
    }
   ],
   "source": [
    "df.head()"
   ]
  },
  {
   "cell_type": "code",
   "execution_count": null,
   "metadata": {},
   "outputs": [
    {
     "data": {
      "application/vnd.plotly.v1+json": {
       "config": {
        "plotlyServerURL": "https://plot.ly"
       },
       "data": [
        {
         "colorscale": [
          [
           0,
           "#0d0887"
          ],
          [
           0.1111111111111111,
           "#46039f"
          ],
          [
           0.2222222222222222,
           "#7201a8"
          ],
          [
           0.3333333333333333,
           "#9c179e"
          ],
          [
           0.4444444444444444,
           "#bd3786"
          ],
          [
           0.5555555555555556,
           "#d8576b"
          ],
          [
           0.6666666666666666,
           "#ed7953"
          ],
          [
           0.7777777777777778,
           "#fb9f3a"
          ],
          [
           0.8888888888888888,
           "#fdca26"
          ],
          [
           1,
           "#f0f921"
          ]
         ],
         "reversescale": false,
         "showscale": true,
         "type": "heatmap",
         "x": [
          "Season",
          "Matches",
          "Wins",
          "Draws",
          "Losses",
          "Points",
          "GF",
          "GA",
          "Arrivals",
          "Expenditure",
          "Departures",
          "Income",
          "Balance",
          "Squad",
          "Average_age",
          "Market_value",
          "Pts_year_before"
         ],
         "y": [
          "Season",
          "Matches",
          "Wins",
          "Draws",
          "Losses",
          "Points",
          "GF",
          "GA",
          "Arrivals",
          "Expenditure",
          "Departures",
          "Income",
          "Balance",
          "Squad",
          "Average_age",
          "Market_value",
          "Pts_year_before"
         ],
         "z": [
          [
           1,
           -0.4059822545735486,
           -0.055051617183570004,
           -0.2104777544925184,
           -0.05740422732237518,
           0.008204645440023086,
           -0.028014828065809995,
           -0.036534197977433645,
           0.31046847281199286,
           0.22124741788588922,
           0.28623561963193095,
           0.2662930210830902,
           -0.06949862897924088,
           0.06990877157506009,
           -0.15577161980636012,
           0.3030112273813003,
           -0.005431876840740844
          ],
          [
           -0.4059822545735486,
           1,
           0.1890418888803555,
           0.31882870523599605,
           0.20319935478474027,
           -0.0036419555870584263,
           0.25586972906392064,
           0.3406033768099017,
           -0.14031632702670446,
           -0.16086885532756456,
           -0.13806751901247502,
           -0.19408258217750057,
           0.05104488897732685,
           0.13796517838727462,
           0.04830996396355935,
           -0.10445241496540661,
           0.027896879040644845
          ],
          [
           -0.055051617183570004,
           0.1890418888803555,
           1,
           -0.2664310634956132,
           -0.7747003965957713,
           0.9626779018301829,
           0.871454644681905,
           -0.6061957777023996,
           0.1369147632108919,
           0.5405156793316949,
           -0.03958175487909893,
           0.23466953575654134,
           0.2924520029603417,
           0.07613014376670632,
           -0.16551296563727008,
           0.6745187375755136,
           0.7296949183887201
          ],
          [
           -0.2104777544925184,
           0.31882870523599605,
           -0.2664310634956132,
           1,
           -0.1234812762138615,
           -0.1744872695972871,
           -0.1674505280547858,
           0.03162992906691186,
           -0.06647817066971815,
           -0.2686397837739725,
           -0.04238303973997923,
           -0.1107651413562281,
           -0.1518714768294326,
           -0.021667759785560663,
           0.060319482253121365,
           -0.3227537194470978,
           -0.21684415267234292
          ],
          [
           -0.05740422732237518,
           0.20319935478474027,
           -0.7747003965957713,
           -0.1234812762138615,
           1,
           -0.903224164689295,
           -0.659642217050278,
           0.8137667969954128,
           -0.18613628553194855,
           -0.5000414571200844,
           -0.014961653670859882,
           -0.2936099240644151,
           -0.18551410970797289,
           0.014503185919132607,
           0.16547927114481553,
           -0.5747345950903965,
           -0.6167996385861197
          ],
          [
           0.008204645440023086,
           -0.0036419555870584263,
           0.9626779018301829,
           -0.1744872695972871,
           -0.903224164689295,
           1,
           0.8254381293249589,
           -0.7305232179430735,
           0.16452448124524371,
           0.569009199611493,
           -0.015316503287366695,
           0.2903524648595164,
           0.2597299834692425,
           0.0366749414541371,
           -0.17204452470370596,
           0.6941093674654611,
           0.7311973462302693
          ],
          [
           -0.028014828065809995,
           0.25586972906392064,
           0.871454644681905,
           -0.1674505280547858,
           -0.659642217050278,
           0.8254381293249589,
           1,
           -0.33766386169085955,
           0.12876830037820958,
           0.5691799511243978,
           -0.03417742575264052,
           0.2161427668303757,
           0.3423840809097173,
           0.09027653310010965,
           -0.12204964210484529,
           0.716052604862649,
           0.656104032139215
          ],
          [
           -0.036534197977433645,
           0.3406033768099017,
           -0.6061957777023996,
           0.03162992906691186,
           0.8137667969954128,
           -0.7305232179430735,
           -0.33766386169085955,
           1,
           -0.10034707128794595,
           -0.3843215351711198,
           0.00683079775733128,
           -0.24983334437020238,
           -0.1157179961252415,
           0.07194314156579726,
           0.1325724053913372,
           -0.446876735023187,
           -0.5246513833759567
          ],
          [
           0.31046847281199286,
           -0.14031632702670446,
           0.1369147632108919,
           -0.06647817066971815,
           -0.18613628553194855,
           0.16452448124524371,
           0.12876830037820958,
           -0.10034707128794595,
           1,
           0.3852046056904918,
           0.7803201566876208,
           0.47853991872892676,
           -0.137570769973703,
           0.4003191323120391,
           -0.24201361668620994,
           0.2999471495577711,
           0.14014872965619052
          ],
          [
           0.22124741788588922,
           -0.16086885532756456,
           0.5405156793316949,
           -0.2686397837739725,
           -0.5000414571200844,
           0.569009199611493,
           0.5691799511243978,
           -0.3843215351711198,
           0.3852046056904918,
           1,
           0.20298589060738295,
           0.5638945343191861,
           0.3968679374874344,
           0.17923904349389758,
           -0.14722829006354646,
           0.8206077905026415,
           0.6025333166587419
          ],
          [
           0.28623561963193095,
           -0.13806751901247502,
           -0.03958175487909893,
           -0.04238303973997923,
           -0.014961653670859882,
           -0.015316503287366695,
           -0.03417742575264052,
           0.00683079775733128,
           0.7803201566876208,
           0.20298589060738295,
           1,
           0.29841858128105697,
           -0.12389663589590183,
           0.2855757723224423,
           -0.1942168080282689,
           0.1195253216017854,
           -0.07261867135809233
          ],
          [
           0.2662930210830902,
           -0.19408258217750057,
           0.23466953575654134,
           -0.1107651413562281,
           -0.2936099240644151,
           0.2903524648595164,
           0.2161427668303757,
           -0.24983334437020238,
           0.47853991872892676,
           0.5638945343191861,
           0.29841858128105697,
           1,
           -0.5342330761364953,
           0.28663810042440985,
           -0.31340133333844283,
           0.5373296266899048,
           0.4446719701134232
          ],
          [
           -0.06949862897924088,
           0.05104488897732685,
           0.2924520029603417,
           -0.1518714768294326,
           -0.18551410970797289,
           0.2597299834692425,
           0.3423840809097173,
           -0.1157179961252415,
           -0.137570769973703,
           0.3968679374874344,
           -0.12389663589590183,
           -0.5342330761364953,
           1,
           -0.13511067257711665,
           0.19762251191752975,
           0.2427671686434203,
           0.12252906217361403
          ],
          [
           0.06990877157506009,
           0.13796517838727462,
           0.07613014376670632,
           -0.021667759785560663,
           0.014503185919132607,
           0.0366749414541371,
           0.09027653310010965,
           0.07194314156579726,
           0.4003191323120391,
           0.17923904349389758,
           0.2855757723224423,
           0.28663810042440985,
           -0.13511067257711665,
           1,
           -0.43425272031358747,
           0.20582422414202448,
           0.20001510659202196
          ],
          [
           -0.15577161980636012,
           0.04830996396355935,
           -0.16551296563727008,
           0.060319482253121365,
           0.16547927114481553,
           -0.17204452470370596,
           -0.12204964210484529,
           0.1325724053913372,
           -0.24201361668620994,
           -0.14722829006354646,
           -0.1942168080282689,
           -0.31340133333844283,
           0.19762251191752975,
           -0.43425272031358747,
           1,
           -0.23661941193826375,
           -0.2009838522601271
          ],
          [
           0.3030112273813003,
           -0.10445241496540661,
           0.6745187375755136,
           -0.3227537194470978,
           -0.5747345950903965,
           0.6941093674654611,
           0.716052604862649,
           -0.446876735023187,
           0.2999471495577711,
           0.8206077905026415,
           0.1195253216017854,
           0.5373296266899048,
           0.2427671686434203,
           0.20582422414202448,
           -0.23661941193826375,
           1,
           0.696471745213858
          ],
          [
           -0.005431876840740844,
           0.027896879040644845,
           0.7296949183887201,
           -0.21684415267234292,
           -0.6167996385861197,
           0.7311973462302693,
           0.656104032139215,
           -0.5246513833759567,
           0.14014872965619052,
           0.6025333166587419,
           -0.07261867135809233,
           0.4446719701134232,
           0.12252906217361403,
           0.20001510659202196,
           -0.2009838522601271,
           0.696471745213858,
           1
          ]
         ]
        }
       ],
       "layout": {
        "annotations": [
         {
          "font": {
           "color": "#000000"
          },
          "showarrow": false,
          "text": "1.0",
          "x": "Season",
          "xref": "x",
          "y": "Season",
          "yref": "y"
         },
         {
          "font": {
           "color": "#FFFFFF"
          },
          "showarrow": false,
          "text": "-0.41",
          "x": "Matches",
          "xref": "x",
          "y": "Season",
          "yref": "y"
         },
         {
          "font": {
           "color": "#FFFFFF"
          },
          "showarrow": false,
          "text": "-0.06",
          "x": "Wins",
          "xref": "x",
          "y": "Season",
          "yref": "y"
         },
         {
          "font": {
           "color": "#FFFFFF"
          },
          "showarrow": false,
          "text": "-0.21",
          "x": "Draws",
          "xref": "x",
          "y": "Season",
          "yref": "y"
         },
         {
          "font": {
           "color": "#FFFFFF"
          },
          "showarrow": false,
          "text": "-0.06",
          "x": "Losses",
          "xref": "x",
          "y": "Season",
          "yref": "y"
         },
         {
          "font": {
           "color": "#FFFFFF"
          },
          "showarrow": false,
          "text": "0.01",
          "x": "Points",
          "xref": "x",
          "y": "Season",
          "yref": "y"
         },
         {
          "font": {
           "color": "#FFFFFF"
          },
          "showarrow": false,
          "text": "-0.03",
          "x": "GF",
          "xref": "x",
          "y": "Season",
          "yref": "y"
         },
         {
          "font": {
           "color": "#FFFFFF"
          },
          "showarrow": false,
          "text": "-0.04",
          "x": "GA",
          "xref": "x",
          "y": "Season",
          "yref": "y"
         },
         {
          "font": {
           "color": "#000000"
          },
          "showarrow": false,
          "text": "0.31",
          "x": "Arrivals",
          "xref": "x",
          "y": "Season",
          "yref": "y"
         },
         {
          "font": {
           "color": "#000000"
          },
          "showarrow": false,
          "text": "0.22",
          "x": "Expenditure",
          "xref": "x",
          "y": "Season",
          "yref": "y"
         },
         {
          "font": {
           "color": "#000000"
          },
          "showarrow": false,
          "text": "0.29",
          "x": "Departures",
          "xref": "x",
          "y": "Season",
          "yref": "y"
         },
         {
          "font": {
           "color": "#000000"
          },
          "showarrow": false,
          "text": "0.27",
          "x": "Income",
          "xref": "x",
          "y": "Season",
          "yref": "y"
         },
         {
          "font": {
           "color": "#FFFFFF"
          },
          "showarrow": false,
          "text": "-0.07",
          "x": "Balance",
          "xref": "x",
          "y": "Season",
          "yref": "y"
         },
         {
          "font": {
           "color": "#000000"
          },
          "showarrow": false,
          "text": "0.07",
          "x": "Squad",
          "xref": "x",
          "y": "Season",
          "yref": "y"
         },
         {
          "font": {
           "color": "#FFFFFF"
          },
          "showarrow": false,
          "text": "-0.16",
          "x": "Average_age",
          "xref": "x",
          "y": "Season",
          "yref": "y"
         },
         {
          "font": {
           "color": "#000000"
          },
          "showarrow": false,
          "text": "0.3",
          "x": "Market_value",
          "xref": "x",
          "y": "Season",
          "yref": "y"
         },
         {
          "font": {
           "color": "#FFFFFF"
          },
          "showarrow": false,
          "text": "-0.01",
          "x": "Pts_year_before",
          "xref": "x",
          "y": "Season",
          "yref": "y"
         },
         {
          "font": {
           "color": "#FFFFFF"
          },
          "showarrow": false,
          "text": "-0.41",
          "x": "Season",
          "xref": "x",
          "y": "Matches",
          "yref": "y"
         },
         {
          "font": {
           "color": "#000000"
          },
          "showarrow": false,
          "text": "1.0",
          "x": "Matches",
          "xref": "x",
          "y": "Matches",
          "yref": "y"
         },
         {
          "font": {
           "color": "#000000"
          },
          "showarrow": false,
          "text": "0.19",
          "x": "Wins",
          "xref": "x",
          "y": "Matches",
          "yref": "y"
         },
         {
          "font": {
           "color": "#000000"
          },
          "showarrow": false,
          "text": "0.32",
          "x": "Draws",
          "xref": "x",
          "y": "Matches",
          "yref": "y"
         },
         {
          "font": {
           "color": "#000000"
          },
          "showarrow": false,
          "text": "0.2",
          "x": "Losses",
          "xref": "x",
          "y": "Matches",
          "yref": "y"
         },
         {
          "font": {
           "color": "#FFFFFF"
          },
          "showarrow": false,
          "text": "-0.0",
          "x": "Points",
          "xref": "x",
          "y": "Matches",
          "yref": "y"
         },
         {
          "font": {
           "color": "#000000"
          },
          "showarrow": false,
          "text": "0.26",
          "x": "GF",
          "xref": "x",
          "y": "Matches",
          "yref": "y"
         },
         {
          "font": {
           "color": "#000000"
          },
          "showarrow": false,
          "text": "0.34",
          "x": "GA",
          "xref": "x",
          "y": "Matches",
          "yref": "y"
         },
         {
          "font": {
           "color": "#FFFFFF"
          },
          "showarrow": false,
          "text": "-0.14",
          "x": "Arrivals",
          "xref": "x",
          "y": "Matches",
          "yref": "y"
         },
         {
          "font": {
           "color": "#FFFFFF"
          },
          "showarrow": false,
          "text": "-0.16",
          "x": "Expenditure",
          "xref": "x",
          "y": "Matches",
          "yref": "y"
         },
         {
          "font": {
           "color": "#FFFFFF"
          },
          "showarrow": false,
          "text": "-0.14",
          "x": "Departures",
          "xref": "x",
          "y": "Matches",
          "yref": "y"
         },
         {
          "font": {
           "color": "#FFFFFF"
          },
          "showarrow": false,
          "text": "-0.19",
          "x": "Income",
          "xref": "x",
          "y": "Matches",
          "yref": "y"
         },
         {
          "font": {
           "color": "#000000"
          },
          "showarrow": false,
          "text": "0.05",
          "x": "Balance",
          "xref": "x",
          "y": "Matches",
          "yref": "y"
         },
         {
          "font": {
           "color": "#000000"
          },
          "showarrow": false,
          "text": "0.14",
          "x": "Squad",
          "xref": "x",
          "y": "Matches",
          "yref": "y"
         },
         {
          "font": {
           "color": "#FFFFFF"
          },
          "showarrow": false,
          "text": "0.05",
          "x": "Average_age",
          "xref": "x",
          "y": "Matches",
          "yref": "y"
         },
         {
          "font": {
           "color": "#FFFFFF"
          },
          "showarrow": false,
          "text": "-0.1",
          "x": "Market_value",
          "xref": "x",
          "y": "Matches",
          "yref": "y"
         },
         {
          "font": {
           "color": "#FFFFFF"
          },
          "showarrow": false,
          "text": "0.03",
          "x": "Pts_year_before",
          "xref": "x",
          "y": "Matches",
          "yref": "y"
         },
         {
          "font": {
           "color": "#FFFFFF"
          },
          "showarrow": false,
          "text": "-0.06",
          "x": "Season",
          "xref": "x",
          "y": "Wins",
          "yref": "y"
         },
         {
          "font": {
           "color": "#000000"
          },
          "showarrow": false,
          "text": "0.19",
          "x": "Matches",
          "xref": "x",
          "y": "Wins",
          "yref": "y"
         },
         {
          "font": {
           "color": "#000000"
          },
          "showarrow": false,
          "text": "1.0",
          "x": "Wins",
          "xref": "x",
          "y": "Wins",
          "yref": "y"
         },
         {
          "font": {
           "color": "#FFFFFF"
          },
          "showarrow": false,
          "text": "-0.27",
          "x": "Draws",
          "xref": "x",
          "y": "Wins",
          "yref": "y"
         },
         {
          "font": {
           "color": "#FFFFFF"
          },
          "showarrow": false,
          "text": "-0.77",
          "x": "Losses",
          "xref": "x",
          "y": "Wins",
          "yref": "y"
         },
         {
          "font": {
           "color": "#000000"
          },
          "showarrow": false,
          "text": "0.96",
          "x": "Points",
          "xref": "x",
          "y": "Wins",
          "yref": "y"
         },
         {
          "font": {
           "color": "#000000"
          },
          "showarrow": false,
          "text": "0.87",
          "x": "GF",
          "xref": "x",
          "y": "Wins",
          "yref": "y"
         },
         {
          "font": {
           "color": "#FFFFFF"
          },
          "showarrow": false,
          "text": "-0.61",
          "x": "GA",
          "xref": "x",
          "y": "Wins",
          "yref": "y"
         },
         {
          "font": {
           "color": "#000000"
          },
          "showarrow": false,
          "text": "0.14",
          "x": "Arrivals",
          "xref": "x",
          "y": "Wins",
          "yref": "y"
         },
         {
          "font": {
           "color": "#000000"
          },
          "showarrow": false,
          "text": "0.54",
          "x": "Expenditure",
          "xref": "x",
          "y": "Wins",
          "yref": "y"
         },
         {
          "font": {
           "color": "#FFFFFF"
          },
          "showarrow": false,
          "text": "-0.04",
          "x": "Departures",
          "xref": "x",
          "y": "Wins",
          "yref": "y"
         },
         {
          "font": {
           "color": "#000000"
          },
          "showarrow": false,
          "text": "0.23",
          "x": "Income",
          "xref": "x",
          "y": "Wins",
          "yref": "y"
         },
         {
          "font": {
           "color": "#000000"
          },
          "showarrow": false,
          "text": "0.29",
          "x": "Balance",
          "xref": "x",
          "y": "Wins",
          "yref": "y"
         },
         {
          "font": {
           "color": "#000000"
          },
          "showarrow": false,
          "text": "0.08",
          "x": "Squad",
          "xref": "x",
          "y": "Wins",
          "yref": "y"
         },
         {
          "font": {
           "color": "#FFFFFF"
          },
          "showarrow": false,
          "text": "-0.17",
          "x": "Average_age",
          "xref": "x",
          "y": "Wins",
          "yref": "y"
         },
         {
          "font": {
           "color": "#000000"
          },
          "showarrow": false,
          "text": "0.67",
          "x": "Market_value",
          "xref": "x",
          "y": "Wins",
          "yref": "y"
         },
         {
          "font": {
           "color": "#000000"
          },
          "showarrow": false,
          "text": "0.73",
          "x": "Pts_year_before",
          "xref": "x",
          "y": "Wins",
          "yref": "y"
         },
         {
          "font": {
           "color": "#FFFFFF"
          },
          "showarrow": false,
          "text": "-0.21",
          "x": "Season",
          "xref": "x",
          "y": "Draws",
          "yref": "y"
         },
         {
          "font": {
           "color": "#000000"
          },
          "showarrow": false,
          "text": "0.32",
          "x": "Matches",
          "xref": "x",
          "y": "Draws",
          "yref": "y"
         },
         {
          "font": {
           "color": "#FFFFFF"
          },
          "showarrow": false,
          "text": "-0.27",
          "x": "Wins",
          "xref": "x",
          "y": "Draws",
          "yref": "y"
         },
         {
          "font": {
           "color": "#000000"
          },
          "showarrow": false,
          "text": "1.0",
          "x": "Draws",
          "xref": "x",
          "y": "Draws",
          "yref": "y"
         },
         {
          "font": {
           "color": "#FFFFFF"
          },
          "showarrow": false,
          "text": "-0.12",
          "x": "Losses",
          "xref": "x",
          "y": "Draws",
          "yref": "y"
         },
         {
          "font": {
           "color": "#FFFFFF"
          },
          "showarrow": false,
          "text": "-0.17",
          "x": "Points",
          "xref": "x",
          "y": "Draws",
          "yref": "y"
         },
         {
          "font": {
           "color": "#FFFFFF"
          },
          "showarrow": false,
          "text": "-0.17",
          "x": "GF",
          "xref": "x",
          "y": "Draws",
          "yref": "y"
         },
         {
          "font": {
           "color": "#FFFFFF"
          },
          "showarrow": false,
          "text": "0.03",
          "x": "GA",
          "xref": "x",
          "y": "Draws",
          "yref": "y"
         },
         {
          "font": {
           "color": "#FFFFFF"
          },
          "showarrow": false,
          "text": "-0.07",
          "x": "Arrivals",
          "xref": "x",
          "y": "Draws",
          "yref": "y"
         },
         {
          "font": {
           "color": "#FFFFFF"
          },
          "showarrow": false,
          "text": "-0.27",
          "x": "Expenditure",
          "xref": "x",
          "y": "Draws",
          "yref": "y"
         },
         {
          "font": {
           "color": "#FFFFFF"
          },
          "showarrow": false,
          "text": "-0.04",
          "x": "Departures",
          "xref": "x",
          "y": "Draws",
          "yref": "y"
         },
         {
          "font": {
           "color": "#FFFFFF"
          },
          "showarrow": false,
          "text": "-0.11",
          "x": "Income",
          "xref": "x",
          "y": "Draws",
          "yref": "y"
         },
         {
          "font": {
           "color": "#FFFFFF"
          },
          "showarrow": false,
          "text": "-0.15",
          "x": "Balance",
          "xref": "x",
          "y": "Draws",
          "yref": "y"
         },
         {
          "font": {
           "color": "#FFFFFF"
          },
          "showarrow": false,
          "text": "-0.02",
          "x": "Squad",
          "xref": "x",
          "y": "Draws",
          "yref": "y"
         },
         {
          "font": {
           "color": "#000000"
          },
          "showarrow": false,
          "text": "0.06",
          "x": "Average_age",
          "xref": "x",
          "y": "Draws",
          "yref": "y"
         },
         {
          "font": {
           "color": "#FFFFFF"
          },
          "showarrow": false,
          "text": "-0.32",
          "x": "Market_value",
          "xref": "x",
          "y": "Draws",
          "yref": "y"
         },
         {
          "font": {
           "color": "#FFFFFF"
          },
          "showarrow": false,
          "text": "-0.22",
          "x": "Pts_year_before",
          "xref": "x",
          "y": "Draws",
          "yref": "y"
         },
         {
          "font": {
           "color": "#FFFFFF"
          },
          "showarrow": false,
          "text": "-0.06",
          "x": "Season",
          "xref": "x",
          "y": "Losses",
          "yref": "y"
         },
         {
          "font": {
           "color": "#000000"
          },
          "showarrow": false,
          "text": "0.2",
          "x": "Matches",
          "xref": "x",
          "y": "Losses",
          "yref": "y"
         },
         {
          "font": {
           "color": "#FFFFFF"
          },
          "showarrow": false,
          "text": "-0.77",
          "x": "Wins",
          "xref": "x",
          "y": "Losses",
          "yref": "y"
         },
         {
          "font": {
           "color": "#FFFFFF"
          },
          "showarrow": false,
          "text": "-0.12",
          "x": "Draws",
          "xref": "x",
          "y": "Losses",
          "yref": "y"
         },
         {
          "font": {
           "color": "#000000"
          },
          "showarrow": false,
          "text": "1.0",
          "x": "Losses",
          "xref": "x",
          "y": "Losses",
          "yref": "y"
         },
         {
          "font": {
           "color": "#FFFFFF"
          },
          "showarrow": false,
          "text": "-0.9",
          "x": "Points",
          "xref": "x",
          "y": "Losses",
          "yref": "y"
         },
         {
          "font": {
           "color": "#FFFFFF"
          },
          "showarrow": false,
          "text": "-0.66",
          "x": "GF",
          "xref": "x",
          "y": "Losses",
          "yref": "y"
         },
         {
          "font": {
           "color": "#000000"
          },
          "showarrow": false,
          "text": "0.81",
          "x": "GA",
          "xref": "x",
          "y": "Losses",
          "yref": "y"
         },
         {
          "font": {
           "color": "#FFFFFF"
          },
          "showarrow": false,
          "text": "-0.19",
          "x": "Arrivals",
          "xref": "x",
          "y": "Losses",
          "yref": "y"
         },
         {
          "font": {
           "color": "#FFFFFF"
          },
          "showarrow": false,
          "text": "-0.5",
          "x": "Expenditure",
          "xref": "x",
          "y": "Losses",
          "yref": "y"
         },
         {
          "font": {
           "color": "#FFFFFF"
          },
          "showarrow": false,
          "text": "-0.01",
          "x": "Departures",
          "xref": "x",
          "y": "Losses",
          "yref": "y"
         },
         {
          "font": {
           "color": "#FFFFFF"
          },
          "showarrow": false,
          "text": "-0.29",
          "x": "Income",
          "xref": "x",
          "y": "Losses",
          "yref": "y"
         },
         {
          "font": {
           "color": "#FFFFFF"
          },
          "showarrow": false,
          "text": "-0.19",
          "x": "Balance",
          "xref": "x",
          "y": "Losses",
          "yref": "y"
         },
         {
          "font": {
           "color": "#FFFFFF"
          },
          "showarrow": false,
          "text": "0.01",
          "x": "Squad",
          "xref": "x",
          "y": "Losses",
          "yref": "y"
         },
         {
          "font": {
           "color": "#000000"
          },
          "showarrow": false,
          "text": "0.17",
          "x": "Average_age",
          "xref": "x",
          "y": "Losses",
          "yref": "y"
         },
         {
          "font": {
           "color": "#FFFFFF"
          },
          "showarrow": false,
          "text": "-0.57",
          "x": "Market_value",
          "xref": "x",
          "y": "Losses",
          "yref": "y"
         },
         {
          "font": {
           "color": "#FFFFFF"
          },
          "showarrow": false,
          "text": "-0.62",
          "x": "Pts_year_before",
          "xref": "x",
          "y": "Losses",
          "yref": "y"
         },
         {
          "font": {
           "color": "#FFFFFF"
          },
          "showarrow": false,
          "text": "0.01",
          "x": "Season",
          "xref": "x",
          "y": "Points",
          "yref": "y"
         },
         {
          "font": {
           "color": "#FFFFFF"
          },
          "showarrow": false,
          "text": "-0.0",
          "x": "Matches",
          "xref": "x",
          "y": "Points",
          "yref": "y"
         },
         {
          "font": {
           "color": "#000000"
          },
          "showarrow": false,
          "text": "0.96",
          "x": "Wins",
          "xref": "x",
          "y": "Points",
          "yref": "y"
         },
         {
          "font": {
           "color": "#FFFFFF"
          },
          "showarrow": false,
          "text": "-0.17",
          "x": "Draws",
          "xref": "x",
          "y": "Points",
          "yref": "y"
         },
         {
          "font": {
           "color": "#FFFFFF"
          },
          "showarrow": false,
          "text": "-0.9",
          "x": "Losses",
          "xref": "x",
          "y": "Points",
          "yref": "y"
         },
         {
          "font": {
           "color": "#000000"
          },
          "showarrow": false,
          "text": "1.0",
          "x": "Points",
          "xref": "x",
          "y": "Points",
          "yref": "y"
         },
         {
          "font": {
           "color": "#000000"
          },
          "showarrow": false,
          "text": "0.83",
          "x": "GF",
          "xref": "x",
          "y": "Points",
          "yref": "y"
         },
         {
          "font": {
           "color": "#FFFFFF"
          },
          "showarrow": false,
          "text": "-0.73",
          "x": "GA",
          "xref": "x",
          "y": "Points",
          "yref": "y"
         },
         {
          "font": {
           "color": "#000000"
          },
          "showarrow": false,
          "text": "0.16",
          "x": "Arrivals",
          "xref": "x",
          "y": "Points",
          "yref": "y"
         },
         {
          "font": {
           "color": "#000000"
          },
          "showarrow": false,
          "text": "0.57",
          "x": "Expenditure",
          "xref": "x",
          "y": "Points",
          "yref": "y"
         },
         {
          "font": {
           "color": "#FFFFFF"
          },
          "showarrow": false,
          "text": "-0.02",
          "x": "Departures",
          "xref": "x",
          "y": "Points",
          "yref": "y"
         },
         {
          "font": {
           "color": "#000000"
          },
          "showarrow": false,
          "text": "0.29",
          "x": "Income",
          "xref": "x",
          "y": "Points",
          "yref": "y"
         },
         {
          "font": {
           "color": "#000000"
          },
          "showarrow": false,
          "text": "0.26",
          "x": "Balance",
          "xref": "x",
          "y": "Points",
          "yref": "y"
         },
         {
          "font": {
           "color": "#FFFFFF"
          },
          "showarrow": false,
          "text": "0.04",
          "x": "Squad",
          "xref": "x",
          "y": "Points",
          "yref": "y"
         },
         {
          "font": {
           "color": "#FFFFFF"
          },
          "showarrow": false,
          "text": "-0.17",
          "x": "Average_age",
          "xref": "x",
          "y": "Points",
          "yref": "y"
         },
         {
          "font": {
           "color": "#000000"
          },
          "showarrow": false,
          "text": "0.69",
          "x": "Market_value",
          "xref": "x",
          "y": "Points",
          "yref": "y"
         },
         {
          "font": {
           "color": "#000000"
          },
          "showarrow": false,
          "text": "0.73",
          "x": "Pts_year_before",
          "xref": "x",
          "y": "Points",
          "yref": "y"
         },
         {
          "font": {
           "color": "#FFFFFF"
          },
          "showarrow": false,
          "text": "-0.03",
          "x": "Season",
          "xref": "x",
          "y": "GF",
          "yref": "y"
         },
         {
          "font": {
           "color": "#000000"
          },
          "showarrow": false,
          "text": "0.26",
          "x": "Matches",
          "xref": "x",
          "y": "GF",
          "yref": "y"
         },
         {
          "font": {
           "color": "#000000"
          },
          "showarrow": false,
          "text": "0.87",
          "x": "Wins",
          "xref": "x",
          "y": "GF",
          "yref": "y"
         },
         {
          "font": {
           "color": "#FFFFFF"
          },
          "showarrow": false,
          "text": "-0.17",
          "x": "Draws",
          "xref": "x",
          "y": "GF",
          "yref": "y"
         },
         {
          "font": {
           "color": "#FFFFFF"
          },
          "showarrow": false,
          "text": "-0.66",
          "x": "Losses",
          "xref": "x",
          "y": "GF",
          "yref": "y"
         },
         {
          "font": {
           "color": "#000000"
          },
          "showarrow": false,
          "text": "0.83",
          "x": "Points",
          "xref": "x",
          "y": "GF",
          "yref": "y"
         },
         {
          "font": {
           "color": "#000000"
          },
          "showarrow": false,
          "text": "1.0",
          "x": "GF",
          "xref": "x",
          "y": "GF",
          "yref": "y"
         },
         {
          "font": {
           "color": "#FFFFFF"
          },
          "showarrow": false,
          "text": "-0.34",
          "x": "GA",
          "xref": "x",
          "y": "GF",
          "yref": "y"
         },
         {
          "font": {
           "color": "#000000"
          },
          "showarrow": false,
          "text": "0.13",
          "x": "Arrivals",
          "xref": "x",
          "y": "GF",
          "yref": "y"
         },
         {
          "font": {
           "color": "#000000"
          },
          "showarrow": false,
          "text": "0.57",
          "x": "Expenditure",
          "xref": "x",
          "y": "GF",
          "yref": "y"
         },
         {
          "font": {
           "color": "#FFFFFF"
          },
          "showarrow": false,
          "text": "-0.03",
          "x": "Departures",
          "xref": "x",
          "y": "GF",
          "yref": "y"
         },
         {
          "font": {
           "color": "#000000"
          },
          "showarrow": false,
          "text": "0.22",
          "x": "Income",
          "xref": "x",
          "y": "GF",
          "yref": "y"
         },
         {
          "font": {
           "color": "#000000"
          },
          "showarrow": false,
          "text": "0.34",
          "x": "Balance",
          "xref": "x",
          "y": "GF",
          "yref": "y"
         },
         {
          "font": {
           "color": "#000000"
          },
          "showarrow": false,
          "text": "0.09",
          "x": "Squad",
          "xref": "x",
          "y": "GF",
          "yref": "y"
         },
         {
          "font": {
           "color": "#FFFFFF"
          },
          "showarrow": false,
          "text": "-0.12",
          "x": "Average_age",
          "xref": "x",
          "y": "GF",
          "yref": "y"
         },
         {
          "font": {
           "color": "#000000"
          },
          "showarrow": false,
          "text": "0.72",
          "x": "Market_value",
          "xref": "x",
          "y": "GF",
          "yref": "y"
         },
         {
          "font": {
           "color": "#000000"
          },
          "showarrow": false,
          "text": "0.66",
          "x": "Pts_year_before",
          "xref": "x",
          "y": "GF",
          "yref": "y"
         },
         {
          "font": {
           "color": "#FFFFFF"
          },
          "showarrow": false,
          "text": "-0.04",
          "x": "Season",
          "xref": "x",
          "y": "GA",
          "yref": "y"
         },
         {
          "font": {
           "color": "#000000"
          },
          "showarrow": false,
          "text": "0.34",
          "x": "Matches",
          "xref": "x",
          "y": "GA",
          "yref": "y"
         },
         {
          "font": {
           "color": "#FFFFFF"
          },
          "showarrow": false,
          "text": "-0.61",
          "x": "Wins",
          "xref": "x",
          "y": "GA",
          "yref": "y"
         },
         {
          "font": {
           "color": "#FFFFFF"
          },
          "showarrow": false,
          "text": "0.03",
          "x": "Draws",
          "xref": "x",
          "y": "GA",
          "yref": "y"
         },
         {
          "font": {
           "color": "#000000"
          },
          "showarrow": false,
          "text": "0.81",
          "x": "Losses",
          "xref": "x",
          "y": "GA",
          "yref": "y"
         },
         {
          "font": {
           "color": "#FFFFFF"
          },
          "showarrow": false,
          "text": "-0.73",
          "x": "Points",
          "xref": "x",
          "y": "GA",
          "yref": "y"
         },
         {
          "font": {
           "color": "#FFFFFF"
          },
          "showarrow": false,
          "text": "-0.34",
          "x": "GF",
          "xref": "x",
          "y": "GA",
          "yref": "y"
         },
         {
          "font": {
           "color": "#000000"
          },
          "showarrow": false,
          "text": "1.0",
          "x": "GA",
          "xref": "x",
          "y": "GA",
          "yref": "y"
         },
         {
          "font": {
           "color": "#FFFFFF"
          },
          "showarrow": false,
          "text": "-0.1",
          "x": "Arrivals",
          "xref": "x",
          "y": "GA",
          "yref": "y"
         },
         {
          "font": {
           "color": "#FFFFFF"
          },
          "showarrow": false,
          "text": "-0.38",
          "x": "Expenditure",
          "xref": "x",
          "y": "GA",
          "yref": "y"
         },
         {
          "font": {
           "color": "#FFFFFF"
          },
          "showarrow": false,
          "text": "0.01",
          "x": "Departures",
          "xref": "x",
          "y": "GA",
          "yref": "y"
         },
         {
          "font": {
           "color": "#FFFFFF"
          },
          "showarrow": false,
          "text": "-0.25",
          "x": "Income",
          "xref": "x",
          "y": "GA",
          "yref": "y"
         },
         {
          "font": {
           "color": "#FFFFFF"
          },
          "showarrow": false,
          "text": "-0.12",
          "x": "Balance",
          "xref": "x",
          "y": "GA",
          "yref": "y"
         },
         {
          "font": {
           "color": "#000000"
          },
          "showarrow": false,
          "text": "0.07",
          "x": "Squad",
          "xref": "x",
          "y": "GA",
          "yref": "y"
         },
         {
          "font": {
           "color": "#000000"
          },
          "showarrow": false,
          "text": "0.13",
          "x": "Average_age",
          "xref": "x",
          "y": "GA",
          "yref": "y"
         },
         {
          "font": {
           "color": "#FFFFFF"
          },
          "showarrow": false,
          "text": "-0.45",
          "x": "Market_value",
          "xref": "x",
          "y": "GA",
          "yref": "y"
         },
         {
          "font": {
           "color": "#FFFFFF"
          },
          "showarrow": false,
          "text": "-0.52",
          "x": "Pts_year_before",
          "xref": "x",
          "y": "GA",
          "yref": "y"
         },
         {
          "font": {
           "color": "#000000"
          },
          "showarrow": false,
          "text": "0.31",
          "x": "Season",
          "xref": "x",
          "y": "Arrivals",
          "yref": "y"
         },
         {
          "font": {
           "color": "#FFFFFF"
          },
          "showarrow": false,
          "text": "-0.14",
          "x": "Matches",
          "xref": "x",
          "y": "Arrivals",
          "yref": "y"
         },
         {
          "font": {
           "color": "#000000"
          },
          "showarrow": false,
          "text": "0.14",
          "x": "Wins",
          "xref": "x",
          "y": "Arrivals",
          "yref": "y"
         },
         {
          "font": {
           "color": "#FFFFFF"
          },
          "showarrow": false,
          "text": "-0.07",
          "x": "Draws",
          "xref": "x",
          "y": "Arrivals",
          "yref": "y"
         },
         {
          "font": {
           "color": "#FFFFFF"
          },
          "showarrow": false,
          "text": "-0.19",
          "x": "Losses",
          "xref": "x",
          "y": "Arrivals",
          "yref": "y"
         },
         {
          "font": {
           "color": "#000000"
          },
          "showarrow": false,
          "text": "0.16",
          "x": "Points",
          "xref": "x",
          "y": "Arrivals",
          "yref": "y"
         },
         {
          "font": {
           "color": "#000000"
          },
          "showarrow": false,
          "text": "0.13",
          "x": "GF",
          "xref": "x",
          "y": "Arrivals",
          "yref": "y"
         },
         {
          "font": {
           "color": "#FFFFFF"
          },
          "showarrow": false,
          "text": "-0.1",
          "x": "GA",
          "xref": "x",
          "y": "Arrivals",
          "yref": "y"
         },
         {
          "font": {
           "color": "#000000"
          },
          "showarrow": false,
          "text": "1.0",
          "x": "Arrivals",
          "xref": "x",
          "y": "Arrivals",
          "yref": "y"
         },
         {
          "font": {
           "color": "#000000"
          },
          "showarrow": false,
          "text": "0.39",
          "x": "Expenditure",
          "xref": "x",
          "y": "Arrivals",
          "yref": "y"
         },
         {
          "font": {
           "color": "#000000"
          },
          "showarrow": false,
          "text": "0.78",
          "x": "Departures",
          "xref": "x",
          "y": "Arrivals",
          "yref": "y"
         },
         {
          "font": {
           "color": "#000000"
          },
          "showarrow": false,
          "text": "0.48",
          "x": "Income",
          "xref": "x",
          "y": "Arrivals",
          "yref": "y"
         },
         {
          "font": {
           "color": "#FFFFFF"
          },
          "showarrow": false,
          "text": "-0.14",
          "x": "Balance",
          "xref": "x",
          "y": "Arrivals",
          "yref": "y"
         },
         {
          "font": {
           "color": "#000000"
          },
          "showarrow": false,
          "text": "0.4",
          "x": "Squad",
          "xref": "x",
          "y": "Arrivals",
          "yref": "y"
         },
         {
          "font": {
           "color": "#FFFFFF"
          },
          "showarrow": false,
          "text": "-0.24",
          "x": "Average_age",
          "xref": "x",
          "y": "Arrivals",
          "yref": "y"
         },
         {
          "font": {
           "color": "#000000"
          },
          "showarrow": false,
          "text": "0.3",
          "x": "Market_value",
          "xref": "x",
          "y": "Arrivals",
          "yref": "y"
         },
         {
          "font": {
           "color": "#000000"
          },
          "showarrow": false,
          "text": "0.14",
          "x": "Pts_year_before",
          "xref": "x",
          "y": "Arrivals",
          "yref": "y"
         },
         {
          "font": {
           "color": "#000000"
          },
          "showarrow": false,
          "text": "0.22",
          "x": "Season",
          "xref": "x",
          "y": "Expenditure",
          "yref": "y"
         },
         {
          "font": {
           "color": "#FFFFFF"
          },
          "showarrow": false,
          "text": "-0.16",
          "x": "Matches",
          "xref": "x",
          "y": "Expenditure",
          "yref": "y"
         },
         {
          "font": {
           "color": "#000000"
          },
          "showarrow": false,
          "text": "0.54",
          "x": "Wins",
          "xref": "x",
          "y": "Expenditure",
          "yref": "y"
         },
         {
          "font": {
           "color": "#FFFFFF"
          },
          "showarrow": false,
          "text": "-0.27",
          "x": "Draws",
          "xref": "x",
          "y": "Expenditure",
          "yref": "y"
         },
         {
          "font": {
           "color": "#FFFFFF"
          },
          "showarrow": false,
          "text": "-0.5",
          "x": "Losses",
          "xref": "x",
          "y": "Expenditure",
          "yref": "y"
         },
         {
          "font": {
           "color": "#000000"
          },
          "showarrow": false,
          "text": "0.57",
          "x": "Points",
          "xref": "x",
          "y": "Expenditure",
          "yref": "y"
         },
         {
          "font": {
           "color": "#000000"
          },
          "showarrow": false,
          "text": "0.57",
          "x": "GF",
          "xref": "x",
          "y": "Expenditure",
          "yref": "y"
         },
         {
          "font": {
           "color": "#FFFFFF"
          },
          "showarrow": false,
          "text": "-0.38",
          "x": "GA",
          "xref": "x",
          "y": "Expenditure",
          "yref": "y"
         },
         {
          "font": {
           "color": "#000000"
          },
          "showarrow": false,
          "text": "0.39",
          "x": "Arrivals",
          "xref": "x",
          "y": "Expenditure",
          "yref": "y"
         },
         {
          "font": {
           "color": "#000000"
          },
          "showarrow": false,
          "text": "1.0",
          "x": "Expenditure",
          "xref": "x",
          "y": "Expenditure",
          "yref": "y"
         },
         {
          "font": {
           "color": "#000000"
          },
          "showarrow": false,
          "text": "0.2",
          "x": "Departures",
          "xref": "x",
          "y": "Expenditure",
          "yref": "y"
         },
         {
          "font": {
           "color": "#000000"
          },
          "showarrow": false,
          "text": "0.56",
          "x": "Income",
          "xref": "x",
          "y": "Expenditure",
          "yref": "y"
         },
         {
          "font": {
           "color": "#000000"
          },
          "showarrow": false,
          "text": "0.4",
          "x": "Balance",
          "xref": "x",
          "y": "Expenditure",
          "yref": "y"
         },
         {
          "font": {
           "color": "#000000"
          },
          "showarrow": false,
          "text": "0.18",
          "x": "Squad",
          "xref": "x",
          "y": "Expenditure",
          "yref": "y"
         },
         {
          "font": {
           "color": "#FFFFFF"
          },
          "showarrow": false,
          "text": "-0.15",
          "x": "Average_age",
          "xref": "x",
          "y": "Expenditure",
          "yref": "y"
         },
         {
          "font": {
           "color": "#000000"
          },
          "showarrow": false,
          "text": "0.82",
          "x": "Market_value",
          "xref": "x",
          "y": "Expenditure",
          "yref": "y"
         },
         {
          "font": {
           "color": "#000000"
          },
          "showarrow": false,
          "text": "0.6",
          "x": "Pts_year_before",
          "xref": "x",
          "y": "Expenditure",
          "yref": "y"
         },
         {
          "font": {
           "color": "#000000"
          },
          "showarrow": false,
          "text": "0.29",
          "x": "Season",
          "xref": "x",
          "y": "Departures",
          "yref": "y"
         },
         {
          "font": {
           "color": "#FFFFFF"
          },
          "showarrow": false,
          "text": "-0.14",
          "x": "Matches",
          "xref": "x",
          "y": "Departures",
          "yref": "y"
         },
         {
          "font": {
           "color": "#FFFFFF"
          },
          "showarrow": false,
          "text": "-0.04",
          "x": "Wins",
          "xref": "x",
          "y": "Departures",
          "yref": "y"
         },
         {
          "font": {
           "color": "#FFFFFF"
          },
          "showarrow": false,
          "text": "-0.04",
          "x": "Draws",
          "xref": "x",
          "y": "Departures",
          "yref": "y"
         },
         {
          "font": {
           "color": "#FFFFFF"
          },
          "showarrow": false,
          "text": "-0.01",
          "x": "Losses",
          "xref": "x",
          "y": "Departures",
          "yref": "y"
         },
         {
          "font": {
           "color": "#FFFFFF"
          },
          "showarrow": false,
          "text": "-0.02",
          "x": "Points",
          "xref": "x",
          "y": "Departures",
          "yref": "y"
         },
         {
          "font": {
           "color": "#FFFFFF"
          },
          "showarrow": false,
          "text": "-0.03",
          "x": "GF",
          "xref": "x",
          "y": "Departures",
          "yref": "y"
         },
         {
          "font": {
           "color": "#FFFFFF"
          },
          "showarrow": false,
          "text": "0.01",
          "x": "GA",
          "xref": "x",
          "y": "Departures",
          "yref": "y"
         },
         {
          "font": {
           "color": "#000000"
          },
          "showarrow": false,
          "text": "0.78",
          "x": "Arrivals",
          "xref": "x",
          "y": "Departures",
          "yref": "y"
         },
         {
          "font": {
           "color": "#000000"
          },
          "showarrow": false,
          "text": "0.2",
          "x": "Expenditure",
          "xref": "x",
          "y": "Departures",
          "yref": "y"
         },
         {
          "font": {
           "color": "#000000"
          },
          "showarrow": false,
          "text": "1.0",
          "x": "Departures",
          "xref": "x",
          "y": "Departures",
          "yref": "y"
         },
         {
          "font": {
           "color": "#000000"
          },
          "showarrow": false,
          "text": "0.3",
          "x": "Income",
          "xref": "x",
          "y": "Departures",
          "yref": "y"
         },
         {
          "font": {
           "color": "#FFFFFF"
          },
          "showarrow": false,
          "text": "-0.12",
          "x": "Balance",
          "xref": "x",
          "y": "Departures",
          "yref": "y"
         },
         {
          "font": {
           "color": "#000000"
          },
          "showarrow": false,
          "text": "0.29",
          "x": "Squad",
          "xref": "x",
          "y": "Departures",
          "yref": "y"
         },
         {
          "font": {
           "color": "#FFFFFF"
          },
          "showarrow": false,
          "text": "-0.19",
          "x": "Average_age",
          "xref": "x",
          "y": "Departures",
          "yref": "y"
         },
         {
          "font": {
           "color": "#000000"
          },
          "showarrow": false,
          "text": "0.12",
          "x": "Market_value",
          "xref": "x",
          "y": "Departures",
          "yref": "y"
         },
         {
          "font": {
           "color": "#FFFFFF"
          },
          "showarrow": false,
          "text": "-0.07",
          "x": "Pts_year_before",
          "xref": "x",
          "y": "Departures",
          "yref": "y"
         },
         {
          "font": {
           "color": "#000000"
          },
          "showarrow": false,
          "text": "0.27",
          "x": "Season",
          "xref": "x",
          "y": "Income",
          "yref": "y"
         },
         {
          "font": {
           "color": "#FFFFFF"
          },
          "showarrow": false,
          "text": "-0.19",
          "x": "Matches",
          "xref": "x",
          "y": "Income",
          "yref": "y"
         },
         {
          "font": {
           "color": "#000000"
          },
          "showarrow": false,
          "text": "0.23",
          "x": "Wins",
          "xref": "x",
          "y": "Income",
          "yref": "y"
         },
         {
          "font": {
           "color": "#FFFFFF"
          },
          "showarrow": false,
          "text": "-0.11",
          "x": "Draws",
          "xref": "x",
          "y": "Income",
          "yref": "y"
         },
         {
          "font": {
           "color": "#FFFFFF"
          },
          "showarrow": false,
          "text": "-0.29",
          "x": "Losses",
          "xref": "x",
          "y": "Income",
          "yref": "y"
         },
         {
          "font": {
           "color": "#000000"
          },
          "showarrow": false,
          "text": "0.29",
          "x": "Points",
          "xref": "x",
          "y": "Income",
          "yref": "y"
         },
         {
          "font": {
           "color": "#000000"
          },
          "showarrow": false,
          "text": "0.22",
          "x": "GF",
          "xref": "x",
          "y": "Income",
          "yref": "y"
         },
         {
          "font": {
           "color": "#FFFFFF"
          },
          "showarrow": false,
          "text": "-0.25",
          "x": "GA",
          "xref": "x",
          "y": "Income",
          "yref": "y"
         },
         {
          "font": {
           "color": "#000000"
          },
          "showarrow": false,
          "text": "0.48",
          "x": "Arrivals",
          "xref": "x",
          "y": "Income",
          "yref": "y"
         },
         {
          "font": {
           "color": "#000000"
          },
          "showarrow": false,
          "text": "0.56",
          "x": "Expenditure",
          "xref": "x",
          "y": "Income",
          "yref": "y"
         },
         {
          "font": {
           "color": "#000000"
          },
          "showarrow": false,
          "text": "0.3",
          "x": "Departures",
          "xref": "x",
          "y": "Income",
          "yref": "y"
         },
         {
          "font": {
           "color": "#000000"
          },
          "showarrow": false,
          "text": "1.0",
          "x": "Income",
          "xref": "x",
          "y": "Income",
          "yref": "y"
         },
         {
          "font": {
           "color": "#FFFFFF"
          },
          "showarrow": false,
          "text": "-0.53",
          "x": "Balance",
          "xref": "x",
          "y": "Income",
          "yref": "y"
         },
         {
          "font": {
           "color": "#000000"
          },
          "showarrow": false,
          "text": "0.29",
          "x": "Squad",
          "xref": "x",
          "y": "Income",
          "yref": "y"
         },
         {
          "font": {
           "color": "#FFFFFF"
          },
          "showarrow": false,
          "text": "-0.31",
          "x": "Average_age",
          "xref": "x",
          "y": "Income",
          "yref": "y"
         },
         {
          "font": {
           "color": "#000000"
          },
          "showarrow": false,
          "text": "0.54",
          "x": "Market_value",
          "xref": "x",
          "y": "Income",
          "yref": "y"
         },
         {
          "font": {
           "color": "#000000"
          },
          "showarrow": false,
          "text": "0.44",
          "x": "Pts_year_before",
          "xref": "x",
          "y": "Income",
          "yref": "y"
         },
         {
          "font": {
           "color": "#FFFFFF"
          },
          "showarrow": false,
          "text": "-0.07",
          "x": "Season",
          "xref": "x",
          "y": "Balance",
          "yref": "y"
         },
         {
          "font": {
           "color": "#000000"
          },
          "showarrow": false,
          "text": "0.05",
          "x": "Matches",
          "xref": "x",
          "y": "Balance",
          "yref": "y"
         },
         {
          "font": {
           "color": "#000000"
          },
          "showarrow": false,
          "text": "0.29",
          "x": "Wins",
          "xref": "x",
          "y": "Balance",
          "yref": "y"
         },
         {
          "font": {
           "color": "#FFFFFF"
          },
          "showarrow": false,
          "text": "-0.15",
          "x": "Draws",
          "xref": "x",
          "y": "Balance",
          "yref": "y"
         },
         {
          "font": {
           "color": "#FFFFFF"
          },
          "showarrow": false,
          "text": "-0.19",
          "x": "Losses",
          "xref": "x",
          "y": "Balance",
          "yref": "y"
         },
         {
          "font": {
           "color": "#000000"
          },
          "showarrow": false,
          "text": "0.26",
          "x": "Points",
          "xref": "x",
          "y": "Balance",
          "yref": "y"
         },
         {
          "font": {
           "color": "#000000"
          },
          "showarrow": false,
          "text": "0.34",
          "x": "GF",
          "xref": "x",
          "y": "Balance",
          "yref": "y"
         },
         {
          "font": {
           "color": "#FFFFFF"
          },
          "showarrow": false,
          "text": "-0.12",
          "x": "GA",
          "xref": "x",
          "y": "Balance",
          "yref": "y"
         },
         {
          "font": {
           "color": "#FFFFFF"
          },
          "showarrow": false,
          "text": "-0.14",
          "x": "Arrivals",
          "xref": "x",
          "y": "Balance",
          "yref": "y"
         },
         {
          "font": {
           "color": "#000000"
          },
          "showarrow": false,
          "text": "0.4",
          "x": "Expenditure",
          "xref": "x",
          "y": "Balance",
          "yref": "y"
         },
         {
          "font": {
           "color": "#FFFFFF"
          },
          "showarrow": false,
          "text": "-0.12",
          "x": "Departures",
          "xref": "x",
          "y": "Balance",
          "yref": "y"
         },
         {
          "font": {
           "color": "#FFFFFF"
          },
          "showarrow": false,
          "text": "-0.53",
          "x": "Income",
          "xref": "x",
          "y": "Balance",
          "yref": "y"
         },
         {
          "font": {
           "color": "#000000"
          },
          "showarrow": false,
          "text": "1.0",
          "x": "Balance",
          "xref": "x",
          "y": "Balance",
          "yref": "y"
         },
         {
          "font": {
           "color": "#FFFFFF"
          },
          "showarrow": false,
          "text": "-0.14",
          "x": "Squad",
          "xref": "x",
          "y": "Balance",
          "yref": "y"
         },
         {
          "font": {
           "color": "#000000"
          },
          "showarrow": false,
          "text": "0.2",
          "x": "Average_age",
          "xref": "x",
          "y": "Balance",
          "yref": "y"
         },
         {
          "font": {
           "color": "#000000"
          },
          "showarrow": false,
          "text": "0.24",
          "x": "Market_value",
          "xref": "x",
          "y": "Balance",
          "yref": "y"
         },
         {
          "font": {
           "color": "#000000"
          },
          "showarrow": false,
          "text": "0.12",
          "x": "Pts_year_before",
          "xref": "x",
          "y": "Balance",
          "yref": "y"
         },
         {
          "font": {
           "color": "#000000"
          },
          "showarrow": false,
          "text": "0.07",
          "x": "Season",
          "xref": "x",
          "y": "Squad",
          "yref": "y"
         },
         {
          "font": {
           "color": "#000000"
          },
          "showarrow": false,
          "text": "0.14",
          "x": "Matches",
          "xref": "x",
          "y": "Squad",
          "yref": "y"
         },
         {
          "font": {
           "color": "#000000"
          },
          "showarrow": false,
          "text": "0.08",
          "x": "Wins",
          "xref": "x",
          "y": "Squad",
          "yref": "y"
         },
         {
          "font": {
           "color": "#FFFFFF"
          },
          "showarrow": false,
          "text": "-0.02",
          "x": "Draws",
          "xref": "x",
          "y": "Squad",
          "yref": "y"
         },
         {
          "font": {
           "color": "#FFFFFF"
          },
          "showarrow": false,
          "text": "0.01",
          "x": "Losses",
          "xref": "x",
          "y": "Squad",
          "yref": "y"
         },
         {
          "font": {
           "color": "#FFFFFF"
          },
          "showarrow": false,
          "text": "0.04",
          "x": "Points",
          "xref": "x",
          "y": "Squad",
          "yref": "y"
         },
         {
          "font": {
           "color": "#000000"
          },
          "showarrow": false,
          "text": "0.09",
          "x": "GF",
          "xref": "x",
          "y": "Squad",
          "yref": "y"
         },
         {
          "font": {
           "color": "#000000"
          },
          "showarrow": false,
          "text": "0.07",
          "x": "GA",
          "xref": "x",
          "y": "Squad",
          "yref": "y"
         },
         {
          "font": {
           "color": "#000000"
          },
          "showarrow": false,
          "text": "0.4",
          "x": "Arrivals",
          "xref": "x",
          "y": "Squad",
          "yref": "y"
         },
         {
          "font": {
           "color": "#000000"
          },
          "showarrow": false,
          "text": "0.18",
          "x": "Expenditure",
          "xref": "x",
          "y": "Squad",
          "yref": "y"
         },
         {
          "font": {
           "color": "#000000"
          },
          "showarrow": false,
          "text": "0.29",
          "x": "Departures",
          "xref": "x",
          "y": "Squad",
          "yref": "y"
         },
         {
          "font": {
           "color": "#000000"
          },
          "showarrow": false,
          "text": "0.29",
          "x": "Income",
          "xref": "x",
          "y": "Squad",
          "yref": "y"
         },
         {
          "font": {
           "color": "#FFFFFF"
          },
          "showarrow": false,
          "text": "-0.14",
          "x": "Balance",
          "xref": "x",
          "y": "Squad",
          "yref": "y"
         },
         {
          "font": {
           "color": "#000000"
          },
          "showarrow": false,
          "text": "1.0",
          "x": "Squad",
          "xref": "x",
          "y": "Squad",
          "yref": "y"
         },
         {
          "font": {
           "color": "#FFFFFF"
          },
          "showarrow": false,
          "text": "-0.43",
          "x": "Average_age",
          "xref": "x",
          "y": "Squad",
          "yref": "y"
         },
         {
          "font": {
           "color": "#000000"
          },
          "showarrow": false,
          "text": "0.21",
          "x": "Market_value",
          "xref": "x",
          "y": "Squad",
          "yref": "y"
         },
         {
          "font": {
           "color": "#000000"
          },
          "showarrow": false,
          "text": "0.2",
          "x": "Pts_year_before",
          "xref": "x",
          "y": "Squad",
          "yref": "y"
         },
         {
          "font": {
           "color": "#FFFFFF"
          },
          "showarrow": false,
          "text": "-0.16",
          "x": "Season",
          "xref": "x",
          "y": "Average_age",
          "yref": "y"
         },
         {
          "font": {
           "color": "#FFFFFF"
          },
          "showarrow": false,
          "text": "0.05",
          "x": "Matches",
          "xref": "x",
          "y": "Average_age",
          "yref": "y"
         },
         {
          "font": {
           "color": "#FFFFFF"
          },
          "showarrow": false,
          "text": "-0.17",
          "x": "Wins",
          "xref": "x",
          "y": "Average_age",
          "yref": "y"
         },
         {
          "font": {
           "color": "#000000"
          },
          "showarrow": false,
          "text": "0.06",
          "x": "Draws",
          "xref": "x",
          "y": "Average_age",
          "yref": "y"
         },
         {
          "font": {
           "color": "#000000"
          },
          "showarrow": false,
          "text": "0.17",
          "x": "Losses",
          "xref": "x",
          "y": "Average_age",
          "yref": "y"
         },
         {
          "font": {
           "color": "#FFFFFF"
          },
          "showarrow": false,
          "text": "-0.17",
          "x": "Points",
          "xref": "x",
          "y": "Average_age",
          "yref": "y"
         },
         {
          "font": {
           "color": "#FFFFFF"
          },
          "showarrow": false,
          "text": "-0.12",
          "x": "GF",
          "xref": "x",
          "y": "Average_age",
          "yref": "y"
         },
         {
          "font": {
           "color": "#000000"
          },
          "showarrow": false,
          "text": "0.13",
          "x": "GA",
          "xref": "x",
          "y": "Average_age",
          "yref": "y"
         },
         {
          "font": {
           "color": "#FFFFFF"
          },
          "showarrow": false,
          "text": "-0.24",
          "x": "Arrivals",
          "xref": "x",
          "y": "Average_age",
          "yref": "y"
         },
         {
          "font": {
           "color": "#FFFFFF"
          },
          "showarrow": false,
          "text": "-0.15",
          "x": "Expenditure",
          "xref": "x",
          "y": "Average_age",
          "yref": "y"
         },
         {
          "font": {
           "color": "#FFFFFF"
          },
          "showarrow": false,
          "text": "-0.19",
          "x": "Departures",
          "xref": "x",
          "y": "Average_age",
          "yref": "y"
         },
         {
          "font": {
           "color": "#FFFFFF"
          },
          "showarrow": false,
          "text": "-0.31",
          "x": "Income",
          "xref": "x",
          "y": "Average_age",
          "yref": "y"
         },
         {
          "font": {
           "color": "#000000"
          },
          "showarrow": false,
          "text": "0.2",
          "x": "Balance",
          "xref": "x",
          "y": "Average_age",
          "yref": "y"
         },
         {
          "font": {
           "color": "#FFFFFF"
          },
          "showarrow": false,
          "text": "-0.43",
          "x": "Squad",
          "xref": "x",
          "y": "Average_age",
          "yref": "y"
         },
         {
          "font": {
           "color": "#000000"
          },
          "showarrow": false,
          "text": "1.0",
          "x": "Average_age",
          "xref": "x",
          "y": "Average_age",
          "yref": "y"
         },
         {
          "font": {
           "color": "#FFFFFF"
          },
          "showarrow": false,
          "text": "-0.24",
          "x": "Market_value",
          "xref": "x",
          "y": "Average_age",
          "yref": "y"
         },
         {
          "font": {
           "color": "#FFFFFF"
          },
          "showarrow": false,
          "text": "-0.2",
          "x": "Pts_year_before",
          "xref": "x",
          "y": "Average_age",
          "yref": "y"
         },
         {
          "font": {
           "color": "#000000"
          },
          "showarrow": false,
          "text": "0.3",
          "x": "Season",
          "xref": "x",
          "y": "Market_value",
          "yref": "y"
         },
         {
          "font": {
           "color": "#FFFFFF"
          },
          "showarrow": false,
          "text": "-0.1",
          "x": "Matches",
          "xref": "x",
          "y": "Market_value",
          "yref": "y"
         },
         {
          "font": {
           "color": "#000000"
          },
          "showarrow": false,
          "text": "0.67",
          "x": "Wins",
          "xref": "x",
          "y": "Market_value",
          "yref": "y"
         },
         {
          "font": {
           "color": "#FFFFFF"
          },
          "showarrow": false,
          "text": "-0.32",
          "x": "Draws",
          "xref": "x",
          "y": "Market_value",
          "yref": "y"
         },
         {
          "font": {
           "color": "#FFFFFF"
          },
          "showarrow": false,
          "text": "-0.57",
          "x": "Losses",
          "xref": "x",
          "y": "Market_value",
          "yref": "y"
         },
         {
          "font": {
           "color": "#000000"
          },
          "showarrow": false,
          "text": "0.69",
          "x": "Points",
          "xref": "x",
          "y": "Market_value",
          "yref": "y"
         },
         {
          "font": {
           "color": "#000000"
          },
          "showarrow": false,
          "text": "0.72",
          "x": "GF",
          "xref": "x",
          "y": "Market_value",
          "yref": "y"
         },
         {
          "font": {
           "color": "#FFFFFF"
          },
          "showarrow": false,
          "text": "-0.45",
          "x": "GA",
          "xref": "x",
          "y": "Market_value",
          "yref": "y"
         },
         {
          "font": {
           "color": "#000000"
          },
          "showarrow": false,
          "text": "0.3",
          "x": "Arrivals",
          "xref": "x",
          "y": "Market_value",
          "yref": "y"
         },
         {
          "font": {
           "color": "#000000"
          },
          "showarrow": false,
          "text": "0.82",
          "x": "Expenditure",
          "xref": "x",
          "y": "Market_value",
          "yref": "y"
         },
         {
          "font": {
           "color": "#000000"
          },
          "showarrow": false,
          "text": "0.12",
          "x": "Departures",
          "xref": "x",
          "y": "Market_value",
          "yref": "y"
         },
         {
          "font": {
           "color": "#000000"
          },
          "showarrow": false,
          "text": "0.54",
          "x": "Income",
          "xref": "x",
          "y": "Market_value",
          "yref": "y"
         },
         {
          "font": {
           "color": "#000000"
          },
          "showarrow": false,
          "text": "0.24",
          "x": "Balance",
          "xref": "x",
          "y": "Market_value",
          "yref": "y"
         },
         {
          "font": {
           "color": "#000000"
          },
          "showarrow": false,
          "text": "0.21",
          "x": "Squad",
          "xref": "x",
          "y": "Market_value",
          "yref": "y"
         },
         {
          "font": {
           "color": "#FFFFFF"
          },
          "showarrow": false,
          "text": "-0.24",
          "x": "Average_age",
          "xref": "x",
          "y": "Market_value",
          "yref": "y"
         },
         {
          "font": {
           "color": "#000000"
          },
          "showarrow": false,
          "text": "1.0",
          "x": "Market_value",
          "xref": "x",
          "y": "Market_value",
          "yref": "y"
         },
         {
          "font": {
           "color": "#000000"
          },
          "showarrow": false,
          "text": "0.7",
          "x": "Pts_year_before",
          "xref": "x",
          "y": "Market_value",
          "yref": "y"
         },
         {
          "font": {
           "color": "#FFFFFF"
          },
          "showarrow": false,
          "text": "-0.01",
          "x": "Season",
          "xref": "x",
          "y": "Pts_year_before",
          "yref": "y"
         },
         {
          "font": {
           "color": "#FFFFFF"
          },
          "showarrow": false,
          "text": "0.03",
          "x": "Matches",
          "xref": "x",
          "y": "Pts_year_before",
          "yref": "y"
         },
         {
          "font": {
           "color": "#000000"
          },
          "showarrow": false,
          "text": "0.73",
          "x": "Wins",
          "xref": "x",
          "y": "Pts_year_before",
          "yref": "y"
         },
         {
          "font": {
           "color": "#FFFFFF"
          },
          "showarrow": false,
          "text": "-0.22",
          "x": "Draws",
          "xref": "x",
          "y": "Pts_year_before",
          "yref": "y"
         },
         {
          "font": {
           "color": "#FFFFFF"
          },
          "showarrow": false,
          "text": "-0.62",
          "x": "Losses",
          "xref": "x",
          "y": "Pts_year_before",
          "yref": "y"
         },
         {
          "font": {
           "color": "#000000"
          },
          "showarrow": false,
          "text": "0.73",
          "x": "Points",
          "xref": "x",
          "y": "Pts_year_before",
          "yref": "y"
         },
         {
          "font": {
           "color": "#000000"
          },
          "showarrow": false,
          "text": "0.66",
          "x": "GF",
          "xref": "x",
          "y": "Pts_year_before",
          "yref": "y"
         },
         {
          "font": {
           "color": "#FFFFFF"
          },
          "showarrow": false,
          "text": "-0.52",
          "x": "GA",
          "xref": "x",
          "y": "Pts_year_before",
          "yref": "y"
         },
         {
          "font": {
           "color": "#000000"
          },
          "showarrow": false,
          "text": "0.14",
          "x": "Arrivals",
          "xref": "x",
          "y": "Pts_year_before",
          "yref": "y"
         },
         {
          "font": {
           "color": "#000000"
          },
          "showarrow": false,
          "text": "0.6",
          "x": "Expenditure",
          "xref": "x",
          "y": "Pts_year_before",
          "yref": "y"
         },
         {
          "font": {
           "color": "#FFFFFF"
          },
          "showarrow": false,
          "text": "-0.07",
          "x": "Departures",
          "xref": "x",
          "y": "Pts_year_before",
          "yref": "y"
         },
         {
          "font": {
           "color": "#000000"
          },
          "showarrow": false,
          "text": "0.44",
          "x": "Income",
          "xref": "x",
          "y": "Pts_year_before",
          "yref": "y"
         },
         {
          "font": {
           "color": "#000000"
          },
          "showarrow": false,
          "text": "0.12",
          "x": "Balance",
          "xref": "x",
          "y": "Pts_year_before",
          "yref": "y"
         },
         {
          "font": {
           "color": "#000000"
          },
          "showarrow": false,
          "text": "0.2",
          "x": "Squad",
          "xref": "x",
          "y": "Pts_year_before",
          "yref": "y"
         },
         {
          "font": {
           "color": "#FFFFFF"
          },
          "showarrow": false,
          "text": "-0.2",
          "x": "Average_age",
          "xref": "x",
          "y": "Pts_year_before",
          "yref": "y"
         },
         {
          "font": {
           "color": "#000000"
          },
          "showarrow": false,
          "text": "0.7",
          "x": "Market_value",
          "xref": "x",
          "y": "Pts_year_before",
          "yref": "y"
         },
         {
          "font": {
           "color": "#000000"
          },
          "showarrow": false,
          "text": "1.0",
          "x": "Pts_year_before",
          "xref": "x",
          "y": "Pts_year_before",
          "yref": "y"
         }
        ],
        "template": {
         "data": {
          "bar": [
           {
            "error_x": {
             "color": "#2a3f5f"
            },
            "error_y": {
             "color": "#2a3f5f"
            },
            "marker": {
             "line": {
              "color": "#E5ECF6",
              "width": 0.5
             },
             "pattern": {
              "fillmode": "overlay",
              "size": 10,
              "solidity": 0.2
             }
            },
            "type": "bar"
           }
          ],
          "barpolar": [
           {
            "marker": {
             "line": {
              "color": "#E5ECF6",
              "width": 0.5
             },
             "pattern": {
              "fillmode": "overlay",
              "size": 10,
              "solidity": 0.2
             }
            },
            "type": "barpolar"
           }
          ],
          "carpet": [
           {
            "aaxis": {
             "endlinecolor": "#2a3f5f",
             "gridcolor": "white",
             "linecolor": "white",
             "minorgridcolor": "white",
             "startlinecolor": "#2a3f5f"
            },
            "baxis": {
             "endlinecolor": "#2a3f5f",
             "gridcolor": "white",
             "linecolor": "white",
             "minorgridcolor": "white",
             "startlinecolor": "#2a3f5f"
            },
            "type": "carpet"
           }
          ],
          "choropleth": [
           {
            "colorbar": {
             "outlinewidth": 0,
             "ticks": ""
            },
            "type": "choropleth"
           }
          ],
          "contour": [
           {
            "colorbar": {
             "outlinewidth": 0,
             "ticks": ""
            },
            "colorscale": [
             [
              0,
              "#0d0887"
             ],
             [
              0.1111111111111111,
              "#46039f"
             ],
             [
              0.2222222222222222,
              "#7201a8"
             ],
             [
              0.3333333333333333,
              "#9c179e"
             ],
             [
              0.4444444444444444,
              "#bd3786"
             ],
             [
              0.5555555555555556,
              "#d8576b"
             ],
             [
              0.6666666666666666,
              "#ed7953"
             ],
             [
              0.7777777777777778,
              "#fb9f3a"
             ],
             [
              0.8888888888888888,
              "#fdca26"
             ],
             [
              1,
              "#f0f921"
             ]
            ],
            "type": "contour"
           }
          ],
          "contourcarpet": [
           {
            "colorbar": {
             "outlinewidth": 0,
             "ticks": ""
            },
            "type": "contourcarpet"
           }
          ],
          "heatmap": [
           {
            "colorbar": {
             "outlinewidth": 0,
             "ticks": ""
            },
            "colorscale": [
             [
              0,
              "#0d0887"
             ],
             [
              0.1111111111111111,
              "#46039f"
             ],
             [
              0.2222222222222222,
              "#7201a8"
             ],
             [
              0.3333333333333333,
              "#9c179e"
             ],
             [
              0.4444444444444444,
              "#bd3786"
             ],
             [
              0.5555555555555556,
              "#d8576b"
             ],
             [
              0.6666666666666666,
              "#ed7953"
             ],
             [
              0.7777777777777778,
              "#fb9f3a"
             ],
             [
              0.8888888888888888,
              "#fdca26"
             ],
             [
              1,
              "#f0f921"
             ]
            ],
            "type": "heatmap"
           }
          ],
          "heatmapgl": [
           {
            "colorbar": {
             "outlinewidth": 0,
             "ticks": ""
            },
            "colorscale": [
             [
              0,
              "#0d0887"
             ],
             [
              0.1111111111111111,
              "#46039f"
             ],
             [
              0.2222222222222222,
              "#7201a8"
             ],
             [
              0.3333333333333333,
              "#9c179e"
             ],
             [
              0.4444444444444444,
              "#bd3786"
             ],
             [
              0.5555555555555556,
              "#d8576b"
             ],
             [
              0.6666666666666666,
              "#ed7953"
             ],
             [
              0.7777777777777778,
              "#fb9f3a"
             ],
             [
              0.8888888888888888,
              "#fdca26"
             ],
             [
              1,
              "#f0f921"
             ]
            ],
            "type": "heatmapgl"
           }
          ],
          "histogram": [
           {
            "marker": {
             "pattern": {
              "fillmode": "overlay",
              "size": 10,
              "solidity": 0.2
             }
            },
            "type": "histogram"
           }
          ],
          "histogram2d": [
           {
            "colorbar": {
             "outlinewidth": 0,
             "ticks": ""
            },
            "colorscale": [
             [
              0,
              "#0d0887"
             ],
             [
              0.1111111111111111,
              "#46039f"
             ],
             [
              0.2222222222222222,
              "#7201a8"
             ],
             [
              0.3333333333333333,
              "#9c179e"
             ],
             [
              0.4444444444444444,
              "#bd3786"
             ],
             [
              0.5555555555555556,
              "#d8576b"
             ],
             [
              0.6666666666666666,
              "#ed7953"
             ],
             [
              0.7777777777777778,
              "#fb9f3a"
             ],
             [
              0.8888888888888888,
              "#fdca26"
             ],
             [
              1,
              "#f0f921"
             ]
            ],
            "type": "histogram2d"
           }
          ],
          "histogram2dcontour": [
           {
            "colorbar": {
             "outlinewidth": 0,
             "ticks": ""
            },
            "colorscale": [
             [
              0,
              "#0d0887"
             ],
             [
              0.1111111111111111,
              "#46039f"
             ],
             [
              0.2222222222222222,
              "#7201a8"
             ],
             [
              0.3333333333333333,
              "#9c179e"
             ],
             [
              0.4444444444444444,
              "#bd3786"
             ],
             [
              0.5555555555555556,
              "#d8576b"
             ],
             [
              0.6666666666666666,
              "#ed7953"
             ],
             [
              0.7777777777777778,
              "#fb9f3a"
             ],
             [
              0.8888888888888888,
              "#fdca26"
             ],
             [
              1,
              "#f0f921"
             ]
            ],
            "type": "histogram2dcontour"
           }
          ],
          "mesh3d": [
           {
            "colorbar": {
             "outlinewidth": 0,
             "ticks": ""
            },
            "type": "mesh3d"
           }
          ],
          "parcoords": [
           {
            "line": {
             "colorbar": {
              "outlinewidth": 0,
              "ticks": ""
             }
            },
            "type": "parcoords"
           }
          ],
          "pie": [
           {
            "automargin": true,
            "type": "pie"
           }
          ],
          "scatter": [
           {
            "marker": {
             "colorbar": {
              "outlinewidth": 0,
              "ticks": ""
             }
            },
            "type": "scatter"
           }
          ],
          "scatter3d": [
           {
            "line": {
             "colorbar": {
              "outlinewidth": 0,
              "ticks": ""
             }
            },
            "marker": {
             "colorbar": {
              "outlinewidth": 0,
              "ticks": ""
             }
            },
            "type": "scatter3d"
           }
          ],
          "scattercarpet": [
           {
            "marker": {
             "colorbar": {
              "outlinewidth": 0,
              "ticks": ""
             }
            },
            "type": "scattercarpet"
           }
          ],
          "scattergeo": [
           {
            "marker": {
             "colorbar": {
              "outlinewidth": 0,
              "ticks": ""
             }
            },
            "type": "scattergeo"
           }
          ],
          "scattergl": [
           {
            "marker": {
             "colorbar": {
              "outlinewidth": 0,
              "ticks": ""
             }
            },
            "type": "scattergl"
           }
          ],
          "scattermapbox": [
           {
            "marker": {
             "colorbar": {
              "outlinewidth": 0,
              "ticks": ""
             }
            },
            "type": "scattermapbox"
           }
          ],
          "scatterpolar": [
           {
            "marker": {
             "colorbar": {
              "outlinewidth": 0,
              "ticks": ""
             }
            },
            "type": "scatterpolar"
           }
          ],
          "scatterpolargl": [
           {
            "marker": {
             "colorbar": {
              "outlinewidth": 0,
              "ticks": ""
             }
            },
            "type": "scatterpolargl"
           }
          ],
          "scatterternary": [
           {
            "marker": {
             "colorbar": {
              "outlinewidth": 0,
              "ticks": ""
             }
            },
            "type": "scatterternary"
           }
          ],
          "surface": [
           {
            "colorbar": {
             "outlinewidth": 0,
             "ticks": ""
            },
            "colorscale": [
             [
              0,
              "#0d0887"
             ],
             [
              0.1111111111111111,
              "#46039f"
             ],
             [
              0.2222222222222222,
              "#7201a8"
             ],
             [
              0.3333333333333333,
              "#9c179e"
             ],
             [
              0.4444444444444444,
              "#bd3786"
             ],
             [
              0.5555555555555556,
              "#d8576b"
             ],
             [
              0.6666666666666666,
              "#ed7953"
             ],
             [
              0.7777777777777778,
              "#fb9f3a"
             ],
             [
              0.8888888888888888,
              "#fdca26"
             ],
             [
              1,
              "#f0f921"
             ]
            ],
            "type": "surface"
           }
          ],
          "table": [
           {
            "cells": {
             "fill": {
              "color": "#EBF0F8"
             },
             "line": {
              "color": "white"
             }
            },
            "header": {
             "fill": {
              "color": "#C8D4E3"
             },
             "line": {
              "color": "white"
             }
            },
            "type": "table"
           }
          ]
         },
         "layout": {
          "annotationdefaults": {
           "arrowcolor": "#2a3f5f",
           "arrowhead": 0,
           "arrowwidth": 1
          },
          "autotypenumbers": "strict",
          "coloraxis": {
           "colorbar": {
            "outlinewidth": 0,
            "ticks": ""
           }
          },
          "colorscale": {
           "diverging": [
            [
             0,
             "#8e0152"
            ],
            [
             0.1,
             "#c51b7d"
            ],
            [
             0.2,
             "#de77ae"
            ],
            [
             0.3,
             "#f1b6da"
            ],
            [
             0.4,
             "#fde0ef"
            ],
            [
             0.5,
             "#f7f7f7"
            ],
            [
             0.6,
             "#e6f5d0"
            ],
            [
             0.7,
             "#b8e186"
            ],
            [
             0.8,
             "#7fbc41"
            ],
            [
             0.9,
             "#4d9221"
            ],
            [
             1,
             "#276419"
            ]
           ],
           "sequential": [
            [
             0,
             "#0d0887"
            ],
            [
             0.1111111111111111,
             "#46039f"
            ],
            [
             0.2222222222222222,
             "#7201a8"
            ],
            [
             0.3333333333333333,
             "#9c179e"
            ],
            [
             0.4444444444444444,
             "#bd3786"
            ],
            [
             0.5555555555555556,
             "#d8576b"
            ],
            [
             0.6666666666666666,
             "#ed7953"
            ],
            [
             0.7777777777777778,
             "#fb9f3a"
            ],
            [
             0.8888888888888888,
             "#fdca26"
            ],
            [
             1,
             "#f0f921"
            ]
           ],
           "sequentialminus": [
            [
             0,
             "#0d0887"
            ],
            [
             0.1111111111111111,
             "#46039f"
            ],
            [
             0.2222222222222222,
             "#7201a8"
            ],
            [
             0.3333333333333333,
             "#9c179e"
            ],
            [
             0.4444444444444444,
             "#bd3786"
            ],
            [
             0.5555555555555556,
             "#d8576b"
            ],
            [
             0.6666666666666666,
             "#ed7953"
            ],
            [
             0.7777777777777778,
             "#fb9f3a"
            ],
            [
             0.8888888888888888,
             "#fdca26"
            ],
            [
             1,
             "#f0f921"
            ]
           ]
          },
          "colorway": [
           "#636efa",
           "#EF553B",
           "#00cc96",
           "#ab63fa",
           "#FFA15A",
           "#19d3f3",
           "#FF6692",
           "#B6E880",
           "#FF97FF",
           "#FECB52"
          ],
          "font": {
           "color": "#2a3f5f"
          },
          "geo": {
           "bgcolor": "white",
           "lakecolor": "white",
           "landcolor": "#E5ECF6",
           "showlakes": true,
           "showland": true,
           "subunitcolor": "white"
          },
          "hoverlabel": {
           "align": "left"
          },
          "hovermode": "closest",
          "mapbox": {
           "style": "light"
          },
          "paper_bgcolor": "white",
          "plot_bgcolor": "#E5ECF6",
          "polar": {
           "angularaxis": {
            "gridcolor": "white",
            "linecolor": "white",
            "ticks": ""
           },
           "bgcolor": "#E5ECF6",
           "radialaxis": {
            "gridcolor": "white",
            "linecolor": "white",
            "ticks": ""
           }
          },
          "scene": {
           "xaxis": {
            "backgroundcolor": "#E5ECF6",
            "gridcolor": "white",
            "gridwidth": 2,
            "linecolor": "white",
            "showbackground": true,
            "ticks": "",
            "zerolinecolor": "white"
           },
           "yaxis": {
            "backgroundcolor": "#E5ECF6",
            "gridcolor": "white",
            "gridwidth": 2,
            "linecolor": "white",
            "showbackground": true,
            "ticks": "",
            "zerolinecolor": "white"
           },
           "zaxis": {
            "backgroundcolor": "#E5ECF6",
            "gridcolor": "white",
            "gridwidth": 2,
            "linecolor": "white",
            "showbackground": true,
            "ticks": "",
            "zerolinecolor": "white"
           }
          },
          "shapedefaults": {
           "line": {
            "color": "#2a3f5f"
           }
          },
          "ternary": {
           "aaxis": {
            "gridcolor": "white",
            "linecolor": "white",
            "ticks": ""
           },
           "baxis": {
            "gridcolor": "white",
            "linecolor": "white",
            "ticks": ""
           },
           "bgcolor": "#E5ECF6",
           "caxis": {
            "gridcolor": "white",
            "linecolor": "white",
            "ticks": ""
           }
          },
          "title": {
           "x": 0.05
          },
          "xaxis": {
           "automargin": true,
           "gridcolor": "white",
           "linecolor": "white",
           "ticks": "",
           "title": {
            "standoff": 15
           },
           "zerolinecolor": "white",
           "zerolinewidth": 2
          },
          "yaxis": {
           "automargin": true,
           "gridcolor": "white",
           "linecolor": "white",
           "ticks": "",
           "title": {
            "standoff": 15
           },
           "zerolinecolor": "white",
           "zerolinewidth": 2
          }
         }
        },
        "title": {
         "text": "Correlation between features"
        },
        "xaxis": {
         "dtick": 1,
         "gridcolor": "rgb(0, 0, 0)",
         "side": "top",
         "ticks": ""
        },
        "yaxis": {
         "dtick": 1,
         "ticks": "",
         "ticksuffix": "  "
        }
       }
      }
     },
     "metadata": {},
     "output_type": "display_data"
    }
   ],
   "source": [
    "## Correlation between the features with the help of visualisation\n",
    "corrs = df.corr()\n",
    "fig_heatmap = ff.create_annotated_heatmap(\n",
    "    z = corrs.values,\n",
    "    x = list(corrs.columns),\n",
    "    y = list(corrs.index),\n",
    "    annotation_text=corrs.round(2).values,\n",
    "    showscale=True\n",
    ")\n",
    "fig_heatmap.update_layout(title = \"Correlation between features\")\n",
    "fig_heatmap.show()"
   ]
  },
  {
   "cell_type": "code",
   "execution_count": null,
   "metadata": {},
   "outputs": [
    {
     "data": {
      "application/vnd.plotly.v1+json": {
       "config": {
        "plotlyServerURL": "https://plot.ly"
       },
       "data": [
        {
         "hovertemplate": "Team=AC Ajaccio<br>Market_value=%{x}<br>Points=%{y}<extra></extra>",
         "legendgroup": "AC Ajaccio",
         "marker": {
          "color": "#636efa",
          "symbol": "circle"
         },
         "mode": "markers",
         "name": "AC Ajaccio",
         "orientation": "v",
         "showlegend": true,
         "type": "scatter",
         "x": [
          26550000,
          34100000,
          28300000
         ],
         "xaxis": "x",
         "y": [
          41,
          40,
          23
         ],
         "yaxis": "y"
        },
        {
         "hovertemplate": "Team=AJ Auxerre<br>Market_value=%{x}<br>Points=%{y}<extra></extra>",
         "legendgroup": "AJ Auxerre",
         "marker": {
          "color": "#EF553B",
          "symbol": "circle"
         },
         "mode": "markers",
         "name": "AJ Auxerre",
         "orientation": "v",
         "showlegend": true,
         "type": "scatter",
         "x": [
          50900000
         ],
         "xaxis": "x",
         "y": [
          34
         ],
         "yaxis": "y"
        },
        {
         "hovertemplate": "Team=AS Monaco<br>Market_value=%{x}<br>Points=%{y}<extra></extra>",
         "legendgroup": "AS Monaco",
         "marker": {
          "color": "#00cc96",
          "symbol": "circle"
         },
         "mode": "markers",
         "name": "AS Monaco",
         "orientation": "v",
         "showlegend": true,
         "type": "scatter",
         "x": [
          242550000,
          187700000,
          227400000,
          309550000,
          529799999,
          385830000,
          331030000,
          370350000
         ],
         "xaxis": "x",
         "y": [
          80,
          71,
          65,
          95,
          80,
          36,
          54,
          78
         ],
         "yaxis": "y"
        },
        {
         "hovertemplate": "Team=AS Nancy-Lorraine<br>Market_value=%{x}<br>Points=%{y}<extra></extra>",
         "legendgroup": "AS Nancy-Lorraine",
         "marker": {
          "color": "#ab63fa",
          "symbol": "circle"
         },
         "mode": "markers",
         "name": "AS Nancy-Lorraine",
         "orientation": "v",
         "showlegend": true,
         "type": "scatter",
         "x": [
          53900000,
          36850000,
          33100000
         ],
         "xaxis": "x",
         "y": [
          45,
          38,
          35
         ],
         "yaxis": "y"
        },
        {
         "hovertemplate": "Team=AS Saint-Étienne<br>Market_value=%{x}<br>Points=%{y}<extra></extra>",
         "legendgroup": "AS Saint-Étienne",
         "marker": {
          "color": "#FFA15A",
          "symbol": "circle"
         },
         "mode": "markers",
         "name": "AS Saint-Étienne",
         "orientation": "v",
         "showlegend": true,
         "type": "scatter",
         "x": [
          85600000,
          97600000,
          105400000,
          83350000,
          97200000,
          85030000,
          106880000,
          131250000,
          104830000,
          154650000
         ],
         "xaxis": "x",
         "y": [
          57,
          63,
          69,
          69,
          58,
          50,
          55,
          66,
          40,
          46
         ],
         "yaxis": "y"
        },
        {
         "hovertemplate": "Team=Amiens SC<br>Market_value=%{x}<br>Points=%{y}<extra></extra>",
         "legendgroup": "Amiens SC",
         "marker": {
          "color": "#19d3f3",
          "symbol": "circle"
         },
         "mode": "markers",
         "name": "Amiens SC",
         "orientation": "v",
         "showlegend": true,
         "type": "scatter",
         "x": [
          69850000,
          70500000,
          62080000
         ],
         "xaxis": "x",
         "y": [
          45,
          38,
          31
         ],
         "yaxis": "y"
        },
        {
         "hovertemplate": "Team=Dijon FCO<br>Market_value=%{x}<br>Points=%{y}<extra></extra>",
         "legendgroup": "Dijon FCO",
         "marker": {
          "color": "#FF6692",
          "symbol": "circle"
         },
         "mode": "markers",
         "name": "Dijon FCO",
         "orientation": "v",
         "showlegend": true,
         "type": "scatter",
         "x": [
          36800000,
          31200000,
          70300000,
          65800000,
          50230000,
          65629999
         ],
         "xaxis": "x",
         "y": [
          36,
          37,
          48,
          34,
          40,
          21
         ],
         "yaxis": "y"
        },
        {
         "hovertemplate": "Team=EA Guingamp<br>Market_value=%{x}<br>Points=%{y}<extra></extra>",
         "legendgroup": "EA Guingamp",
         "marker": {
          "color": "#B6E880",
          "symbol": "circle"
         },
         "mode": "markers",
         "name": "EA Guingamp",
         "orientation": "v",
         "showlegend": true,
         "type": "scatter",
         "x": [
          21430000,
          36250000,
          33500000,
          42500000,
          51900000,
          70650000
         ],
         "xaxis": "x",
         "y": [
          42,
          49,
          44,
          50,
          47,
          27
         ],
         "yaxis": "y"
        },
        {
         "hovertemplate": "Team=ESTAC Troyes<br>Market_value=%{x}<br>Points=%{y}<extra></extra>",
         "legendgroup": "ESTAC Troyes",
         "marker": {
          "color": "#FF97FF",
          "symbol": "circle"
         },
         "mode": "markers",
         "name": "ESTAC Troyes",
         "orientation": "v",
         "showlegend": true,
         "type": "scatter",
         "x": [
          21800000,
          30700000,
          45050000
         ],
         "xaxis": "x",
         "y": [
          37,
          18,
          33
         ],
         "yaxis": "y"
        },
        {
         "hovertemplate": "Team=FC Girondins Bordeaux<br>Market_value=%{x}<br>Points=%{y}<extra></extra>",
         "legendgroup": "FC Girondins Bordeaux",
         "marker": {
          "color": "#FECB52",
          "symbol": "circle"
         },
         "mode": "markers",
         "name": "FC Girondins Bordeaux",
         "orientation": "v",
         "showlegend": true,
         "type": "scatter",
         "x": [
          82050000,
          80950000,
          62700000,
          71500000,
          90700000,
          88900000,
          155450000,
          179000000,
          125350000,
          105700000
         ],
         "xaxis": "x",
         "y": [
          61,
          55,
          53,
          63,
          50,
          59,
          55,
          41,
          50,
          45
         ],
         "yaxis": "y"
        },
        {
         "hovertemplate": "Team=FC Lorient<br>Market_value=%{x}<br>Points=%{y}<extra></extra>",
         "legendgroup": "FC Lorient",
         "marker": {
          "color": "#636efa",
          "symbol": "circle"
         },
         "mode": "markers",
         "name": "FC Lorient",
         "orientation": "v",
         "showlegend": true,
         "type": "scatter",
         "x": [
          54050000,
          63750000,
          57150000,
          59950000,
          58050000,
          61400000,
          73530000
         ],
         "xaxis": "x",
         "y": [
          39,
          53,
          49,
          43,
          46,
          36,
          42
         ],
         "yaxis": "y"
        },
        {
         "hovertemplate": "Team=FC Metz<br>Market_value=%{x}<br>Points=%{y}<extra></extra>",
         "legendgroup": "FC Metz",
         "marker": {
          "color": "#EF553B",
          "symbol": "circle"
         },
         "mode": "markers",
         "name": "FC Metz",
         "orientation": "v",
         "showlegend": true,
         "type": "scatter",
         "x": [
          29850000,
          37550000,
          51200000,
          54100000,
          103500000
         ],
         "xaxis": "x",
         "y": [
          30,
          43,
          26,
          46,
          47
         ],
         "yaxis": "y"
        },
        {
         "hovertemplate": "Team=FC Nantes<br>Market_value=%{x}<br>Points=%{y}<extra></extra>",
         "legendgroup": "FC Nantes",
         "marker": {
          "color": "#00cc96",
          "symbol": "circle"
         },
         "mode": "markers",
         "name": "FC Nantes",
         "orientation": "v",
         "showlegend": true,
         "type": "scatter",
         "x": [
          39550000,
          46850000,
          39300000,
          50900000,
          105700000,
          119500000,
          106300000,
          95080000
         ],
         "xaxis": "x",
         "y": [
          46,
          45,
          48,
          51,
          52,
          48,
          50,
          40
         ],
         "yaxis": "y"
        },
        {
         "hovertemplate": "Team=FC Sochaux-Montbéliard<br>Market_value=%{x}<br>Points=%{y}<extra></extra>",
         "legendgroup": "FC Sochaux-Montbéliard",
         "marker": {
          "color": "#ab63fa",
          "symbol": "circle"
         },
         "mode": "markers",
         "name": "FC Sochaux-Montbéliard",
         "orientation": "v",
         "showlegend": true,
         "type": "scatter",
         "x": [
          58800000,
          46850000,
          47450000
         ],
         "xaxis": "x",
         "y": [
          42,
          41,
          40
         ],
         "yaxis": "y"
        },
        {
         "hovertemplate": "Team=FC Toulouse<br>Market_value=%{x}<br>Points=%{y}<extra></extra>",
         "legendgroup": "FC Toulouse",
         "marker": {
          "color": "#FFA15A",
          "symbol": "circle"
         },
         "mode": "markers",
         "name": "FC Toulouse",
         "orientation": "v",
         "showlegend": true,
         "type": "scatter",
         "x": [
          83050000,
          82000000,
          67400000,
          48800000,
          42900000,
          77300000,
          110450000,
          113250000,
          71880000
         ],
         "xaxis": "x",
         "y": [
          56,
          51,
          49,
          42,
          40,
          44,
          37,
          38,
          17
         ],
         "yaxis": "y"
        },
        {
         "hovertemplate": "Team=FC Évian Thonon Gaillard<br>Market_value=%{x}<br>Points=%{y}<extra></extra>",
         "legendgroup": "FC Évian Thonon Gaillard",
         "marker": {
          "color": "#19d3f3",
          "symbol": "circle"
         },
         "mode": "markers",
         "name": "FC Évian Thonon Gaillard",
         "orientation": "v",
         "showlegend": true,
         "type": "scatter",
         "x": [
          32900000,
          34550000,
          35000000,
          36150000
         ],
         "xaxis": "x",
         "y": [
          50,
          40,
          44,
          37
         ],
         "yaxis": "y"
        },
        {
         "hovertemplate": "Team=GFC Ajaccio<br>Market_value=%{x}<br>Points=%{y}<extra></extra>",
         "legendgroup": "GFC Ajaccio",
         "marker": {
          "color": "#FF6692",
          "symbol": "circle"
         },
         "mode": "markers",
         "name": "GFC Ajaccio",
         "orientation": "v",
         "showlegend": true,
         "type": "scatter",
         "x": [
          18400000
         ],
         "xaxis": "x",
         "y": [
          37
         ],
         "yaxis": "y"
        },
        {
         "hovertemplate": "Team=LOSC Lille<br>Market_value=%{x}<br>Points=%{y}<extra></extra>",
         "legendgroup": "LOSC Lille",
         "marker": {
          "color": "#B6E880",
          "symbol": "circle"
         },
         "mode": "markers",
         "name": "LOSC Lille",
         "orientation": "v",
         "showlegend": true,
         "type": "scatter",
         "x": [
          145350000,
          114600000,
          74100000,
          82650000,
          70800000,
          83900000,
          96750000,
          267550000,
          247780000,
          323200000
         ],
         "xaxis": "x",
         "y": [
          74,
          62,
          71,
          56,
          60,
          46,
          38,
          75,
          66,
          83
         ],
         "yaxis": "y"
        },
        {
         "hovertemplate": "Team=Montpellier HSC<br>Market_value=%{x}<br>Points=%{y}<extra></extra>",
         "legendgroup": "Montpellier HSC",
         "marker": {
          "color": "#FF97FF",
          "symbol": "circle"
         },
         "mode": "markers",
         "name": "Montpellier HSC",
         "orientation": "v",
         "showlegend": true,
         "type": "scatter",
         "x": [
          86200000,
          78700000,
          52350000,
          51950000,
          44400000,
          60950000,
          71850000,
          109850000,
          81680000,
          113850000
         ],
         "xaxis": "x",
         "y": [
          82,
          52,
          42,
          56,
          49,
          39,
          51,
          59,
          54,
          54
         ],
         "yaxis": "y"
        },
        {
         "hovertemplate": "Team=Nîmes Olympique<br>Market_value=%{x}<br>Points=%{y}<extra></extra>",
         "legendgroup": "Nîmes Olympique",
         "marker": {
          "color": "#FECB52",
          "symbol": "circle"
         },
         "mode": "markers",
         "name": "Nîmes Olympique",
         "orientation": "v",
         "showlegend": true,
         "type": "scatter",
         "x": [
          88150000,
          49650000,
          60400000
         ],
         "xaxis": "x",
         "y": [
          53,
          36,
          35
         ],
         "yaxis": "y"
        },
        {
         "hovertemplate": "Team=OGC Nice<br>Market_value=%{x}<br>Points=%{y}<extra></extra>",
         "legendgroup": "OGC Nice",
         "marker": {
          "color": "#636efa",
          "symbol": "circle"
         },
         "mode": "markers",
         "name": "OGC Nice",
         "orientation": "v",
         "showlegend": true,
         "type": "scatter",
         "x": [
          52450000,
          59150000,
          56100000,
          56250000,
          71000000,
          132800000,
          204100000,
          183200000,
          173450000,
          236100000
         ],
         "xaxis": "x",
         "y": [
          42,
          64,
          42,
          48,
          63,
          78,
          54,
          56,
          55,
          52
         ],
         "yaxis": "y"
        },
        {
         "hovertemplate": "Team=Olympique Lyon<br>Market_value=%{x}<br>Points=%{y}<extra></extra>",
         "legendgroup": "Olympique Lyon",
         "marker": {
          "color": "#EF553B",
          "symbol": "circle"
         },
         "mode": "markers",
         "name": "Olympique Lyon",
         "orientation": "v",
         "showlegend": true,
         "type": "scatter",
         "x": [
          163850000,
          155650000,
          108500000,
          144650000,
          166300000,
          211350000,
          363800000,
          467950000,
          384550000,
          431400000
         ],
         "xaxis": "x",
         "y": [
          64,
          67,
          61,
          75,
          65,
          67,
          78,
          72,
          54,
          76
         ],
         "yaxis": "y"
        },
        {
         "hovertemplate": "Team=Olympique Marseille<br>Market_value=%{x}<br>Points=%{y}<extra></extra>",
         "legendgroup": "Olympique Marseille",
         "marker": {
          "color": "#00cc96",
          "symbol": "circle"
         },
         "mode": "markers",
         "name": "Olympique Marseille",
         "orientation": "v",
         "showlegend": true,
         "type": "scatter",
         "x": [
          146500000,
          150650000,
          141300000,
          139700000,
          129500000,
          119650000,
          236800000,
          258350000,
          216150000,
          251400000
         ],
         "xaxis": "x",
         "y": [
          48,
          71,
          60,
          69,
          48,
          62,
          77,
          61,
          76,
          60
         ],
         "yaxis": "y"
        },
        {
         "hovertemplate": "Team=Paris Saint-Germain<br>Market_value=%{x}<br>Points=%{y}<extra></extra>",
         "legendgroup": "Paris Saint-Germain",
         "marker": {
          "color": "#ab63fa",
          "symbol": "circle"
         },
         "mode": "markers",
         "name": "Paris Saint-Germain",
         "orientation": "v",
         "showlegend": true,
         "type": "scatter",
         "x": [
          211100000,
          313600000,
          402300000,
          363900000,
          436300000,
          519000000,
          900100000,
          1010000000,
          874150000,
          805000000
         ],
         "xaxis": "x",
         "y": [
          79,
          83,
          89,
          83,
          96,
          87,
          93,
          91,
          95,
          82
         ],
         "yaxis": "y"
        },
        {
         "hovertemplate": "Team=RC Lens<br>Market_value=%{x}<br>Points=%{y}<extra></extra>",
         "legendgroup": "RC Lens",
         "marker": {
          "color": "#FFA15A",
          "symbol": "circle"
         },
         "mode": "markers",
         "name": "RC Lens",
         "orientation": "v",
         "showlegend": true,
         "type": "scatter",
         "x": [
          27200000,
          104300000
         ],
         "xaxis": "x",
         "y": [
          29,
          57
         ],
         "yaxis": "y"
        },
        {
         "hovertemplate": "Team=RC Strasbourg Alsace<br>Market_value=%{x}<br>Points=%{y}<extra></extra>",
         "legendgroup": "RC Strasbourg Alsace",
         "marker": {
          "color": "#19d3f3",
          "symbol": "circle"
         },
         "mode": "markers",
         "name": "RC Strasbourg Alsace",
         "orientation": "v",
         "showlegend": true,
         "type": "scatter",
         "x": [
          45600000,
          98000000,
          91380000,
          109650000
         ],
         "xaxis": "x",
         "y": [
          38,
          49,
          53,
          42
         ],
         "yaxis": "y"
        },
        {
         "hovertemplate": "Team=SC Bastia<br>Market_value=%{x}<br>Points=%{y}<extra></extra>",
         "legendgroup": "SC Bastia",
         "marker": {
          "color": "#FF6692",
          "symbol": "circle"
         },
         "mode": "markers",
         "name": "SC Bastia",
         "orientation": "v",
         "showlegend": true,
         "type": "scatter",
         "x": [
          36050000,
          35600000,
          34250000,
          24250000,
          36450000
         ],
         "xaxis": "x",
         "y": [
          47,
          49,
          47,
          50,
          34
         ],
         "yaxis": "y"
        },
        {
         "hovertemplate": "Team=SCO Angers<br>Market_value=%{x}<br>Points=%{y}<extra></extra>",
         "legendgroup": "SCO Angers",
         "marker": {
          "color": "#B6E880",
          "symbol": "circle"
         },
         "mode": "markers",
         "name": "SCO Angers",
         "orientation": "v",
         "showlegend": true,
         "type": "scatter",
         "x": [
          32350000,
          46080000,
          69550000,
          79700000,
          89480000,
          111650000
         ],
         "xaxis": "x",
         "y": [
          50,
          46,
          41,
          46,
          52,
          44
         ],
         "yaxis": "y"
        },
        {
         "hovertemplate": "Team=SM Caen<br>Market_value=%{x}<br>Points=%{y}<extra></extra>",
         "legendgroup": "SM Caen",
         "marker": {
          "color": "#FF97FF",
          "symbol": "circle"
         },
         "mode": "markers",
         "name": "SM Caen",
         "orientation": "v",
         "showlegend": true,
         "type": "scatter",
         "x": [
          31800000,
          32400000,
          36800000,
          36650000,
          60100000,
          67550000
         ],
         "xaxis": "x",
         "y": [
          38,
          46,
          54,
          37,
          38,
          33
         ],
         "yaxis": "y"
        },
        {
         "hovertemplate": "Team=Stade Brestois 29<br>Market_value=%{x}<br>Points=%{y}<extra></extra>",
         "legendgroup": "Stade Brestois 29",
         "marker": {
          "color": "#FECB52",
          "symbol": "circle"
         },
         "mode": "markers",
         "name": "Stade Brestois 29",
         "orientation": "v",
         "showlegend": true,
         "type": "scatter",
         "x": [
          43200000,
          36100000,
          47780000,
          103230000
         ],
         "xaxis": "x",
         "y": [
          41,
          29,
          46,
          41
         ],
         "yaxis": "y"
        },
        {
         "hovertemplate": "Team=Stade Reims<br>Market_value=%{x}<br>Points=%{y}<extra></extra>",
         "legendgroup": "Stade Reims",
         "marker": {
          "color": "#636efa",
          "symbol": "circle"
         },
         "mode": "markers",
         "name": "Stade Reims",
         "orientation": "v",
         "showlegend": true,
         "type": "scatter",
         "x": [
          29500000,
          38730000,
          39250000,
          42950000,
          86950000,
          81680000,
          105180000
         ],
         "xaxis": "x",
         "y": [
          43,
          48,
          44,
          39,
          55,
          55,
          42
         ],
         "yaxis": "y"
        },
        {
         "hovertemplate": "Team=Stade Rennais FC<br>Market_value=%{x}<br>Points=%{y}<extra></extra>",
         "legendgroup": "Stade Rennais FC",
         "marker": {
          "color": "#EF553B",
          "symbol": "circle"
         },
         "mode": "markers",
         "name": "Stade Rennais FC",
         "orientation": "v",
         "showlegend": true,
         "type": "scatter",
         "x": [
          101800000,
          97800000,
          92600000,
          66000000,
          94150000,
          80900000,
          131250000,
          168450000,
          171880000,
          297500000
         ],
         "xaxis": "x",
         "y": [
          60,
          46,
          46,
          50,
          52,
          50,
          58,
          52,
          67,
          58
         ],
         "yaxis": "y"
        },
        {
         "hovertemplate": "Team=Valenciennes FC<br>Market_value=%{x}<br>Points=%{y}<extra></extra>",
         "legendgroup": "Valenciennes FC",
         "marker": {
          "color": "#00cc96",
          "symbol": "circle"
         },
         "mode": "markers",
         "name": "Valenciennes FC",
         "orientation": "v",
         "showlegend": true,
         "type": "scatter",
         "x": [
          44500000,
          49750000,
          36650000
         ],
         "xaxis": "x",
         "y": [
          43,
          48,
          29
         ],
         "yaxis": "y"
        },
        {
         "hovertemplate": "<b>OLS trendline</b><br>Points = 7.24045e-08 * Market_value + 42.6822<br>R<sup>2</sup>=0.481788<br><br>Market_value=%{x}<br>Points=%{y} <b>(trend)</b><extra></extra>",
         "legendgroup": "Overall Trendline",
         "line": {
          "color": "#ab63fa"
         },
         "mode": "lines",
         "name": "Overall Trendline",
         "showlegend": true,
         "type": "scatter",
         "x": [
          18400000,
          21430000,
          21800000,
          24250000,
          26550000,
          27200000,
          28300000,
          29500000,
          29850000,
          30700000,
          31200000,
          31800000,
          32350000,
          32400000,
          32900000,
          33100000,
          33500000,
          34100000,
          34250000,
          34550000,
          35000000,
          35600000,
          36050000,
          36100000,
          36150000,
          36250000,
          36450000,
          36650000,
          36650000,
          36800000,
          36800000,
          36850000,
          37550000,
          38730000,
          39250000,
          39300000,
          39550000,
          42500000,
          42900000,
          42950000,
          43200000,
          44400000,
          44500000,
          45050000,
          45600000,
          46080000,
          46850000,
          46850000,
          47450000,
          47780000,
          48800000,
          49650000,
          49750000,
          50230000,
          50900000,
          50900000,
          51200000,
          51900000,
          51950000,
          52350000,
          52450000,
          53900000,
          54050000,
          54100000,
          56100000,
          56250000,
          57150000,
          58050000,
          58800000,
          59150000,
          59950000,
          60100000,
          60400000,
          60950000,
          61400000,
          62080000,
          62700000,
          63750000,
          65629999,
          65800000,
          66000000,
          67400000,
          67550000,
          69550000,
          69850000,
          70300000,
          70500000,
          70650000,
          70800000,
          71000000,
          71500000,
          71850000,
          71880000,
          73530000,
          74100000,
          77300000,
          78700000,
          79700000,
          80900000,
          80950000,
          81680000,
          81680000,
          82000000,
          82050000,
          82650000,
          83050000,
          83350000,
          83900000,
          85030000,
          85600000,
          86200000,
          86950000,
          88150000,
          88900000,
          89480000,
          90700000,
          91380000,
          92600000,
          94150000,
          95080000,
          96750000,
          97200000,
          97600000,
          97800000,
          98000000,
          101800000,
          103230000,
          103500000,
          104300000,
          104830000,
          105180000,
          105400000,
          105700000,
          105700000,
          106300000,
          106880000,
          108500000,
          109650000,
          109850000,
          110450000,
          111650000,
          113250000,
          113850000,
          114600000,
          119500000,
          119650000,
          125350000,
          129500000,
          131250000,
          131250000,
          132800000,
          139700000,
          141300000,
          144650000,
          145350000,
          146500000,
          150650000,
          154650000,
          155450000,
          155650000,
          163850000,
          166300000,
          168450000,
          171880000,
          173450000,
          179000000,
          183200000,
          187700000,
          204100000,
          211100000,
          211350000,
          216150000,
          227400000,
          236100000,
          236800000,
          242550000,
          247780000,
          251400000,
          258350000,
          267550000,
          297500000,
          309550000,
          313600000,
          323200000,
          331030000,
          363800000,
          363900000,
          370350000,
          384550000,
          385830000,
          402300000,
          431400000,
          436300000,
          467950000,
          519000000,
          529799999,
          805000000,
          874150000,
          900100000,
          1010000000
         ],
         "xaxis": "x",
         "y": [
          44.014460944246906,
          44.23384671234257,
          44.26063639359517,
          44.43802752621377,
          44.60455797724348,
          44.65162093079535,
          44.73126592911391,
          44.81815138182506,
          44.84349297219915,
          44.90503683453621,
          44.9412391064992,
          44.98468183285477,
          45.02450433201405,
          45.02812455921035,
          45.064326831173325,
          45.07880773995852,
          45.107769557528904,
          45.151212283884476,
          45.16207296547337,
          45.18379432865116,
          45.216376373417845,
          45.259819099773416,
          45.2924011445401,
          45.296021371736394,
          45.299641598932695,
          45.30688205332529,
          45.321362962110484,
          45.33584387089567,
          45.33584387089567,
          45.34670455248457,
          45.34670455248457,
          45.35032477968087,
          45.40100796042904,
          45.48644532226167,
          45.52409568510317,
          45.52771591229947,
          45.54581704828096,
          45.75941045286254,
          45.78837227043292,
          45.791992497629224,
          45.81009363361071,
          45.89697908632186,
          45.90421954071446,
          45.944042039873736,
          45.983864539033014,
          46.01861872011748,
          46.074370218940466,
          46.074370218940466,
          46.117812945296045,
          46.14170644479161,
          46.21555907959609,
          46.27710294193315,
          46.28434339632575,
          46.31909757741021,
          46.3676086218406,
          46.3676086218406,
          46.38932998501839,
          46.440013165766565,
          46.44363339296286,
          46.47259521053324,
          46.479835664925844,
          46.58482225361848,
          46.59568293520738,
          46.59930316240368,
          46.7441122502556,
          46.75497293184449,
          46.82013702137785,
          46.885301110911215,
          46.93960451885569,
          46.96494610922977,
          47.02286974437054,
          47.03373042595943,
          47.05545178913722,
          47.0952742882965,
          47.127856333063185,
          47.17709142293283,
          47.22198224016693,
          47.29800701128919,
          47.43412748146545,
          47.446436326337405,
          47.4609172351226,
          47.56228359661894,
          47.573144278207835,
          47.71795336605976,
          47.73967472923754,
          47.77225677400423,
          47.78673768278942,
          47.79759836437831,
          47.808459045967204,
          47.8229399547524,
          47.85914222671538,
          47.88448381708946,
          47.88665595340724,
          48.00612345088508,
          48.047394040922875,
          48.279088581485944,
          48.38045494298229,
          48.45285948690825,
          48.5397449396194,
          48.5433651668157,
          48.59622048388165,
          48.59622048388165,
          48.61938993793795,
          48.623010165134254,
          48.66645289148983,
          48.695414709060216,
          48.717136072238006,
          48.75695857139728,
          48.838775706033616,
          48.88004629607141,
          48.92348902242699,
          48.97779243037146,
          49.06467788308261,
          49.11898129102708,
          49.160975926504136,
          49.249309470093806,
          49.29854455996346,
          49.38687810355313,
          49.49910514663837,
          49.566441372489514,
          49.68735696084587,
          49.719939005612545,
          49.74890082318293,
          49.763381731968124,
          49.77786264075331,
          50.05299990767196,
          50.15653840548609,
          50.176087632346096,
          50.23401126748686,
          50.27238567576762,
          50.297727266141706,
          50.31365626580542,
          50.33537762898321,
          50.33537762898321,
          50.37882035533878,
          50.42081499081584,
          50.538110351975895,
          50.621375577490745,
          50.63585648627594,
          50.67929921263152,
          50.76618466534267,
          50.882031935624205,
          50.92547466197978,
          50.97977806992425,
          51.334560335161456,
          51.34542101675035,
          51.75812691712832,
          52.05860577442105,
          52.18531372629148,
          52.18531372629148,
          52.297540769376724,
          52.79713212246584,
          52.91297939274738,
          53.155534614899345,
          53.20621779564752,
          53.28948302116237,
          53.58996187845511,
          53.87958005415894,
          53.93750368929971,
          53.951984598084906,
          54.54570185827777,
          54.723092990896376,
          54.87876276033719,
          55.127110346003235,
          55.24078547996699,
          55.642630698756065,
          55.9467297832451,
          56.27255023091192,
          57.45998475129766,
          57.96681655877938,
          57.98491769476087,
          58.33245950560548,
          59.14701062477253,
          59.77693015692838,
          59.82761333767655,
          60.24393946525082,
          60.622615229983595,
          60.884719678995566,
          61.38793125928099,
          62.05405306339982,
          64.22256915398232,
          65.09504390829014,
          65.38828231119027,
          66.08336593287949,
          66.65029351181975,
          69.02299041627346,
          69.03023087066606,
          69.49724017898849,
          70.52538470273713,
          70.61806251896235,
          71.81056535742292,
          73.91753758566836,
          74.27231985090555,
          76.56392366616218,
          80.26017563358243,
          81.04214463557827,
          100.96787519640696,
          105.9746494088871,
          107.85354732376575,
          115.81080670122874
         ],
         "yaxis": "y"
        }
       ],
       "layout": {
        "legend": {
         "title": {
          "text": "Team"
         },
         "tracegroupgap": 0
        },
        "margin": {
         "t": 60
        },
        "template": {
         "data": {
          "bar": [
           {
            "error_x": {
             "color": "#2a3f5f"
            },
            "error_y": {
             "color": "#2a3f5f"
            },
            "marker": {
             "line": {
              "color": "#E5ECF6",
              "width": 0.5
             },
             "pattern": {
              "fillmode": "overlay",
              "size": 10,
              "solidity": 0.2
             }
            },
            "type": "bar"
           }
          ],
          "barpolar": [
           {
            "marker": {
             "line": {
              "color": "#E5ECF6",
              "width": 0.5
             },
             "pattern": {
              "fillmode": "overlay",
              "size": 10,
              "solidity": 0.2
             }
            },
            "type": "barpolar"
           }
          ],
          "carpet": [
           {
            "aaxis": {
             "endlinecolor": "#2a3f5f",
             "gridcolor": "white",
             "linecolor": "white",
             "minorgridcolor": "white",
             "startlinecolor": "#2a3f5f"
            },
            "baxis": {
             "endlinecolor": "#2a3f5f",
             "gridcolor": "white",
             "linecolor": "white",
             "minorgridcolor": "white",
             "startlinecolor": "#2a3f5f"
            },
            "type": "carpet"
           }
          ],
          "choropleth": [
           {
            "colorbar": {
             "outlinewidth": 0,
             "ticks": ""
            },
            "type": "choropleth"
           }
          ],
          "contour": [
           {
            "colorbar": {
             "outlinewidth": 0,
             "ticks": ""
            },
            "colorscale": [
             [
              0,
              "#0d0887"
             ],
             [
              0.1111111111111111,
              "#46039f"
             ],
             [
              0.2222222222222222,
              "#7201a8"
             ],
             [
              0.3333333333333333,
              "#9c179e"
             ],
             [
              0.4444444444444444,
              "#bd3786"
             ],
             [
              0.5555555555555556,
              "#d8576b"
             ],
             [
              0.6666666666666666,
              "#ed7953"
             ],
             [
              0.7777777777777778,
              "#fb9f3a"
             ],
             [
              0.8888888888888888,
              "#fdca26"
             ],
             [
              1,
              "#f0f921"
             ]
            ],
            "type": "contour"
           }
          ],
          "contourcarpet": [
           {
            "colorbar": {
             "outlinewidth": 0,
             "ticks": ""
            },
            "type": "contourcarpet"
           }
          ],
          "heatmap": [
           {
            "colorbar": {
             "outlinewidth": 0,
             "ticks": ""
            },
            "colorscale": [
             [
              0,
              "#0d0887"
             ],
             [
              0.1111111111111111,
              "#46039f"
             ],
             [
              0.2222222222222222,
              "#7201a8"
             ],
             [
              0.3333333333333333,
              "#9c179e"
             ],
             [
              0.4444444444444444,
              "#bd3786"
             ],
             [
              0.5555555555555556,
              "#d8576b"
             ],
             [
              0.6666666666666666,
              "#ed7953"
             ],
             [
              0.7777777777777778,
              "#fb9f3a"
             ],
             [
              0.8888888888888888,
              "#fdca26"
             ],
             [
              1,
              "#f0f921"
             ]
            ],
            "type": "heatmap"
           }
          ],
          "heatmapgl": [
           {
            "colorbar": {
             "outlinewidth": 0,
             "ticks": ""
            },
            "colorscale": [
             [
              0,
              "#0d0887"
             ],
             [
              0.1111111111111111,
              "#46039f"
             ],
             [
              0.2222222222222222,
              "#7201a8"
             ],
             [
              0.3333333333333333,
              "#9c179e"
             ],
             [
              0.4444444444444444,
              "#bd3786"
             ],
             [
              0.5555555555555556,
              "#d8576b"
             ],
             [
              0.6666666666666666,
              "#ed7953"
             ],
             [
              0.7777777777777778,
              "#fb9f3a"
             ],
             [
              0.8888888888888888,
              "#fdca26"
             ],
             [
              1,
              "#f0f921"
             ]
            ],
            "type": "heatmapgl"
           }
          ],
          "histogram": [
           {
            "marker": {
             "pattern": {
              "fillmode": "overlay",
              "size": 10,
              "solidity": 0.2
             }
            },
            "type": "histogram"
           }
          ],
          "histogram2d": [
           {
            "colorbar": {
             "outlinewidth": 0,
             "ticks": ""
            },
            "colorscale": [
             [
              0,
              "#0d0887"
             ],
             [
              0.1111111111111111,
              "#46039f"
             ],
             [
              0.2222222222222222,
              "#7201a8"
             ],
             [
              0.3333333333333333,
              "#9c179e"
             ],
             [
              0.4444444444444444,
              "#bd3786"
             ],
             [
              0.5555555555555556,
              "#d8576b"
             ],
             [
              0.6666666666666666,
              "#ed7953"
             ],
             [
              0.7777777777777778,
              "#fb9f3a"
             ],
             [
              0.8888888888888888,
              "#fdca26"
             ],
             [
              1,
              "#f0f921"
             ]
            ],
            "type": "histogram2d"
           }
          ],
          "histogram2dcontour": [
           {
            "colorbar": {
             "outlinewidth": 0,
             "ticks": ""
            },
            "colorscale": [
             [
              0,
              "#0d0887"
             ],
             [
              0.1111111111111111,
              "#46039f"
             ],
             [
              0.2222222222222222,
              "#7201a8"
             ],
             [
              0.3333333333333333,
              "#9c179e"
             ],
             [
              0.4444444444444444,
              "#bd3786"
             ],
             [
              0.5555555555555556,
              "#d8576b"
             ],
             [
              0.6666666666666666,
              "#ed7953"
             ],
             [
              0.7777777777777778,
              "#fb9f3a"
             ],
             [
              0.8888888888888888,
              "#fdca26"
             ],
             [
              1,
              "#f0f921"
             ]
            ],
            "type": "histogram2dcontour"
           }
          ],
          "mesh3d": [
           {
            "colorbar": {
             "outlinewidth": 0,
             "ticks": ""
            },
            "type": "mesh3d"
           }
          ],
          "parcoords": [
           {
            "line": {
             "colorbar": {
              "outlinewidth": 0,
              "ticks": ""
             }
            },
            "type": "parcoords"
           }
          ],
          "pie": [
           {
            "automargin": true,
            "type": "pie"
           }
          ],
          "scatter": [
           {
            "marker": {
             "colorbar": {
              "outlinewidth": 0,
              "ticks": ""
             }
            },
            "type": "scatter"
           }
          ],
          "scatter3d": [
           {
            "line": {
             "colorbar": {
              "outlinewidth": 0,
              "ticks": ""
             }
            },
            "marker": {
             "colorbar": {
              "outlinewidth": 0,
              "ticks": ""
             }
            },
            "type": "scatter3d"
           }
          ],
          "scattercarpet": [
           {
            "marker": {
             "colorbar": {
              "outlinewidth": 0,
              "ticks": ""
             }
            },
            "type": "scattercarpet"
           }
          ],
          "scattergeo": [
           {
            "marker": {
             "colorbar": {
              "outlinewidth": 0,
              "ticks": ""
             }
            },
            "type": "scattergeo"
           }
          ],
          "scattergl": [
           {
            "marker": {
             "colorbar": {
              "outlinewidth": 0,
              "ticks": ""
             }
            },
            "type": "scattergl"
           }
          ],
          "scattermapbox": [
           {
            "marker": {
             "colorbar": {
              "outlinewidth": 0,
              "ticks": ""
             }
            },
            "type": "scattermapbox"
           }
          ],
          "scatterpolar": [
           {
            "marker": {
             "colorbar": {
              "outlinewidth": 0,
              "ticks": ""
             }
            },
            "type": "scatterpolar"
           }
          ],
          "scatterpolargl": [
           {
            "marker": {
             "colorbar": {
              "outlinewidth": 0,
              "ticks": ""
             }
            },
            "type": "scatterpolargl"
           }
          ],
          "scatterternary": [
           {
            "marker": {
             "colorbar": {
              "outlinewidth": 0,
              "ticks": ""
             }
            },
            "type": "scatterternary"
           }
          ],
          "surface": [
           {
            "colorbar": {
             "outlinewidth": 0,
             "ticks": ""
            },
            "colorscale": [
             [
              0,
              "#0d0887"
             ],
             [
              0.1111111111111111,
              "#46039f"
             ],
             [
              0.2222222222222222,
              "#7201a8"
             ],
             [
              0.3333333333333333,
              "#9c179e"
             ],
             [
              0.4444444444444444,
              "#bd3786"
             ],
             [
              0.5555555555555556,
              "#d8576b"
             ],
             [
              0.6666666666666666,
              "#ed7953"
             ],
             [
              0.7777777777777778,
              "#fb9f3a"
             ],
             [
              0.8888888888888888,
              "#fdca26"
             ],
             [
              1,
              "#f0f921"
             ]
            ],
            "type": "surface"
           }
          ],
          "table": [
           {
            "cells": {
             "fill": {
              "color": "#EBF0F8"
             },
             "line": {
              "color": "white"
             }
            },
            "header": {
             "fill": {
              "color": "#C8D4E3"
             },
             "line": {
              "color": "white"
             }
            },
            "type": "table"
           }
          ]
         },
         "layout": {
          "annotationdefaults": {
           "arrowcolor": "#2a3f5f",
           "arrowhead": 0,
           "arrowwidth": 1
          },
          "autotypenumbers": "strict",
          "coloraxis": {
           "colorbar": {
            "outlinewidth": 0,
            "ticks": ""
           }
          },
          "colorscale": {
           "diverging": [
            [
             0,
             "#8e0152"
            ],
            [
             0.1,
             "#c51b7d"
            ],
            [
             0.2,
             "#de77ae"
            ],
            [
             0.3,
             "#f1b6da"
            ],
            [
             0.4,
             "#fde0ef"
            ],
            [
             0.5,
             "#f7f7f7"
            ],
            [
             0.6,
             "#e6f5d0"
            ],
            [
             0.7,
             "#b8e186"
            ],
            [
             0.8,
             "#7fbc41"
            ],
            [
             0.9,
             "#4d9221"
            ],
            [
             1,
             "#276419"
            ]
           ],
           "sequential": [
            [
             0,
             "#0d0887"
            ],
            [
             0.1111111111111111,
             "#46039f"
            ],
            [
             0.2222222222222222,
             "#7201a8"
            ],
            [
             0.3333333333333333,
             "#9c179e"
            ],
            [
             0.4444444444444444,
             "#bd3786"
            ],
            [
             0.5555555555555556,
             "#d8576b"
            ],
            [
             0.6666666666666666,
             "#ed7953"
            ],
            [
             0.7777777777777778,
             "#fb9f3a"
            ],
            [
             0.8888888888888888,
             "#fdca26"
            ],
            [
             1,
             "#f0f921"
            ]
           ],
           "sequentialminus": [
            [
             0,
             "#0d0887"
            ],
            [
             0.1111111111111111,
             "#46039f"
            ],
            [
             0.2222222222222222,
             "#7201a8"
            ],
            [
             0.3333333333333333,
             "#9c179e"
            ],
            [
             0.4444444444444444,
             "#bd3786"
            ],
            [
             0.5555555555555556,
             "#d8576b"
            ],
            [
             0.6666666666666666,
             "#ed7953"
            ],
            [
             0.7777777777777778,
             "#fb9f3a"
            ],
            [
             0.8888888888888888,
             "#fdca26"
            ],
            [
             1,
             "#f0f921"
            ]
           ]
          },
          "colorway": [
           "#636efa",
           "#EF553B",
           "#00cc96",
           "#ab63fa",
           "#FFA15A",
           "#19d3f3",
           "#FF6692",
           "#B6E880",
           "#FF97FF",
           "#FECB52"
          ],
          "font": {
           "color": "#2a3f5f"
          },
          "geo": {
           "bgcolor": "white",
           "lakecolor": "white",
           "landcolor": "#E5ECF6",
           "showlakes": true,
           "showland": true,
           "subunitcolor": "white"
          },
          "hoverlabel": {
           "align": "left"
          },
          "hovermode": "closest",
          "mapbox": {
           "style": "light"
          },
          "paper_bgcolor": "white",
          "plot_bgcolor": "#E5ECF6",
          "polar": {
           "angularaxis": {
            "gridcolor": "white",
            "linecolor": "white",
            "ticks": ""
           },
           "bgcolor": "#E5ECF6",
           "radialaxis": {
            "gridcolor": "white",
            "linecolor": "white",
            "ticks": ""
           }
          },
          "scene": {
           "xaxis": {
            "backgroundcolor": "#E5ECF6",
            "gridcolor": "white",
            "gridwidth": 2,
            "linecolor": "white",
            "showbackground": true,
            "ticks": "",
            "zerolinecolor": "white"
           },
           "yaxis": {
            "backgroundcolor": "#E5ECF6",
            "gridcolor": "white",
            "gridwidth": 2,
            "linecolor": "white",
            "showbackground": true,
            "ticks": "",
            "zerolinecolor": "white"
           },
           "zaxis": {
            "backgroundcolor": "#E5ECF6",
            "gridcolor": "white",
            "gridwidth": 2,
            "linecolor": "white",
            "showbackground": true,
            "ticks": "",
            "zerolinecolor": "white"
           }
          },
          "shapedefaults": {
           "line": {
            "color": "#2a3f5f"
           }
          },
          "ternary": {
           "aaxis": {
            "gridcolor": "white",
            "linecolor": "white",
            "ticks": ""
           },
           "baxis": {
            "gridcolor": "white",
            "linecolor": "white",
            "ticks": ""
           },
           "bgcolor": "#E5ECF6",
           "caxis": {
            "gridcolor": "white",
            "linecolor": "white",
            "ticks": ""
           }
          },
          "title": {
           "x": 0.05
          },
          "xaxis": {
           "automargin": true,
           "gridcolor": "white",
           "linecolor": "white",
           "ticks": "",
           "title": {
            "standoff": 15
           },
           "zerolinecolor": "white",
           "zerolinewidth": 2
          },
          "yaxis": {
           "automargin": true,
           "gridcolor": "white",
           "linecolor": "white",
           "ticks": "",
           "title": {
            "standoff": 15
           },
           "zerolinecolor": "white",
           "zerolinewidth": 2
          }
         }
        },
        "xaxis": {
         "anchor": "y",
         "domain": [
          0,
          1
         ],
         "title": {
          "text": "Market_value"
         }
        },
        "yaxis": {
         "anchor": "x",
         "domain": [
          0,
          1
         ],
         "title": {
          "text": "Points"
         }
        }
       }
      }
     },
     "metadata": {},
     "output_type": "display_data"
    }
   ],
   "source": [
    "## Points against Expenditure\n",
    "fig2 = px.scatter(df, x=df.Market_value, y=df.Points, color=df.Team, trendline=\"ols\", trendline_scope=\"overall\")\n",
    "fig2.show()"
   ]
  },
  {
   "cell_type": "markdown",
   "metadata": {},
   "source": [
    "PSG's huge market value/points are being outlined in the chart above. We can exclude Paris Saint-Germain from the chart above and we can see a linear relation between points and market value."
   ]
  },
  {
   "cell_type": "code",
   "execution_count": null,
   "metadata": {},
   "outputs": [
    {
     "data": {
      "application/vnd.plotly.v1+json": {
       "config": {
        "plotlyServerURL": "https://plot.ly"
       },
       "data": [
        {
         "hovertemplate": "Team=AC Ajaccio<br>Pts_year_before=%{x}<br>Points=%{y}<extra></extra>",
         "legendgroup": "AC Ajaccio",
         "marker": {
          "color": "#636efa",
          "symbol": "circle"
         },
         "mode": "markers",
         "name": "AC Ajaccio",
         "orientation": "v",
         "showlegend": true,
         "type": "scatter",
         "x": [
          41,
          41,
          40
         ],
         "xaxis": "x",
         "y": [
          41,
          40,
          23
         ],
         "yaxis": "y"
        },
        {
         "hovertemplate": "Team=AJ Auxerre<br>Pts_year_before=%{x}<br>Points=%{y}<extra></extra>",
         "legendgroup": "AJ Auxerre",
         "marker": {
          "color": "#EF553B",
          "symbol": "circle"
         },
         "mode": "markers",
         "name": "AJ Auxerre",
         "orientation": "v",
         "showlegend": true,
         "type": "scatter",
         "x": [
          34
         ],
         "xaxis": "x",
         "y": [
          34
         ],
         "yaxis": "y"
        },
        {
         "hovertemplate": "Team=AS Monaco<br>Pts_year_before=%{x}<br>Points=%{y}<extra></extra>",
         "legendgroup": "AS Monaco",
         "marker": {
          "color": "#00cc96",
          "symbol": "circle"
         },
         "mode": "markers",
         "name": "AS Monaco",
         "orientation": "v",
         "showlegend": true,
         "type": "scatter",
         "x": [
          80,
          80,
          71,
          65,
          95,
          80,
          36,
          54
         ],
         "xaxis": "x",
         "y": [
          80,
          71,
          65,
          95,
          80,
          36,
          54,
          78
         ],
         "yaxis": "y"
        },
        {
         "hovertemplate": "Team=AS Nancy-Lorraine<br>Pts_year_before=%{x}<br>Points=%{y}<extra></extra>",
         "legendgroup": "AS Nancy-Lorraine",
         "marker": {
          "color": "#ab63fa",
          "symbol": "circle"
         },
         "mode": "markers",
         "name": "AS Nancy-Lorraine",
         "orientation": "v",
         "showlegend": true,
         "type": "scatter",
         "x": [
          45,
          45,
          38
         ],
         "xaxis": "x",
         "y": [
          45,
          38,
          35
         ],
         "yaxis": "y"
        },
        {
         "hovertemplate": "Team=AS Saint-Étienne<br>Pts_year_before=%{x}<br>Points=%{y}<extra></extra>",
         "legendgroup": "AS Saint-Étienne",
         "marker": {
          "color": "#FFA15A",
          "symbol": "circle"
         },
         "mode": "markers",
         "name": "AS Saint-Étienne",
         "orientation": "v",
         "showlegend": true,
         "type": "scatter",
         "x": [
          57,
          57,
          63,
          69,
          69,
          58,
          50,
          55,
          66,
          40
         ],
         "xaxis": "x",
         "y": [
          57,
          63,
          69,
          69,
          58,
          50,
          55,
          66,
          40,
          46
         ],
         "yaxis": "y"
        },
        {
         "hovertemplate": "Team=Amiens SC<br>Pts_year_before=%{x}<br>Points=%{y}<extra></extra>",
         "legendgroup": "Amiens SC",
         "marker": {
          "color": "#19d3f3",
          "symbol": "circle"
         },
         "mode": "markers",
         "name": "Amiens SC",
         "orientation": "v",
         "showlegend": true,
         "type": "scatter",
         "x": [
          45,
          45,
          38
         ],
         "xaxis": "x",
         "y": [
          45,
          38,
          31
         ],
         "yaxis": "y"
        },
        {
         "hovertemplate": "Team=Dijon FCO<br>Pts_year_before=%{x}<br>Points=%{y}<extra></extra>",
         "legendgroup": "Dijon FCO",
         "marker": {
          "color": "#FF6692",
          "symbol": "circle"
         },
         "mode": "markers",
         "name": "Dijon FCO",
         "orientation": "v",
         "showlegend": true,
         "type": "scatter",
         "x": [
          36,
          36,
          37,
          48,
          34,
          40
         ],
         "xaxis": "x",
         "y": [
          36,
          37,
          48,
          34,
          40,
          21
         ],
         "yaxis": "y"
        },
        {
         "hovertemplate": "Team=EA Guingamp<br>Pts_year_before=%{x}<br>Points=%{y}<extra></extra>",
         "legendgroup": "EA Guingamp",
         "marker": {
          "color": "#B6E880",
          "symbol": "circle"
         },
         "mode": "markers",
         "name": "EA Guingamp",
         "orientation": "v",
         "showlegend": true,
         "type": "scatter",
         "x": [
          42,
          42,
          49,
          44,
          50,
          47
         ],
         "xaxis": "x",
         "y": [
          42,
          49,
          44,
          50,
          47,
          27
         ],
         "yaxis": "y"
        },
        {
         "hovertemplate": "Team=ESTAC Troyes<br>Pts_year_before=%{x}<br>Points=%{y}<extra></extra>",
         "legendgroup": "ESTAC Troyes",
         "marker": {
          "color": "#FF97FF",
          "symbol": "circle"
         },
         "mode": "markers",
         "name": "ESTAC Troyes",
         "orientation": "v",
         "showlegend": true,
         "type": "scatter",
         "x": [
          37,
          37,
          18
         ],
         "xaxis": "x",
         "y": [
          37,
          18,
          33
         ],
         "yaxis": "y"
        },
        {
         "hovertemplate": "Team=FC Girondins Bordeaux<br>Pts_year_before=%{x}<br>Points=%{y}<extra></extra>",
         "legendgroup": "FC Girondins Bordeaux",
         "marker": {
          "color": "#FECB52",
          "symbol": "circle"
         },
         "mode": "markers",
         "name": "FC Girondins Bordeaux",
         "orientation": "v",
         "showlegend": true,
         "type": "scatter",
         "x": [
          61,
          61,
          55,
          53,
          63,
          50,
          59,
          55,
          41,
          50
         ],
         "xaxis": "x",
         "y": [
          61,
          55,
          53,
          63,
          50,
          59,
          55,
          41,
          50,
          45
         ],
         "yaxis": "y"
        },
        {
         "hovertemplate": "Team=FC Lorient<br>Pts_year_before=%{x}<br>Points=%{y}<extra></extra>",
         "legendgroup": "FC Lorient",
         "marker": {
          "color": "#636efa",
          "symbol": "circle"
         },
         "mode": "markers",
         "name": "FC Lorient",
         "orientation": "v",
         "showlegend": true,
         "type": "scatter",
         "x": [
          39,
          39,
          53,
          49,
          43,
          46,
          36
         ],
         "xaxis": "x",
         "y": [
          39,
          53,
          49,
          43,
          46,
          36,
          42
         ],
         "yaxis": "y"
        },
        {
         "hovertemplate": "Team=FC Metz<br>Pts_year_before=%{x}<br>Points=%{y}<extra></extra>",
         "legendgroup": "FC Metz",
         "marker": {
          "color": "#EF553B",
          "symbol": "circle"
         },
         "mode": "markers",
         "name": "FC Metz",
         "orientation": "v",
         "showlegend": true,
         "type": "scatter",
         "x": [
          30,
          30,
          43,
          26,
          46
         ],
         "xaxis": "x",
         "y": [
          30,
          43,
          26,
          46,
          47
         ],
         "yaxis": "y"
        },
        {
         "hovertemplate": "Team=FC Nantes<br>Pts_year_before=%{x}<br>Points=%{y}<extra></extra>",
         "legendgroup": "FC Nantes",
         "marker": {
          "color": "#00cc96",
          "symbol": "circle"
         },
         "mode": "markers",
         "name": "FC Nantes",
         "orientation": "v",
         "showlegend": true,
         "type": "scatter",
         "x": [
          46,
          46,
          45,
          48,
          51,
          52,
          48,
          50
         ],
         "xaxis": "x",
         "y": [
          46,
          45,
          48,
          51,
          52,
          48,
          50,
          40
         ],
         "yaxis": "y"
        },
        {
         "hovertemplate": "Team=FC Sochaux-Montbéliard<br>Pts_year_before=%{x}<br>Points=%{y}<extra></extra>",
         "legendgroup": "FC Sochaux-Montbéliard",
         "marker": {
          "color": "#ab63fa",
          "symbol": "circle"
         },
         "mode": "markers",
         "name": "FC Sochaux-Montbéliard",
         "orientation": "v",
         "showlegend": true,
         "type": "scatter",
         "x": [
          42,
          42,
          41
         ],
         "xaxis": "x",
         "y": [
          42,
          41,
          40
         ],
         "yaxis": "y"
        },
        {
         "hovertemplate": "Team=FC Toulouse<br>Pts_year_before=%{x}<br>Points=%{y}<extra></extra>",
         "legendgroup": "FC Toulouse",
         "marker": {
          "color": "#FFA15A",
          "symbol": "circle"
         },
         "mode": "markers",
         "name": "FC Toulouse",
         "orientation": "v",
         "showlegend": true,
         "type": "scatter",
         "x": [
          56,
          56,
          51,
          49,
          42,
          40,
          44,
          37,
          38
         ],
         "xaxis": "x",
         "y": [
          56,
          51,
          49,
          42,
          40,
          44,
          37,
          38,
          17
         ],
         "yaxis": "y"
        },
        {
         "hovertemplate": "Team=FC Évian Thonon Gaillard<br>Pts_year_before=%{x}<br>Points=%{y}<extra></extra>",
         "legendgroup": "FC Évian Thonon Gaillard",
         "marker": {
          "color": "#19d3f3",
          "symbol": "circle"
         },
         "mode": "markers",
         "name": "FC Évian Thonon Gaillard",
         "orientation": "v",
         "showlegend": true,
         "type": "scatter",
         "x": [
          50,
          50,
          40,
          44
         ],
         "xaxis": "x",
         "y": [
          50,
          40,
          44,
          37
         ],
         "yaxis": "y"
        },
        {
         "hovertemplate": "Team=GFC Ajaccio<br>Pts_year_before=%{x}<br>Points=%{y}<extra></extra>",
         "legendgroup": "GFC Ajaccio",
         "marker": {
          "color": "#FF6692",
          "symbol": "circle"
         },
         "mode": "markers",
         "name": "GFC Ajaccio",
         "orientation": "v",
         "showlegend": true,
         "type": "scatter",
         "x": [
          37
         ],
         "xaxis": "x",
         "y": [
          37
         ],
         "yaxis": "y"
        },
        {
         "hovertemplate": "Team=LOSC Lille<br>Pts_year_before=%{x}<br>Points=%{y}<extra></extra>",
         "legendgroup": "LOSC Lille",
         "marker": {
          "color": "#B6E880",
          "symbol": "circle"
         },
         "mode": "markers",
         "name": "LOSC Lille",
         "orientation": "v",
         "showlegend": true,
         "type": "scatter",
         "x": [
          74,
          74,
          62,
          71,
          56,
          60,
          46,
          38,
          75,
          66
         ],
         "xaxis": "x",
         "y": [
          74,
          62,
          71,
          56,
          60,
          46,
          38,
          75,
          66,
          83
         ],
         "yaxis": "y"
        },
        {
         "hovertemplate": "Team=Montpellier HSC<br>Pts_year_before=%{x}<br>Points=%{y}<extra></extra>",
         "legendgroup": "Montpellier HSC",
         "marker": {
          "color": "#FF97FF",
          "symbol": "circle"
         },
         "mode": "markers",
         "name": "Montpellier HSC",
         "orientation": "v",
         "showlegend": true,
         "type": "scatter",
         "x": [
          82,
          82,
          52,
          42,
          56,
          49,
          39,
          51,
          59,
          54
         ],
         "xaxis": "x",
         "y": [
          82,
          52,
          42,
          56,
          49,
          39,
          51,
          59,
          54,
          54
         ],
         "yaxis": "y"
        },
        {
         "hovertemplate": "Team=Nîmes Olympique<br>Pts_year_before=%{x}<br>Points=%{y}<extra></extra>",
         "legendgroup": "Nîmes Olympique",
         "marker": {
          "color": "#FECB52",
          "symbol": "circle"
         },
         "mode": "markers",
         "name": "Nîmes Olympique",
         "orientation": "v",
         "showlegend": true,
         "type": "scatter",
         "x": [
          53,
          53,
          36
         ],
         "xaxis": "x",
         "y": [
          53,
          36,
          35
         ],
         "yaxis": "y"
        },
        {
         "hovertemplate": "Team=OGC Nice<br>Pts_year_before=%{x}<br>Points=%{y}<extra></extra>",
         "legendgroup": "OGC Nice",
         "marker": {
          "color": "#636efa",
          "symbol": "circle"
         },
         "mode": "markers",
         "name": "OGC Nice",
         "orientation": "v",
         "showlegend": true,
         "type": "scatter",
         "x": [
          42,
          42,
          64,
          42,
          48,
          63,
          78,
          54,
          56,
          55
         ],
         "xaxis": "x",
         "y": [
          42,
          64,
          42,
          48,
          63,
          78,
          54,
          56,
          55,
          52
         ],
         "yaxis": "y"
        },
        {
         "hovertemplate": "Team=Olympique Lyon<br>Pts_year_before=%{x}<br>Points=%{y}<extra></extra>",
         "legendgroup": "Olympique Lyon",
         "marker": {
          "color": "#EF553B",
          "symbol": "circle"
         },
         "mode": "markers",
         "name": "Olympique Lyon",
         "orientation": "v",
         "showlegend": true,
         "type": "scatter",
         "x": [
          64,
          64,
          67,
          61,
          75,
          65,
          67,
          78,
          72,
          54
         ],
         "xaxis": "x",
         "y": [
          64,
          67,
          61,
          75,
          65,
          67,
          78,
          72,
          54,
          76
         ],
         "yaxis": "y"
        },
        {
         "hovertemplate": "Team=Olympique Marseille<br>Pts_year_before=%{x}<br>Points=%{y}<extra></extra>",
         "legendgroup": "Olympique Marseille",
         "marker": {
          "color": "#00cc96",
          "symbol": "circle"
         },
         "mode": "markers",
         "name": "Olympique Marseille",
         "orientation": "v",
         "showlegend": true,
         "type": "scatter",
         "x": [
          48,
          48,
          71,
          60,
          69,
          48,
          62,
          77,
          61,
          76
         ],
         "xaxis": "x",
         "y": [
          48,
          71,
          60,
          69,
          48,
          62,
          77,
          61,
          76,
          60
         ],
         "yaxis": "y"
        },
        {
         "hovertemplate": "Team=Paris Saint-Germain<br>Pts_year_before=%{x}<br>Points=%{y}<extra></extra>",
         "legendgroup": "Paris Saint-Germain",
         "marker": {
          "color": "#ab63fa",
          "symbol": "circle"
         },
         "mode": "markers",
         "name": "Paris Saint-Germain",
         "orientation": "v",
         "showlegend": true,
         "type": "scatter",
         "x": [
          79,
          79,
          83,
          89,
          83,
          96,
          87,
          93,
          91,
          95
         ],
         "xaxis": "x",
         "y": [
          79,
          83,
          89,
          83,
          96,
          87,
          93,
          91,
          95,
          82
         ],
         "yaxis": "y"
        },
        {
         "hovertemplate": "Team=RC Lens<br>Pts_year_before=%{x}<br>Points=%{y}<extra></extra>",
         "legendgroup": "RC Lens",
         "marker": {
          "color": "#FFA15A",
          "symbol": "circle"
         },
         "mode": "markers",
         "name": "RC Lens",
         "orientation": "v",
         "showlegend": true,
         "type": "scatter",
         "x": [
          29,
          29
         ],
         "xaxis": "x",
         "y": [
          29,
          57
         ],
         "yaxis": "y"
        },
        {
         "hovertemplate": "Team=RC Strasbourg Alsace<br>Pts_year_before=%{x}<br>Points=%{y}<extra></extra>",
         "legendgroup": "RC Strasbourg Alsace",
         "marker": {
          "color": "#19d3f3",
          "symbol": "circle"
         },
         "mode": "markers",
         "name": "RC Strasbourg Alsace",
         "orientation": "v",
         "showlegend": true,
         "type": "scatter",
         "x": [
          38,
          38,
          49,
          53
         ],
         "xaxis": "x",
         "y": [
          38,
          49,
          53,
          42
         ],
         "yaxis": "y"
        },
        {
         "hovertemplate": "Team=SC Bastia<br>Pts_year_before=%{x}<br>Points=%{y}<extra></extra>",
         "legendgroup": "SC Bastia",
         "marker": {
          "color": "#FF6692",
          "symbol": "circle"
         },
         "mode": "markers",
         "name": "SC Bastia",
         "orientation": "v",
         "showlegend": true,
         "type": "scatter",
         "x": [
          47,
          47,
          49,
          47,
          50
         ],
         "xaxis": "x",
         "y": [
          47,
          49,
          47,
          50,
          34
         ],
         "yaxis": "y"
        },
        {
         "hovertemplate": "Team=SCO Angers<br>Pts_year_before=%{x}<br>Points=%{y}<extra></extra>",
         "legendgroup": "SCO Angers",
         "marker": {
          "color": "#B6E880",
          "symbol": "circle"
         },
         "mode": "markers",
         "name": "SCO Angers",
         "orientation": "v",
         "showlegend": true,
         "type": "scatter",
         "x": [
          50,
          50,
          46,
          41,
          46,
          52
         ],
         "xaxis": "x",
         "y": [
          50,
          46,
          41,
          46,
          52,
          44
         ],
         "yaxis": "y"
        },
        {
         "hovertemplate": "Team=SM Caen<br>Pts_year_before=%{x}<br>Points=%{y}<extra></extra>",
         "legendgroup": "SM Caen",
         "marker": {
          "color": "#FF97FF",
          "symbol": "circle"
         },
         "mode": "markers",
         "name": "SM Caen",
         "orientation": "v",
         "showlegend": true,
         "type": "scatter",
         "x": [
          38,
          38,
          46,
          54,
          37,
          38
         ],
         "xaxis": "x",
         "y": [
          38,
          46,
          54,
          37,
          38,
          33
         ],
         "yaxis": "y"
        },
        {
         "hovertemplate": "Team=Stade Brestois 29<br>Pts_year_before=%{x}<br>Points=%{y}<extra></extra>",
         "legendgroup": "Stade Brestois 29",
         "marker": {
          "color": "#FECB52",
          "symbol": "circle"
         },
         "mode": "markers",
         "name": "Stade Brestois 29",
         "orientation": "v",
         "showlegend": true,
         "type": "scatter",
         "x": [
          41,
          41,
          29,
          46
         ],
         "xaxis": "x",
         "y": [
          41,
          29,
          46,
          41
         ],
         "yaxis": "y"
        },
        {
         "hovertemplate": "Team=Stade Reims<br>Pts_year_before=%{x}<br>Points=%{y}<extra></extra>",
         "legendgroup": "Stade Reims",
         "marker": {
          "color": "#636efa",
          "symbol": "circle"
         },
         "mode": "markers",
         "name": "Stade Reims",
         "orientation": "v",
         "showlegend": true,
         "type": "scatter",
         "x": [
          43,
          43,
          48,
          44,
          39,
          55,
          55
         ],
         "xaxis": "x",
         "y": [
          43,
          48,
          44,
          39,
          55,
          55,
          42
         ],
         "yaxis": "y"
        },
        {
         "hovertemplate": "Team=Stade Rennais FC<br>Pts_year_before=%{x}<br>Points=%{y}<extra></extra>",
         "legendgroup": "Stade Rennais FC",
         "marker": {
          "color": "#EF553B",
          "symbol": "circle"
         },
         "mode": "markers",
         "name": "Stade Rennais FC",
         "orientation": "v",
         "showlegend": true,
         "type": "scatter",
         "x": [
          60,
          60,
          46,
          46,
          50,
          52,
          50,
          58,
          52,
          67
         ],
         "xaxis": "x",
         "y": [
          60,
          46,
          46,
          50,
          52,
          50,
          58,
          52,
          67,
          58
         ],
         "yaxis": "y"
        },
        {
         "hovertemplate": "Team=Valenciennes FC<br>Pts_year_before=%{x}<br>Points=%{y}<extra></extra>",
         "legendgroup": "Valenciennes FC",
         "marker": {
          "color": "#00cc96",
          "symbol": "circle"
         },
         "mode": "markers",
         "name": "Valenciennes FC",
         "orientation": "v",
         "showlegend": true,
         "type": "scatter",
         "x": [
          43,
          43,
          48
         ],
         "xaxis": "x",
         "y": [
          43,
          48,
          29
         ],
         "yaxis": "y"
        },
        {
         "hovertemplate": "<b>OLS trendline</b><br>Points = 0.768227 * Pts_year_before + 11.4375<br>R<sup>2</sup>=0.534650<br><br>Pts_year_before=%{x}<br>Points=%{y} <b>(trend)</b><extra></extra>",
         "legendgroup": "Overall Trendline",
         "line": {
          "color": "#ab63fa"
         },
         "mode": "lines",
         "name": "Overall Trendline",
         "showlegend": true,
         "type": "scatter",
         "x": [
          18,
          26,
          29,
          29,
          29,
          30,
          30,
          34,
          34,
          36,
          36,
          36,
          36,
          36,
          37,
          37,
          37,
          37,
          37,
          37,
          38,
          38,
          38,
          38,
          38,
          38,
          38,
          38,
          38,
          39,
          39,
          39,
          39,
          40,
          40,
          40,
          40,
          40,
          41,
          41,
          41,
          41,
          41,
          41,
          41,
          42,
          42,
          42,
          42,
          42,
          42,
          42,
          42,
          42,
          43,
          43,
          43,
          43,
          43,
          43,
          44,
          44,
          44,
          44,
          45,
          45,
          45,
          45,
          45,
          46,
          46,
          46,
          46,
          46,
          46,
          46,
          46,
          46,
          46,
          46,
          47,
          47,
          47,
          47,
          48,
          48,
          48,
          48,
          48,
          48,
          48,
          48,
          48,
          49,
          49,
          49,
          49,
          49,
          49,
          50,
          50,
          50,
          50,
          50,
          50,
          50,
          50,
          50,
          50,
          50,
          50,
          51,
          51,
          51,
          52,
          52,
          52,
          52,
          52,
          53,
          53,
          53,
          53,
          53,
          54,
          54,
          54,
          54,
          54,
          55,
          55,
          55,
          55,
          55,
          55,
          56,
          56,
          56,
          56,
          56,
          57,
          57,
          58,
          58,
          59,
          59,
          60,
          60,
          60,
          60,
          61,
          61,
          61,
          61,
          62,
          62,
          63,
          63,
          63,
          64,
          64,
          64,
          65,
          65,
          66,
          66,
          67,
          67,
          67,
          69,
          69,
          69,
          71,
          71,
          71,
          72,
          74,
          74,
          75,
          75,
          76,
          77,
          78,
          78,
          79,
          79,
          80,
          80,
          80,
          82,
          82,
          83,
          83,
          87,
          89,
          91,
          93,
          95,
          95,
          96
         ],
         "xaxis": "x",
         "y": [
          25.26555980988497,
          31.41137814045665,
          33.71606001442103,
          33.71606001442103,
          33.71606001442103,
          34.48428730574249,
          34.48428730574249,
          37.557196471028334,
          37.557196471028334,
          39.09365105367125,
          39.09365105367125,
          39.09365105367125,
          39.09365105367125,
          39.09365105367125,
          39.86187834499272,
          39.86187834499272,
          39.86187834499272,
          39.86187834499272,
          39.86187834499272,
          39.86187834499272,
          40.63010563631417,
          40.63010563631417,
          40.63010563631417,
          40.63010563631417,
          40.63010563631417,
          40.63010563631417,
          40.63010563631417,
          40.63010563631417,
          40.63010563631417,
          41.398332927635636,
          41.398332927635636,
          41.398332927635636,
          41.398332927635636,
          42.166560218957095,
          42.166560218957095,
          42.166560218957095,
          42.166560218957095,
          42.166560218957095,
          42.934787510278554,
          42.934787510278554,
          42.934787510278554,
          42.934787510278554,
          42.934787510278554,
          42.934787510278554,
          42.934787510278554,
          43.70301480160001,
          43.70301480160001,
          43.70301480160001,
          43.70301480160001,
          43.70301480160001,
          43.70301480160001,
          43.70301480160001,
          43.70301480160001,
          43.70301480160001,
          44.47124209292147,
          44.47124209292147,
          44.47124209292147,
          44.47124209292147,
          44.47124209292147,
          44.47124209292147,
          45.23946938424294,
          45.23946938424294,
          45.23946938424294,
          45.23946938424294,
          46.0076966755644,
          46.0076966755644,
          46.0076966755644,
          46.0076966755644,
          46.0076966755644,
          46.775923966885856,
          46.775923966885856,
          46.775923966885856,
          46.775923966885856,
          46.775923966885856,
          46.775923966885856,
          46.775923966885856,
          46.775923966885856,
          46.775923966885856,
          46.775923966885856,
          46.775923966885856,
          47.544151258207314,
          47.544151258207314,
          47.544151258207314,
          47.544151258207314,
          48.31237854952877,
          48.31237854952877,
          48.31237854952877,
          48.31237854952877,
          48.31237854952877,
          48.31237854952877,
          48.31237854952877,
          48.31237854952877,
          48.31237854952877,
          49.08060584085023,
          49.08060584085023,
          49.08060584085023,
          49.08060584085023,
          49.08060584085023,
          49.08060584085023,
          49.8488331321717,
          49.8488331321717,
          49.8488331321717,
          49.8488331321717,
          49.8488331321717,
          49.8488331321717,
          49.8488331321717,
          49.8488331321717,
          49.8488331321717,
          49.8488331321717,
          49.8488331321717,
          49.8488331321717,
          50.61706042349316,
          50.61706042349316,
          50.61706042349316,
          51.385287714814616,
          51.385287714814616,
          51.385287714814616,
          51.385287714814616,
          51.385287714814616,
          52.153515006136075,
          52.153515006136075,
          52.153515006136075,
          52.153515006136075,
          52.153515006136075,
          52.921742297457534,
          52.921742297457534,
          52.921742297457534,
          52.921742297457534,
          52.921742297457534,
          53.68996958877899,
          53.68996958877899,
          53.68996958877899,
          53.68996958877899,
          53.68996958877899,
          53.68996958877899,
          54.45819688010046,
          54.45819688010046,
          54.45819688010046,
          54.45819688010046,
          54.45819688010046,
          55.22642417142192,
          55.22642417142192,
          55.99465146274338,
          55.99465146274338,
          56.762878754064836,
          56.762878754064836,
          57.531106045386295,
          57.531106045386295,
          57.531106045386295,
          57.531106045386295,
          58.299333336707754,
          58.299333336707754,
          58.299333336707754,
          58.299333336707754,
          59.06756062802922,
          59.06756062802922,
          59.83578791935068,
          59.83578791935068,
          59.83578791935068,
          60.60401521067214,
          60.60401521067214,
          60.60401521067214,
          61.3722425019936,
          61.3722425019936,
          62.140469793315056,
          62.140469793315056,
          62.90869708463652,
          62.90869708463652,
          62.90869708463652,
          64.44515166727945,
          64.44515166727945,
          64.44515166727945,
          65.98160624992235,
          65.98160624992235,
          65.98160624992235,
          66.74983354124382,
          68.28628812388675,
          68.28628812388675,
          69.0545154152082,
          69.0545154152082,
          69.82274270652965,
          70.59096999785112,
          71.35919728917258,
          71.35919728917258,
          72.12742458049405,
          72.12742458049405,
          72.8956518718155,
          72.8956518718155,
          72.8956518718155,
          74.43210645445842,
          74.43210645445842,
          75.20033374577989,
          75.20033374577989,
          78.27324291106572,
          79.80969749370864,
          81.34615207635156,
          82.88260665899448,
          84.41906124163741,
          84.41906124163741,
          85.18728853295886
         ],
         "yaxis": "y"
        }
       ],
       "layout": {
        "legend": {
         "title": {
          "text": "Team"
         },
         "tracegroupgap": 0
        },
        "margin": {
         "t": 60
        },
        "template": {
         "data": {
          "bar": [
           {
            "error_x": {
             "color": "#2a3f5f"
            },
            "error_y": {
             "color": "#2a3f5f"
            },
            "marker": {
             "line": {
              "color": "#E5ECF6",
              "width": 0.5
             },
             "pattern": {
              "fillmode": "overlay",
              "size": 10,
              "solidity": 0.2
             }
            },
            "type": "bar"
           }
          ],
          "barpolar": [
           {
            "marker": {
             "line": {
              "color": "#E5ECF6",
              "width": 0.5
             },
             "pattern": {
              "fillmode": "overlay",
              "size": 10,
              "solidity": 0.2
             }
            },
            "type": "barpolar"
           }
          ],
          "carpet": [
           {
            "aaxis": {
             "endlinecolor": "#2a3f5f",
             "gridcolor": "white",
             "linecolor": "white",
             "minorgridcolor": "white",
             "startlinecolor": "#2a3f5f"
            },
            "baxis": {
             "endlinecolor": "#2a3f5f",
             "gridcolor": "white",
             "linecolor": "white",
             "minorgridcolor": "white",
             "startlinecolor": "#2a3f5f"
            },
            "type": "carpet"
           }
          ],
          "choropleth": [
           {
            "colorbar": {
             "outlinewidth": 0,
             "ticks": ""
            },
            "type": "choropleth"
           }
          ],
          "contour": [
           {
            "colorbar": {
             "outlinewidth": 0,
             "ticks": ""
            },
            "colorscale": [
             [
              0,
              "#0d0887"
             ],
             [
              0.1111111111111111,
              "#46039f"
             ],
             [
              0.2222222222222222,
              "#7201a8"
             ],
             [
              0.3333333333333333,
              "#9c179e"
             ],
             [
              0.4444444444444444,
              "#bd3786"
             ],
             [
              0.5555555555555556,
              "#d8576b"
             ],
             [
              0.6666666666666666,
              "#ed7953"
             ],
             [
              0.7777777777777778,
              "#fb9f3a"
             ],
             [
              0.8888888888888888,
              "#fdca26"
             ],
             [
              1,
              "#f0f921"
             ]
            ],
            "type": "contour"
           }
          ],
          "contourcarpet": [
           {
            "colorbar": {
             "outlinewidth": 0,
             "ticks": ""
            },
            "type": "contourcarpet"
           }
          ],
          "heatmap": [
           {
            "colorbar": {
             "outlinewidth": 0,
             "ticks": ""
            },
            "colorscale": [
             [
              0,
              "#0d0887"
             ],
             [
              0.1111111111111111,
              "#46039f"
             ],
             [
              0.2222222222222222,
              "#7201a8"
             ],
             [
              0.3333333333333333,
              "#9c179e"
             ],
             [
              0.4444444444444444,
              "#bd3786"
             ],
             [
              0.5555555555555556,
              "#d8576b"
             ],
             [
              0.6666666666666666,
              "#ed7953"
             ],
             [
              0.7777777777777778,
              "#fb9f3a"
             ],
             [
              0.8888888888888888,
              "#fdca26"
             ],
             [
              1,
              "#f0f921"
             ]
            ],
            "type": "heatmap"
           }
          ],
          "heatmapgl": [
           {
            "colorbar": {
             "outlinewidth": 0,
             "ticks": ""
            },
            "colorscale": [
             [
              0,
              "#0d0887"
             ],
             [
              0.1111111111111111,
              "#46039f"
             ],
             [
              0.2222222222222222,
              "#7201a8"
             ],
             [
              0.3333333333333333,
              "#9c179e"
             ],
             [
              0.4444444444444444,
              "#bd3786"
             ],
             [
              0.5555555555555556,
              "#d8576b"
             ],
             [
              0.6666666666666666,
              "#ed7953"
             ],
             [
              0.7777777777777778,
              "#fb9f3a"
             ],
             [
              0.8888888888888888,
              "#fdca26"
             ],
             [
              1,
              "#f0f921"
             ]
            ],
            "type": "heatmapgl"
           }
          ],
          "histogram": [
           {
            "marker": {
             "pattern": {
              "fillmode": "overlay",
              "size": 10,
              "solidity": 0.2
             }
            },
            "type": "histogram"
           }
          ],
          "histogram2d": [
           {
            "colorbar": {
             "outlinewidth": 0,
             "ticks": ""
            },
            "colorscale": [
             [
              0,
              "#0d0887"
             ],
             [
              0.1111111111111111,
              "#46039f"
             ],
             [
              0.2222222222222222,
              "#7201a8"
             ],
             [
              0.3333333333333333,
              "#9c179e"
             ],
             [
              0.4444444444444444,
              "#bd3786"
             ],
             [
              0.5555555555555556,
              "#d8576b"
             ],
             [
              0.6666666666666666,
              "#ed7953"
             ],
             [
              0.7777777777777778,
              "#fb9f3a"
             ],
             [
              0.8888888888888888,
              "#fdca26"
             ],
             [
              1,
              "#f0f921"
             ]
            ],
            "type": "histogram2d"
           }
          ],
          "histogram2dcontour": [
           {
            "colorbar": {
             "outlinewidth": 0,
             "ticks": ""
            },
            "colorscale": [
             [
              0,
              "#0d0887"
             ],
             [
              0.1111111111111111,
              "#46039f"
             ],
             [
              0.2222222222222222,
              "#7201a8"
             ],
             [
              0.3333333333333333,
              "#9c179e"
             ],
             [
              0.4444444444444444,
              "#bd3786"
             ],
             [
              0.5555555555555556,
              "#d8576b"
             ],
             [
              0.6666666666666666,
              "#ed7953"
             ],
             [
              0.7777777777777778,
              "#fb9f3a"
             ],
             [
              0.8888888888888888,
              "#fdca26"
             ],
             [
              1,
              "#f0f921"
             ]
            ],
            "type": "histogram2dcontour"
           }
          ],
          "mesh3d": [
           {
            "colorbar": {
             "outlinewidth": 0,
             "ticks": ""
            },
            "type": "mesh3d"
           }
          ],
          "parcoords": [
           {
            "line": {
             "colorbar": {
              "outlinewidth": 0,
              "ticks": ""
             }
            },
            "type": "parcoords"
           }
          ],
          "pie": [
           {
            "automargin": true,
            "type": "pie"
           }
          ],
          "scatter": [
           {
            "marker": {
             "colorbar": {
              "outlinewidth": 0,
              "ticks": ""
             }
            },
            "type": "scatter"
           }
          ],
          "scatter3d": [
           {
            "line": {
             "colorbar": {
              "outlinewidth": 0,
              "ticks": ""
             }
            },
            "marker": {
             "colorbar": {
              "outlinewidth": 0,
              "ticks": ""
             }
            },
            "type": "scatter3d"
           }
          ],
          "scattercarpet": [
           {
            "marker": {
             "colorbar": {
              "outlinewidth": 0,
              "ticks": ""
             }
            },
            "type": "scattercarpet"
           }
          ],
          "scattergeo": [
           {
            "marker": {
             "colorbar": {
              "outlinewidth": 0,
              "ticks": ""
             }
            },
            "type": "scattergeo"
           }
          ],
          "scattergl": [
           {
            "marker": {
             "colorbar": {
              "outlinewidth": 0,
              "ticks": ""
             }
            },
            "type": "scattergl"
           }
          ],
          "scattermapbox": [
           {
            "marker": {
             "colorbar": {
              "outlinewidth": 0,
              "ticks": ""
             }
            },
            "type": "scattermapbox"
           }
          ],
          "scatterpolar": [
           {
            "marker": {
             "colorbar": {
              "outlinewidth": 0,
              "ticks": ""
             }
            },
            "type": "scatterpolar"
           }
          ],
          "scatterpolargl": [
           {
            "marker": {
             "colorbar": {
              "outlinewidth": 0,
              "ticks": ""
             }
            },
            "type": "scatterpolargl"
           }
          ],
          "scatterternary": [
           {
            "marker": {
             "colorbar": {
              "outlinewidth": 0,
              "ticks": ""
             }
            },
            "type": "scatterternary"
           }
          ],
          "surface": [
           {
            "colorbar": {
             "outlinewidth": 0,
             "ticks": ""
            },
            "colorscale": [
             [
              0,
              "#0d0887"
             ],
             [
              0.1111111111111111,
              "#46039f"
             ],
             [
              0.2222222222222222,
              "#7201a8"
             ],
             [
              0.3333333333333333,
              "#9c179e"
             ],
             [
              0.4444444444444444,
              "#bd3786"
             ],
             [
              0.5555555555555556,
              "#d8576b"
             ],
             [
              0.6666666666666666,
              "#ed7953"
             ],
             [
              0.7777777777777778,
              "#fb9f3a"
             ],
             [
              0.8888888888888888,
              "#fdca26"
             ],
             [
              1,
              "#f0f921"
             ]
            ],
            "type": "surface"
           }
          ],
          "table": [
           {
            "cells": {
             "fill": {
              "color": "#EBF0F8"
             },
             "line": {
              "color": "white"
             }
            },
            "header": {
             "fill": {
              "color": "#C8D4E3"
             },
             "line": {
              "color": "white"
             }
            },
            "type": "table"
           }
          ]
         },
         "layout": {
          "annotationdefaults": {
           "arrowcolor": "#2a3f5f",
           "arrowhead": 0,
           "arrowwidth": 1
          },
          "autotypenumbers": "strict",
          "coloraxis": {
           "colorbar": {
            "outlinewidth": 0,
            "ticks": ""
           }
          },
          "colorscale": {
           "diverging": [
            [
             0,
             "#8e0152"
            ],
            [
             0.1,
             "#c51b7d"
            ],
            [
             0.2,
             "#de77ae"
            ],
            [
             0.3,
             "#f1b6da"
            ],
            [
             0.4,
             "#fde0ef"
            ],
            [
             0.5,
             "#f7f7f7"
            ],
            [
             0.6,
             "#e6f5d0"
            ],
            [
             0.7,
             "#b8e186"
            ],
            [
             0.8,
             "#7fbc41"
            ],
            [
             0.9,
             "#4d9221"
            ],
            [
             1,
             "#276419"
            ]
           ],
           "sequential": [
            [
             0,
             "#0d0887"
            ],
            [
             0.1111111111111111,
             "#46039f"
            ],
            [
             0.2222222222222222,
             "#7201a8"
            ],
            [
             0.3333333333333333,
             "#9c179e"
            ],
            [
             0.4444444444444444,
             "#bd3786"
            ],
            [
             0.5555555555555556,
             "#d8576b"
            ],
            [
             0.6666666666666666,
             "#ed7953"
            ],
            [
             0.7777777777777778,
             "#fb9f3a"
            ],
            [
             0.8888888888888888,
             "#fdca26"
            ],
            [
             1,
             "#f0f921"
            ]
           ],
           "sequentialminus": [
            [
             0,
             "#0d0887"
            ],
            [
             0.1111111111111111,
             "#46039f"
            ],
            [
             0.2222222222222222,
             "#7201a8"
            ],
            [
             0.3333333333333333,
             "#9c179e"
            ],
            [
             0.4444444444444444,
             "#bd3786"
            ],
            [
             0.5555555555555556,
             "#d8576b"
            ],
            [
             0.6666666666666666,
             "#ed7953"
            ],
            [
             0.7777777777777778,
             "#fb9f3a"
            ],
            [
             0.8888888888888888,
             "#fdca26"
            ],
            [
             1,
             "#f0f921"
            ]
           ]
          },
          "colorway": [
           "#636efa",
           "#EF553B",
           "#00cc96",
           "#ab63fa",
           "#FFA15A",
           "#19d3f3",
           "#FF6692",
           "#B6E880",
           "#FF97FF",
           "#FECB52"
          ],
          "font": {
           "color": "#2a3f5f"
          },
          "geo": {
           "bgcolor": "white",
           "lakecolor": "white",
           "landcolor": "#E5ECF6",
           "showlakes": true,
           "showland": true,
           "subunitcolor": "white"
          },
          "hoverlabel": {
           "align": "left"
          },
          "hovermode": "closest",
          "mapbox": {
           "style": "light"
          },
          "paper_bgcolor": "white",
          "plot_bgcolor": "#E5ECF6",
          "polar": {
           "angularaxis": {
            "gridcolor": "white",
            "linecolor": "white",
            "ticks": ""
           },
           "bgcolor": "#E5ECF6",
           "radialaxis": {
            "gridcolor": "white",
            "linecolor": "white",
            "ticks": ""
           }
          },
          "scene": {
           "xaxis": {
            "backgroundcolor": "#E5ECF6",
            "gridcolor": "white",
            "gridwidth": 2,
            "linecolor": "white",
            "showbackground": true,
            "ticks": "",
            "zerolinecolor": "white"
           },
           "yaxis": {
            "backgroundcolor": "#E5ECF6",
            "gridcolor": "white",
            "gridwidth": 2,
            "linecolor": "white",
            "showbackground": true,
            "ticks": "",
            "zerolinecolor": "white"
           },
           "zaxis": {
            "backgroundcolor": "#E5ECF6",
            "gridcolor": "white",
            "gridwidth": 2,
            "linecolor": "white",
            "showbackground": true,
            "ticks": "",
            "zerolinecolor": "white"
           }
          },
          "shapedefaults": {
           "line": {
            "color": "#2a3f5f"
           }
          },
          "ternary": {
           "aaxis": {
            "gridcolor": "white",
            "linecolor": "white",
            "ticks": ""
           },
           "baxis": {
            "gridcolor": "white",
            "linecolor": "white",
            "ticks": ""
           },
           "bgcolor": "#E5ECF6",
           "caxis": {
            "gridcolor": "white",
            "linecolor": "white",
            "ticks": ""
           }
          },
          "title": {
           "x": 0.05
          },
          "xaxis": {
           "automargin": true,
           "gridcolor": "white",
           "linecolor": "white",
           "ticks": "",
           "title": {
            "standoff": 15
           },
           "zerolinecolor": "white",
           "zerolinewidth": 2
          },
          "yaxis": {
           "automargin": true,
           "gridcolor": "white",
           "linecolor": "white",
           "ticks": "",
           "title": {
            "standoff": 15
           },
           "zerolinecolor": "white",
           "zerolinewidth": 2
          }
         }
        },
        "xaxis": {
         "anchor": "y",
         "domain": [
          0,
          1
         ],
         "title": {
          "text": "Pts_year_before"
         }
        },
        "yaxis": {
         "anchor": "x",
         "domain": [
          0,
          1
         ],
         "title": {
          "text": "Points"
         }
        }
       }
      }
     },
     "metadata": {},
     "output_type": "display_data"
    }
   ],
   "source": [
    "### Points against Points the year before\n",
    "fig3 = px.scatter(df, x=df.Pts_year_before, y=df.Points, color=df.Team, trendline=\"ols\", trendline_scope=\"overall\")\n",
    "fig3.show()"
   ]
  },
  {
   "cell_type": "code",
   "execution_count": null,
   "metadata": {},
   "outputs": [
    {
     "data": {
      "application/vnd.plotly.v1+json": {
       "config": {
        "plotlyServerURL": "https://plot.ly"
       },
       "data": [
        {
         "histfunc": "max",
         "name": "Max",
         "type": "histogram",
         "x": [
          2011,
          2012,
          2013,
          2011,
          2013,
          2014,
          2015,
          2016,
          2017,
          2018,
          2019,
          2020,
          2011,
          2012,
          2016,
          2011,
          2012,
          2013,
          2014,
          2015,
          2016,
          2017,
          2018,
          2019,
          2020,
          2017,
          2018,
          2019,
          2011,
          2016,
          2017,
          2018,
          2019,
          2020,
          2013,
          2014,
          2015,
          2016,
          2017,
          2018,
          2012,
          2015,
          2017,
          2011,
          2012,
          2013,
          2014,
          2015,
          2016,
          2017,
          2018,
          2019,
          2020,
          2011,
          2012,
          2013,
          2014,
          2015,
          2016,
          2020,
          2014,
          2016,
          2017,
          2019,
          2020,
          2013,
          2014,
          2015,
          2016,
          2017,
          2018,
          2019,
          2020,
          2011,
          2012,
          2013,
          2011,
          2012,
          2013,
          2014,
          2015,
          2016,
          2017,
          2018,
          2019,
          2011,
          2012,
          2013,
          2014,
          2015,
          2011,
          2012,
          2013,
          2014,
          2015,
          2016,
          2017,
          2018,
          2019,
          2020,
          2011,
          2012,
          2013,
          2014,
          2015,
          2016,
          2017,
          2018,
          2019,
          2020,
          2018,
          2019,
          2020,
          2011,
          2012,
          2013,
          2014,
          2015,
          2016,
          2017,
          2018,
          2019,
          2020,
          2011,
          2012,
          2013,
          2014,
          2015,
          2016,
          2017,
          2018,
          2019,
          2020,
          2011,
          2012,
          2013,
          2014,
          2015,
          2016,
          2017,
          2018,
          2019,
          2020,
          2011,
          2012,
          2013,
          2014,
          2015,
          2016,
          2017,
          2018,
          2019,
          2020,
          2014,
          2020,
          2017,
          2018,
          2019,
          2020,
          2012,
          2013,
          2014,
          2015,
          2016,
          2015,
          2016,
          2017,
          2018,
          2019,
          2020,
          2011,
          2014,
          2015,
          2016,
          2017,
          2018,
          2011,
          2012,
          2019,
          2020,
          2012,
          2013,
          2014,
          2015,
          2018,
          2019,
          2020,
          2011,
          2012,
          2013,
          2014,
          2015,
          2016,
          2017,
          2018,
          2019,
          2020,
          2011,
          2012,
          2013
         ],
         "y": [
          26550000,
          34100000,
          28300000,
          50900000,
          242550000,
          187700000,
          227400000,
          309550000,
          529799999,
          385830000,
          331030000,
          370350000,
          53900000,
          36850000,
          33100000,
          85600000,
          97600000,
          105400000,
          83350000,
          97200000,
          85030000,
          106880000,
          131250000,
          104830000,
          154650000,
          69850000,
          70500000,
          62080000,
          36800000,
          31200000,
          70300000,
          65800000,
          50230000,
          65629999,
          21430000,
          36250000,
          33500000,
          42500000,
          51900000,
          70650000,
          21800000,
          30700000,
          45050000,
          82050000,
          80950000,
          62700000,
          71500000,
          90700000,
          88900000,
          155450000,
          179000000,
          125350000,
          105700000,
          54050000,
          63750000,
          57150000,
          59950000,
          58050000,
          61400000,
          73530000,
          29850000,
          37550000,
          51200000,
          54100000,
          103500000,
          39550000,
          46850000,
          39300000,
          50900000,
          105700000,
          119500000,
          106300000,
          95080000,
          58800000,
          46850000,
          47450000,
          83050000,
          82000000,
          67400000,
          48800000,
          42900000,
          77300000,
          110450000,
          113250000,
          71880000,
          32900000,
          34550000,
          35000000,
          36150000,
          18400000,
          145350000,
          114600000,
          74100000,
          82650000,
          70800000,
          83900000,
          96750000,
          267550000,
          247780000,
          323200000,
          86200000,
          78700000,
          52350000,
          51950000,
          44400000,
          60950000,
          71850000,
          109850000,
          81680000,
          113850000,
          88150000,
          49650000,
          60400000,
          52450000,
          59150000,
          56100000,
          56250000,
          71000000,
          132800000,
          204100000,
          183200000,
          173450000,
          236100000,
          163850000,
          155650000,
          108500000,
          144650000,
          166300000,
          211350000,
          363800000,
          467950000,
          384550000,
          431400000,
          146500000,
          150650000,
          141300000,
          139700000,
          129500000,
          119650000,
          236800000,
          258350000,
          216150000,
          251400000,
          211100000,
          313600000,
          402300000,
          363900000,
          436300000,
          519000000,
          900100000,
          1010000000,
          874150000,
          805000000,
          27200000,
          104300000,
          45600000,
          98000000,
          91380000,
          109650000,
          36050000,
          35600000,
          34250000,
          24250000,
          36450000,
          32350000,
          46080000,
          69550000,
          79700000,
          89480000,
          111650000,
          31800000,
          32400000,
          36800000,
          36650000,
          60100000,
          67550000,
          43200000,
          36100000,
          47780000,
          103230000,
          29500000,
          38730000,
          39250000,
          42950000,
          86950000,
          81680000,
          105180000,
          101800000,
          97800000,
          92600000,
          66000000,
          94150000,
          80900000,
          131250000,
          168450000,
          171880000,
          297500000,
          44500000,
          49750000,
          36650000
         ]
        },
        {
         "histfunc": "avg",
         "name": "Average",
         "type": "histogram",
         "x": [
          2011,
          2012,
          2013,
          2011,
          2013,
          2014,
          2015,
          2016,
          2017,
          2018,
          2019,
          2020,
          2011,
          2012,
          2016,
          2011,
          2012,
          2013,
          2014,
          2015,
          2016,
          2017,
          2018,
          2019,
          2020,
          2017,
          2018,
          2019,
          2011,
          2016,
          2017,
          2018,
          2019,
          2020,
          2013,
          2014,
          2015,
          2016,
          2017,
          2018,
          2012,
          2015,
          2017,
          2011,
          2012,
          2013,
          2014,
          2015,
          2016,
          2017,
          2018,
          2019,
          2020,
          2011,
          2012,
          2013,
          2014,
          2015,
          2016,
          2020,
          2014,
          2016,
          2017,
          2019,
          2020,
          2013,
          2014,
          2015,
          2016,
          2017,
          2018,
          2019,
          2020,
          2011,
          2012,
          2013,
          2011,
          2012,
          2013,
          2014,
          2015,
          2016,
          2017,
          2018,
          2019,
          2011,
          2012,
          2013,
          2014,
          2015,
          2011,
          2012,
          2013,
          2014,
          2015,
          2016,
          2017,
          2018,
          2019,
          2020,
          2011,
          2012,
          2013,
          2014,
          2015,
          2016,
          2017,
          2018,
          2019,
          2020,
          2018,
          2019,
          2020,
          2011,
          2012,
          2013,
          2014,
          2015,
          2016,
          2017,
          2018,
          2019,
          2020,
          2011,
          2012,
          2013,
          2014,
          2015,
          2016,
          2017,
          2018,
          2019,
          2020,
          2011,
          2012,
          2013,
          2014,
          2015,
          2016,
          2017,
          2018,
          2019,
          2020,
          2011,
          2012,
          2013,
          2014,
          2015,
          2016,
          2017,
          2018,
          2019,
          2020,
          2014,
          2020,
          2017,
          2018,
          2019,
          2020,
          2012,
          2013,
          2014,
          2015,
          2016,
          2015,
          2016,
          2017,
          2018,
          2019,
          2020,
          2011,
          2014,
          2015,
          2016,
          2017,
          2018,
          2011,
          2012,
          2019,
          2020,
          2012,
          2013,
          2014,
          2015,
          2018,
          2019,
          2020,
          2011,
          2012,
          2013,
          2014,
          2015,
          2016,
          2017,
          2018,
          2019,
          2020,
          2011,
          2012,
          2013
         ],
         "y": [
          26550000,
          34100000,
          28300000,
          50900000,
          242550000,
          187700000,
          227400000,
          309550000,
          529799999,
          385830000,
          331030000,
          370350000,
          53900000,
          36850000,
          33100000,
          85600000,
          97600000,
          105400000,
          83350000,
          97200000,
          85030000,
          106880000,
          131250000,
          104830000,
          154650000,
          69850000,
          70500000,
          62080000,
          36800000,
          31200000,
          70300000,
          65800000,
          50230000,
          65629999,
          21430000,
          36250000,
          33500000,
          42500000,
          51900000,
          70650000,
          21800000,
          30700000,
          45050000,
          82050000,
          80950000,
          62700000,
          71500000,
          90700000,
          88900000,
          155450000,
          179000000,
          125350000,
          105700000,
          54050000,
          63750000,
          57150000,
          59950000,
          58050000,
          61400000,
          73530000,
          29850000,
          37550000,
          51200000,
          54100000,
          103500000,
          39550000,
          46850000,
          39300000,
          50900000,
          105700000,
          119500000,
          106300000,
          95080000,
          58800000,
          46850000,
          47450000,
          83050000,
          82000000,
          67400000,
          48800000,
          42900000,
          77300000,
          110450000,
          113250000,
          71880000,
          32900000,
          34550000,
          35000000,
          36150000,
          18400000,
          145350000,
          114600000,
          74100000,
          82650000,
          70800000,
          83900000,
          96750000,
          267550000,
          247780000,
          323200000,
          86200000,
          78700000,
          52350000,
          51950000,
          44400000,
          60950000,
          71850000,
          109850000,
          81680000,
          113850000,
          88150000,
          49650000,
          60400000,
          52450000,
          59150000,
          56100000,
          56250000,
          71000000,
          132800000,
          204100000,
          183200000,
          173450000,
          236100000,
          163850000,
          155650000,
          108500000,
          144650000,
          166300000,
          211350000,
          363800000,
          467950000,
          384550000,
          431400000,
          146500000,
          150650000,
          141300000,
          139700000,
          129500000,
          119650000,
          236800000,
          258350000,
          216150000,
          251400000,
          211100000,
          313600000,
          402300000,
          363900000,
          436300000,
          519000000,
          900100000,
          1010000000,
          874150000,
          805000000,
          27200000,
          104300000,
          45600000,
          98000000,
          91380000,
          109650000,
          36050000,
          35600000,
          34250000,
          24250000,
          36450000,
          32350000,
          46080000,
          69550000,
          79700000,
          89480000,
          111650000,
          31800000,
          32400000,
          36800000,
          36650000,
          60100000,
          67550000,
          43200000,
          36100000,
          47780000,
          103230000,
          29500000,
          38730000,
          39250000,
          42950000,
          86950000,
          81680000,
          105180000,
          101800000,
          97800000,
          92600000,
          66000000,
          94150000,
          80900000,
          131250000,
          168450000,
          171880000,
          297500000,
          44500000,
          49750000,
          36650000
         ]
        },
        {
         "histfunc": "avg",
         "name": "Average without PSG",
         "type": "histogram",
         "x": [
          2011,
          2012,
          2013,
          2011,
          2013,
          2014,
          2015,
          2016,
          2017,
          2018,
          2019,
          2020,
          2011,
          2012,
          2016,
          2011,
          2012,
          2013,
          2014,
          2015,
          2016,
          2017,
          2018,
          2019,
          2020,
          2017,
          2018,
          2019,
          2011,
          2016,
          2017,
          2018,
          2019,
          2020,
          2013,
          2014,
          2015,
          2016,
          2017,
          2018,
          2012,
          2015,
          2017,
          2011,
          2012,
          2013,
          2014,
          2015,
          2016,
          2017,
          2018,
          2019,
          2020,
          2011,
          2012,
          2013,
          2014,
          2015,
          2016,
          2020,
          2014,
          2016,
          2017,
          2019,
          2020,
          2013,
          2014,
          2015,
          2016,
          2017,
          2018,
          2019,
          2020,
          2011,
          2012,
          2013,
          2011,
          2012,
          2013,
          2014,
          2015,
          2016,
          2017,
          2018,
          2019,
          2011,
          2012,
          2013,
          2014,
          2015,
          2011,
          2012,
          2013,
          2014,
          2015,
          2016,
          2017,
          2018,
          2019,
          2020,
          2011,
          2012,
          2013,
          2014,
          2015,
          2016,
          2017,
          2018,
          2019,
          2020,
          2018,
          2019,
          2020,
          2011,
          2012,
          2013,
          2014,
          2015,
          2016,
          2017,
          2018,
          2019,
          2020,
          2011,
          2012,
          2013,
          2014,
          2015,
          2016,
          2017,
          2018,
          2019,
          2020,
          2011,
          2012,
          2013,
          2014,
          2015,
          2016,
          2017,
          2018,
          2019,
          2020,
          2014,
          2020,
          2017,
          2018,
          2019,
          2020,
          2012,
          2013,
          2014,
          2015,
          2016,
          2015,
          2016,
          2017,
          2018,
          2019,
          2020,
          2011,
          2014,
          2015,
          2016,
          2017,
          2018,
          2011,
          2012,
          2019,
          2020,
          2012,
          2013,
          2014,
          2015,
          2018,
          2019,
          2020,
          2011,
          2012,
          2013,
          2014,
          2015,
          2016,
          2017,
          2018,
          2019,
          2020,
          2011,
          2012,
          2013
         ],
         "y": [
          26550000,
          34100000,
          28300000,
          50900000,
          242550000,
          187700000,
          227400000,
          309550000,
          529799999,
          385830000,
          331030000,
          370350000,
          53900000,
          36850000,
          33100000,
          85600000,
          97600000,
          105400000,
          83350000,
          97200000,
          85030000,
          106880000,
          131250000,
          104830000,
          154650000,
          69850000,
          70500000,
          62080000,
          36800000,
          31200000,
          70300000,
          65800000,
          50230000,
          65629999,
          21430000,
          36250000,
          33500000,
          42500000,
          51900000,
          70650000,
          21800000,
          30700000,
          45050000,
          82050000,
          80950000,
          62700000,
          71500000,
          90700000,
          88900000,
          155450000,
          179000000,
          125350000,
          105700000,
          54050000,
          63750000,
          57150000,
          59950000,
          58050000,
          61400000,
          73530000,
          29850000,
          37550000,
          51200000,
          54100000,
          103500000,
          39550000,
          46850000,
          39300000,
          50900000,
          105700000,
          119500000,
          106300000,
          95080000,
          58800000,
          46850000,
          47450000,
          83050000,
          82000000,
          67400000,
          48800000,
          42900000,
          77300000,
          110450000,
          113250000,
          71880000,
          32900000,
          34550000,
          35000000,
          36150000,
          18400000,
          145350000,
          114600000,
          74100000,
          82650000,
          70800000,
          83900000,
          96750000,
          267550000,
          247780000,
          323200000,
          86200000,
          78700000,
          52350000,
          51950000,
          44400000,
          60950000,
          71850000,
          109850000,
          81680000,
          113850000,
          88150000,
          49650000,
          60400000,
          52450000,
          59150000,
          56100000,
          56250000,
          71000000,
          132800000,
          204100000,
          183200000,
          173450000,
          236100000,
          163850000,
          155650000,
          108500000,
          144650000,
          166300000,
          211350000,
          363800000,
          467950000,
          384550000,
          431400000,
          146500000,
          150650000,
          141300000,
          139700000,
          129500000,
          119650000,
          236800000,
          258350000,
          216150000,
          251400000,
          27200000,
          104300000,
          45600000,
          98000000,
          91380000,
          109650000,
          36050000,
          35600000,
          34250000,
          24250000,
          36450000,
          32350000,
          46080000,
          69550000,
          79700000,
          89480000,
          111650000,
          31800000,
          32400000,
          36800000,
          36650000,
          60100000,
          67550000,
          43200000,
          36100000,
          47780000,
          103230000,
          29500000,
          38730000,
          39250000,
          42950000,
          86950000,
          81680000,
          105180000,
          101800000,
          97800000,
          92600000,
          66000000,
          94150000,
          80900000,
          131250000,
          168450000,
          171880000,
          297500000,
          44500000,
          49750000,
          36650000
         ]
        },
        {
         "histfunc": "min",
         "name": "Min",
         "type": "histogram",
         "x": [
          2011,
          2012,
          2013,
          2011,
          2013,
          2014,
          2015,
          2016,
          2017,
          2018,
          2019,
          2020,
          2011,
          2012,
          2016,
          2011,
          2012,
          2013,
          2014,
          2015,
          2016,
          2017,
          2018,
          2019,
          2020,
          2017,
          2018,
          2019,
          2011,
          2016,
          2017,
          2018,
          2019,
          2020,
          2013,
          2014,
          2015,
          2016,
          2017,
          2018,
          2012,
          2015,
          2017,
          2011,
          2012,
          2013,
          2014,
          2015,
          2016,
          2017,
          2018,
          2019,
          2020,
          2011,
          2012,
          2013,
          2014,
          2015,
          2016,
          2020,
          2014,
          2016,
          2017,
          2019,
          2020,
          2013,
          2014,
          2015,
          2016,
          2017,
          2018,
          2019,
          2020,
          2011,
          2012,
          2013,
          2011,
          2012,
          2013,
          2014,
          2015,
          2016,
          2017,
          2018,
          2019,
          2011,
          2012,
          2013,
          2014,
          2015,
          2011,
          2012,
          2013,
          2014,
          2015,
          2016,
          2017,
          2018,
          2019,
          2020,
          2011,
          2012,
          2013,
          2014,
          2015,
          2016,
          2017,
          2018,
          2019,
          2020,
          2018,
          2019,
          2020,
          2011,
          2012,
          2013,
          2014,
          2015,
          2016,
          2017,
          2018,
          2019,
          2020,
          2011,
          2012,
          2013,
          2014,
          2015,
          2016,
          2017,
          2018,
          2019,
          2020,
          2011,
          2012,
          2013,
          2014,
          2015,
          2016,
          2017,
          2018,
          2019,
          2020,
          2011,
          2012,
          2013,
          2014,
          2015,
          2016,
          2017,
          2018,
          2019,
          2020,
          2014,
          2020,
          2017,
          2018,
          2019,
          2020,
          2012,
          2013,
          2014,
          2015,
          2016,
          2015,
          2016,
          2017,
          2018,
          2019,
          2020,
          2011,
          2014,
          2015,
          2016,
          2017,
          2018,
          2011,
          2012,
          2019,
          2020,
          2012,
          2013,
          2014,
          2015,
          2018,
          2019,
          2020,
          2011,
          2012,
          2013,
          2014,
          2015,
          2016,
          2017,
          2018,
          2019,
          2020,
          2011,
          2012,
          2013
         ],
         "y": [
          26550000,
          34100000,
          28300000,
          50900000,
          242550000,
          187700000,
          227400000,
          309550000,
          529799999,
          385830000,
          331030000,
          370350000,
          53900000,
          36850000,
          33100000,
          85600000,
          97600000,
          105400000,
          83350000,
          97200000,
          85030000,
          106880000,
          131250000,
          104830000,
          154650000,
          69850000,
          70500000,
          62080000,
          36800000,
          31200000,
          70300000,
          65800000,
          50230000,
          65629999,
          21430000,
          36250000,
          33500000,
          42500000,
          51900000,
          70650000,
          21800000,
          30700000,
          45050000,
          82050000,
          80950000,
          62700000,
          71500000,
          90700000,
          88900000,
          155450000,
          179000000,
          125350000,
          105700000,
          54050000,
          63750000,
          57150000,
          59950000,
          58050000,
          61400000,
          73530000,
          29850000,
          37550000,
          51200000,
          54100000,
          103500000,
          39550000,
          46850000,
          39300000,
          50900000,
          105700000,
          119500000,
          106300000,
          95080000,
          58800000,
          46850000,
          47450000,
          83050000,
          82000000,
          67400000,
          48800000,
          42900000,
          77300000,
          110450000,
          113250000,
          71880000,
          32900000,
          34550000,
          35000000,
          36150000,
          18400000,
          145350000,
          114600000,
          74100000,
          82650000,
          70800000,
          83900000,
          96750000,
          267550000,
          247780000,
          323200000,
          86200000,
          78700000,
          52350000,
          51950000,
          44400000,
          60950000,
          71850000,
          109850000,
          81680000,
          113850000,
          88150000,
          49650000,
          60400000,
          52450000,
          59150000,
          56100000,
          56250000,
          71000000,
          132800000,
          204100000,
          183200000,
          173450000,
          236100000,
          163850000,
          155650000,
          108500000,
          144650000,
          166300000,
          211350000,
          363800000,
          467950000,
          384550000,
          431400000,
          146500000,
          150650000,
          141300000,
          139700000,
          129500000,
          119650000,
          236800000,
          258350000,
          216150000,
          251400000,
          211100000,
          313600000,
          402300000,
          363900000,
          436300000,
          519000000,
          900100000,
          1010000000,
          874150000,
          805000000,
          27200000,
          104300000,
          45600000,
          98000000,
          91380000,
          109650000,
          36050000,
          35600000,
          34250000,
          24250000,
          36450000,
          32350000,
          46080000,
          69550000,
          79700000,
          89480000,
          111650000,
          31800000,
          32400000,
          36800000,
          36650000,
          60100000,
          67550000,
          43200000,
          36100000,
          47780000,
          103230000,
          29500000,
          38730000,
          39250000,
          42950000,
          86950000,
          81680000,
          105180000,
          101800000,
          97800000,
          92600000,
          66000000,
          94150000,
          80900000,
          131250000,
          168450000,
          171880000,
          297500000,
          44500000,
          49750000,
          36650000
         ]
        }
       ],
       "layout": {
        "template": {
         "data": {
          "bar": [
           {
            "error_x": {
             "color": "#2a3f5f"
            },
            "error_y": {
             "color": "#2a3f5f"
            },
            "marker": {
             "line": {
              "color": "#E5ECF6",
              "width": 0.5
             },
             "pattern": {
              "fillmode": "overlay",
              "size": 10,
              "solidity": 0.2
             }
            },
            "type": "bar"
           }
          ],
          "barpolar": [
           {
            "marker": {
             "line": {
              "color": "#E5ECF6",
              "width": 0.5
             },
             "pattern": {
              "fillmode": "overlay",
              "size": 10,
              "solidity": 0.2
             }
            },
            "type": "barpolar"
           }
          ],
          "carpet": [
           {
            "aaxis": {
             "endlinecolor": "#2a3f5f",
             "gridcolor": "white",
             "linecolor": "white",
             "minorgridcolor": "white",
             "startlinecolor": "#2a3f5f"
            },
            "baxis": {
             "endlinecolor": "#2a3f5f",
             "gridcolor": "white",
             "linecolor": "white",
             "minorgridcolor": "white",
             "startlinecolor": "#2a3f5f"
            },
            "type": "carpet"
           }
          ],
          "choropleth": [
           {
            "colorbar": {
             "outlinewidth": 0,
             "ticks": ""
            },
            "type": "choropleth"
           }
          ],
          "contour": [
           {
            "colorbar": {
             "outlinewidth": 0,
             "ticks": ""
            },
            "colorscale": [
             [
              0,
              "#0d0887"
             ],
             [
              0.1111111111111111,
              "#46039f"
             ],
             [
              0.2222222222222222,
              "#7201a8"
             ],
             [
              0.3333333333333333,
              "#9c179e"
             ],
             [
              0.4444444444444444,
              "#bd3786"
             ],
             [
              0.5555555555555556,
              "#d8576b"
             ],
             [
              0.6666666666666666,
              "#ed7953"
             ],
             [
              0.7777777777777778,
              "#fb9f3a"
             ],
             [
              0.8888888888888888,
              "#fdca26"
             ],
             [
              1,
              "#f0f921"
             ]
            ],
            "type": "contour"
           }
          ],
          "contourcarpet": [
           {
            "colorbar": {
             "outlinewidth": 0,
             "ticks": ""
            },
            "type": "contourcarpet"
           }
          ],
          "heatmap": [
           {
            "colorbar": {
             "outlinewidth": 0,
             "ticks": ""
            },
            "colorscale": [
             [
              0,
              "#0d0887"
             ],
             [
              0.1111111111111111,
              "#46039f"
             ],
             [
              0.2222222222222222,
              "#7201a8"
             ],
             [
              0.3333333333333333,
              "#9c179e"
             ],
             [
              0.4444444444444444,
              "#bd3786"
             ],
             [
              0.5555555555555556,
              "#d8576b"
             ],
             [
              0.6666666666666666,
              "#ed7953"
             ],
             [
              0.7777777777777778,
              "#fb9f3a"
             ],
             [
              0.8888888888888888,
              "#fdca26"
             ],
             [
              1,
              "#f0f921"
             ]
            ],
            "type": "heatmap"
           }
          ],
          "heatmapgl": [
           {
            "colorbar": {
             "outlinewidth": 0,
             "ticks": ""
            },
            "colorscale": [
             [
              0,
              "#0d0887"
             ],
             [
              0.1111111111111111,
              "#46039f"
             ],
             [
              0.2222222222222222,
              "#7201a8"
             ],
             [
              0.3333333333333333,
              "#9c179e"
             ],
             [
              0.4444444444444444,
              "#bd3786"
             ],
             [
              0.5555555555555556,
              "#d8576b"
             ],
             [
              0.6666666666666666,
              "#ed7953"
             ],
             [
              0.7777777777777778,
              "#fb9f3a"
             ],
             [
              0.8888888888888888,
              "#fdca26"
             ],
             [
              1,
              "#f0f921"
             ]
            ],
            "type": "heatmapgl"
           }
          ],
          "histogram": [
           {
            "marker": {
             "pattern": {
              "fillmode": "overlay",
              "size": 10,
              "solidity": 0.2
             }
            },
            "type": "histogram"
           }
          ],
          "histogram2d": [
           {
            "colorbar": {
             "outlinewidth": 0,
             "ticks": ""
            },
            "colorscale": [
             [
              0,
              "#0d0887"
             ],
             [
              0.1111111111111111,
              "#46039f"
             ],
             [
              0.2222222222222222,
              "#7201a8"
             ],
             [
              0.3333333333333333,
              "#9c179e"
             ],
             [
              0.4444444444444444,
              "#bd3786"
             ],
             [
              0.5555555555555556,
              "#d8576b"
             ],
             [
              0.6666666666666666,
              "#ed7953"
             ],
             [
              0.7777777777777778,
              "#fb9f3a"
             ],
             [
              0.8888888888888888,
              "#fdca26"
             ],
             [
              1,
              "#f0f921"
             ]
            ],
            "type": "histogram2d"
           }
          ],
          "histogram2dcontour": [
           {
            "colorbar": {
             "outlinewidth": 0,
             "ticks": ""
            },
            "colorscale": [
             [
              0,
              "#0d0887"
             ],
             [
              0.1111111111111111,
              "#46039f"
             ],
             [
              0.2222222222222222,
              "#7201a8"
             ],
             [
              0.3333333333333333,
              "#9c179e"
             ],
             [
              0.4444444444444444,
              "#bd3786"
             ],
             [
              0.5555555555555556,
              "#d8576b"
             ],
             [
              0.6666666666666666,
              "#ed7953"
             ],
             [
              0.7777777777777778,
              "#fb9f3a"
             ],
             [
              0.8888888888888888,
              "#fdca26"
             ],
             [
              1,
              "#f0f921"
             ]
            ],
            "type": "histogram2dcontour"
           }
          ],
          "mesh3d": [
           {
            "colorbar": {
             "outlinewidth": 0,
             "ticks": ""
            },
            "type": "mesh3d"
           }
          ],
          "parcoords": [
           {
            "line": {
             "colorbar": {
              "outlinewidth": 0,
              "ticks": ""
             }
            },
            "type": "parcoords"
           }
          ],
          "pie": [
           {
            "automargin": true,
            "type": "pie"
           }
          ],
          "scatter": [
           {
            "marker": {
             "colorbar": {
              "outlinewidth": 0,
              "ticks": ""
             }
            },
            "type": "scatter"
           }
          ],
          "scatter3d": [
           {
            "line": {
             "colorbar": {
              "outlinewidth": 0,
              "ticks": ""
             }
            },
            "marker": {
             "colorbar": {
              "outlinewidth": 0,
              "ticks": ""
             }
            },
            "type": "scatter3d"
           }
          ],
          "scattercarpet": [
           {
            "marker": {
             "colorbar": {
              "outlinewidth": 0,
              "ticks": ""
             }
            },
            "type": "scattercarpet"
           }
          ],
          "scattergeo": [
           {
            "marker": {
             "colorbar": {
              "outlinewidth": 0,
              "ticks": ""
             }
            },
            "type": "scattergeo"
           }
          ],
          "scattergl": [
           {
            "marker": {
             "colorbar": {
              "outlinewidth": 0,
              "ticks": ""
             }
            },
            "type": "scattergl"
           }
          ],
          "scattermapbox": [
           {
            "marker": {
             "colorbar": {
              "outlinewidth": 0,
              "ticks": ""
             }
            },
            "type": "scattermapbox"
           }
          ],
          "scatterpolar": [
           {
            "marker": {
             "colorbar": {
              "outlinewidth": 0,
              "ticks": ""
             }
            },
            "type": "scatterpolar"
           }
          ],
          "scatterpolargl": [
           {
            "marker": {
             "colorbar": {
              "outlinewidth": 0,
              "ticks": ""
             }
            },
            "type": "scatterpolargl"
           }
          ],
          "scatterternary": [
           {
            "marker": {
             "colorbar": {
              "outlinewidth": 0,
              "ticks": ""
             }
            },
            "type": "scatterternary"
           }
          ],
          "surface": [
           {
            "colorbar": {
             "outlinewidth": 0,
             "ticks": ""
            },
            "colorscale": [
             [
              0,
              "#0d0887"
             ],
             [
              0.1111111111111111,
              "#46039f"
             ],
             [
              0.2222222222222222,
              "#7201a8"
             ],
             [
              0.3333333333333333,
              "#9c179e"
             ],
             [
              0.4444444444444444,
              "#bd3786"
             ],
             [
              0.5555555555555556,
              "#d8576b"
             ],
             [
              0.6666666666666666,
              "#ed7953"
             ],
             [
              0.7777777777777778,
              "#fb9f3a"
             ],
             [
              0.8888888888888888,
              "#fdca26"
             ],
             [
              1,
              "#f0f921"
             ]
            ],
            "type": "surface"
           }
          ],
          "table": [
           {
            "cells": {
             "fill": {
              "color": "#EBF0F8"
             },
             "line": {
              "color": "white"
             }
            },
            "header": {
             "fill": {
              "color": "#C8D4E3"
             },
             "line": {
              "color": "white"
             }
            },
            "type": "table"
           }
          ]
         },
         "layout": {
          "annotationdefaults": {
           "arrowcolor": "#2a3f5f",
           "arrowhead": 0,
           "arrowwidth": 1
          },
          "autotypenumbers": "strict",
          "coloraxis": {
           "colorbar": {
            "outlinewidth": 0,
            "ticks": ""
           }
          },
          "colorscale": {
           "diverging": [
            [
             0,
             "#8e0152"
            ],
            [
             0.1,
             "#c51b7d"
            ],
            [
             0.2,
             "#de77ae"
            ],
            [
             0.3,
             "#f1b6da"
            ],
            [
             0.4,
             "#fde0ef"
            ],
            [
             0.5,
             "#f7f7f7"
            ],
            [
             0.6,
             "#e6f5d0"
            ],
            [
             0.7,
             "#b8e186"
            ],
            [
             0.8,
             "#7fbc41"
            ],
            [
             0.9,
             "#4d9221"
            ],
            [
             1,
             "#276419"
            ]
           ],
           "sequential": [
            [
             0,
             "#0d0887"
            ],
            [
             0.1111111111111111,
             "#46039f"
            ],
            [
             0.2222222222222222,
             "#7201a8"
            ],
            [
             0.3333333333333333,
             "#9c179e"
            ],
            [
             0.4444444444444444,
             "#bd3786"
            ],
            [
             0.5555555555555556,
             "#d8576b"
            ],
            [
             0.6666666666666666,
             "#ed7953"
            ],
            [
             0.7777777777777778,
             "#fb9f3a"
            ],
            [
             0.8888888888888888,
             "#fdca26"
            ],
            [
             1,
             "#f0f921"
            ]
           ],
           "sequentialminus": [
            [
             0,
             "#0d0887"
            ],
            [
             0.1111111111111111,
             "#46039f"
            ],
            [
             0.2222222222222222,
             "#7201a8"
            ],
            [
             0.3333333333333333,
             "#9c179e"
            ],
            [
             0.4444444444444444,
             "#bd3786"
            ],
            [
             0.5555555555555556,
             "#d8576b"
            ],
            [
             0.6666666666666666,
             "#ed7953"
            ],
            [
             0.7777777777777778,
             "#fb9f3a"
            ],
            [
             0.8888888888888888,
             "#fdca26"
            ],
            [
             1,
             "#f0f921"
            ]
           ]
          },
          "colorway": [
           "#636efa",
           "#EF553B",
           "#00cc96",
           "#ab63fa",
           "#FFA15A",
           "#19d3f3",
           "#FF6692",
           "#B6E880",
           "#FF97FF",
           "#FECB52"
          ],
          "font": {
           "color": "#2a3f5f"
          },
          "geo": {
           "bgcolor": "white",
           "lakecolor": "white",
           "landcolor": "#E5ECF6",
           "showlakes": true,
           "showland": true,
           "subunitcolor": "white"
          },
          "hoverlabel": {
           "align": "left"
          },
          "hovermode": "closest",
          "mapbox": {
           "style": "light"
          },
          "paper_bgcolor": "white",
          "plot_bgcolor": "#E5ECF6",
          "polar": {
           "angularaxis": {
            "gridcolor": "white",
            "linecolor": "white",
            "ticks": ""
           },
           "bgcolor": "#E5ECF6",
           "radialaxis": {
            "gridcolor": "white",
            "linecolor": "white",
            "ticks": ""
           }
          },
          "scene": {
           "xaxis": {
            "backgroundcolor": "#E5ECF6",
            "gridcolor": "white",
            "gridwidth": 2,
            "linecolor": "white",
            "showbackground": true,
            "ticks": "",
            "zerolinecolor": "white"
           },
           "yaxis": {
            "backgroundcolor": "#E5ECF6",
            "gridcolor": "white",
            "gridwidth": 2,
            "linecolor": "white",
            "showbackground": true,
            "ticks": "",
            "zerolinecolor": "white"
           },
           "zaxis": {
            "backgroundcolor": "#E5ECF6",
            "gridcolor": "white",
            "gridwidth": 2,
            "linecolor": "white",
            "showbackground": true,
            "ticks": "",
            "zerolinecolor": "white"
           }
          },
          "shapedefaults": {
           "line": {
            "color": "#2a3f5f"
           }
          },
          "ternary": {
           "aaxis": {
            "gridcolor": "white",
            "linecolor": "white",
            "ticks": ""
           },
           "baxis": {
            "gridcolor": "white",
            "linecolor": "white",
            "ticks": ""
           },
           "bgcolor": "#E5ECF6",
           "caxis": {
            "gridcolor": "white",
            "linecolor": "white",
            "ticks": ""
           }
          },
          "title": {
           "x": 0.05
          },
          "xaxis": {
           "automargin": true,
           "gridcolor": "white",
           "linecolor": "white",
           "ticks": "",
           "title": {
            "standoff": 15
           },
           "zerolinecolor": "white",
           "zerolinewidth": 2
          },
          "yaxis": {
           "automargin": true,
           "gridcolor": "white",
           "linecolor": "white",
           "ticks": "",
           "title": {
            "standoff": 15
           },
           "zerolinecolor": "white",
           "zerolinewidth": 2
          }
         }
        },
        "title": {
         "text": "Overview of market value by season"
        },
        "xaxis": {
         "title": {
          "text": "Season"
         }
        },
        "yaxis": {
         "title": {
          "text": "Market value"
         }
        }
       }
      }
     },
     "metadata": {},
     "output_type": "display_data"
    }
   ],
   "source": [
    "## Histogram on the evolution of expenditure by seasons\n",
    "\n",
    "\n",
    "df_noPSG = df.loc[df.Team != 'Paris Saint-Germain']\n",
    "\n",
    "fig4 = go.Figure()\n",
    "fig4.add_trace(go.Histogram(histfunc=\"max\", y=df.Market_value, x=df.Season, name=\"Max\"))\n",
    "fig4.add_trace(go.Histogram(histfunc=\"avg\", y=df.Market_value, x=df.Season, name=\"Average\"))\n",
    "fig4.add_trace(go.Histogram(histfunc=\"avg\", y=df_noPSG.Market_value, x=df_noPSG.Season, name=\"Average without PSG\"))\n",
    "fig4.add_trace(go.Histogram(histfunc=\"max\", y=df_noPSG.Market_value, x=df_noPSG.Season, name=\"Max without PSG\"))\n",
    "fig4.add_trace(go.Histogram(histfunc=\"min\", y=df.Market_value, x=df.Season, name=\"Min\"))\n",
    "fig4.update_layout(\n",
    "    title=\"Overview of market value by season\",\n",
    "    xaxis_title=\"Season\",\n",
    "    yaxis_title=\"Market value\")\n",
    "\n"
   ]
  },
  {
   "cell_type": "code",
   "execution_count": null,
   "metadata": {},
   "outputs": [
    {
     "data": {
      "application/vnd.plotly.v1+json": {
       "config": {
        "plotlyServerURL": "https://plot.ly"
       },
       "data": [
        {
         "histfunc": "max",
         "name": "Max",
         "type": "histogram",
         "x": [
          2011,
          2012,
          2013,
          2011,
          2013,
          2014,
          2015,
          2016,
          2017,
          2018,
          2019,
          2020,
          2011,
          2012,
          2016,
          2011,
          2012,
          2013,
          2014,
          2015,
          2016,
          2017,
          2018,
          2019,
          2020,
          2017,
          2018,
          2019,
          2011,
          2016,
          2017,
          2018,
          2019,
          2020,
          2013,
          2014,
          2015,
          2016,
          2017,
          2018,
          2012,
          2015,
          2017,
          2011,
          2012,
          2013,
          2014,
          2015,
          2016,
          2017,
          2018,
          2019,
          2020,
          2011,
          2012,
          2013,
          2014,
          2015,
          2016,
          2020,
          2014,
          2016,
          2017,
          2019,
          2020,
          2013,
          2014,
          2015,
          2016,
          2017,
          2018,
          2019,
          2020,
          2011,
          2012,
          2013,
          2011,
          2012,
          2013,
          2014,
          2015,
          2016,
          2017,
          2018,
          2019,
          2011,
          2012,
          2013,
          2014,
          2015,
          2011,
          2012,
          2013,
          2014,
          2015,
          2016,
          2017,
          2018,
          2019,
          2020,
          2011,
          2012,
          2013,
          2014,
          2015,
          2016,
          2017,
          2018,
          2019,
          2020,
          2018,
          2019,
          2020,
          2011,
          2012,
          2013,
          2014,
          2015,
          2016,
          2017,
          2018,
          2019,
          2020,
          2011,
          2012,
          2013,
          2014,
          2015,
          2016,
          2017,
          2018,
          2019,
          2020,
          2011,
          2012,
          2013,
          2014,
          2015,
          2016,
          2017,
          2018,
          2019,
          2020,
          2011,
          2012,
          2013,
          2014,
          2015,
          2016,
          2017,
          2018,
          2019,
          2020,
          2014,
          2020,
          2017,
          2018,
          2019,
          2020,
          2012,
          2013,
          2014,
          2015,
          2016,
          2015,
          2016,
          2017,
          2018,
          2019,
          2020,
          2011,
          2014,
          2015,
          2016,
          2017,
          2018,
          2011,
          2012,
          2019,
          2020,
          2012,
          2013,
          2014,
          2015,
          2018,
          2019,
          2020,
          2011,
          2012,
          2013,
          2014,
          2015,
          2016,
          2017,
          2018,
          2019,
          2020,
          2011,
          2012,
          2013
         ],
         "y": [
          41,
          40,
          23,
          34,
          80,
          71,
          65,
          95,
          80,
          36,
          54,
          78,
          45,
          38,
          35,
          57,
          63,
          69,
          69,
          58,
          50,
          55,
          66,
          40,
          46,
          45,
          38,
          31,
          36,
          37,
          48,
          34,
          40,
          21,
          42,
          49,
          44,
          50,
          47,
          27,
          37,
          18,
          33,
          61,
          55,
          53,
          63,
          50,
          59,
          55,
          41,
          50,
          45,
          39,
          53,
          49,
          43,
          46,
          36,
          42,
          30,
          43,
          26,
          46,
          47,
          46,
          45,
          48,
          51,
          52,
          48,
          50,
          40,
          42,
          41,
          40,
          56,
          51,
          49,
          42,
          40,
          44,
          37,
          38,
          17,
          50,
          40,
          44,
          37,
          37,
          74,
          62,
          71,
          56,
          60,
          46,
          38,
          75,
          66,
          83,
          82,
          52,
          42,
          56,
          49,
          39,
          51,
          59,
          54,
          54,
          53,
          36,
          35,
          42,
          64,
          42,
          48,
          63,
          78,
          54,
          56,
          55,
          52,
          64,
          67,
          61,
          75,
          65,
          67,
          78,
          72,
          54,
          76,
          48,
          71,
          60,
          69,
          48,
          62,
          77,
          61,
          76,
          60,
          79,
          83,
          89,
          83,
          96,
          87,
          93,
          91,
          95,
          82,
          29,
          57,
          38,
          49,
          53,
          42,
          47,
          49,
          47,
          50,
          34,
          50,
          46,
          41,
          46,
          52,
          44,
          38,
          46,
          54,
          37,
          38,
          33,
          41,
          29,
          46,
          41,
          43,
          48,
          44,
          39,
          55,
          55,
          42,
          60,
          46,
          46,
          50,
          52,
          50,
          58,
          52,
          67,
          58,
          43,
          48,
          29
         ]
        },
        {
         "histfunc": "avg",
         "name": "Average",
         "type": "histogram",
         "x": [
          2011,
          2012,
          2013,
          2011,
          2013,
          2014,
          2015,
          2016,
          2017,
          2018,
          2019,
          2020,
          2011,
          2012,
          2016,
          2011,
          2012,
          2013,
          2014,
          2015,
          2016,
          2017,
          2018,
          2019,
          2020,
          2017,
          2018,
          2019,
          2011,
          2016,
          2017,
          2018,
          2019,
          2020,
          2013,
          2014,
          2015,
          2016,
          2017,
          2018,
          2012,
          2015,
          2017,
          2011,
          2012,
          2013,
          2014,
          2015,
          2016,
          2017,
          2018,
          2019,
          2020,
          2011,
          2012,
          2013,
          2014,
          2015,
          2016,
          2020,
          2014,
          2016,
          2017,
          2019,
          2020,
          2013,
          2014,
          2015,
          2016,
          2017,
          2018,
          2019,
          2020,
          2011,
          2012,
          2013,
          2011,
          2012,
          2013,
          2014,
          2015,
          2016,
          2017,
          2018,
          2019,
          2011,
          2012,
          2013,
          2014,
          2015,
          2011,
          2012,
          2013,
          2014,
          2015,
          2016,
          2017,
          2018,
          2019,
          2020,
          2011,
          2012,
          2013,
          2014,
          2015,
          2016,
          2017,
          2018,
          2019,
          2020,
          2018,
          2019,
          2020,
          2011,
          2012,
          2013,
          2014,
          2015,
          2016,
          2017,
          2018,
          2019,
          2020,
          2011,
          2012,
          2013,
          2014,
          2015,
          2016,
          2017,
          2018,
          2019,
          2020,
          2011,
          2012,
          2013,
          2014,
          2015,
          2016,
          2017,
          2018,
          2019,
          2020,
          2011,
          2012,
          2013,
          2014,
          2015,
          2016,
          2017,
          2018,
          2019,
          2020,
          2014,
          2020,
          2017,
          2018,
          2019,
          2020,
          2012,
          2013,
          2014,
          2015,
          2016,
          2015,
          2016,
          2017,
          2018,
          2019,
          2020,
          2011,
          2014,
          2015,
          2016,
          2017,
          2018,
          2011,
          2012,
          2019,
          2020,
          2012,
          2013,
          2014,
          2015,
          2018,
          2019,
          2020,
          2011,
          2012,
          2013,
          2014,
          2015,
          2016,
          2017,
          2018,
          2019,
          2020,
          2011,
          2012,
          2013
         ],
         "y": [
          41,
          40,
          23,
          34,
          80,
          71,
          65,
          95,
          80,
          36,
          54,
          78,
          45,
          38,
          35,
          57,
          63,
          69,
          69,
          58,
          50,
          55,
          66,
          40,
          46,
          45,
          38,
          31,
          36,
          37,
          48,
          34,
          40,
          21,
          42,
          49,
          44,
          50,
          47,
          27,
          37,
          18,
          33,
          61,
          55,
          53,
          63,
          50,
          59,
          55,
          41,
          50,
          45,
          39,
          53,
          49,
          43,
          46,
          36,
          42,
          30,
          43,
          26,
          46,
          47,
          46,
          45,
          48,
          51,
          52,
          48,
          50,
          40,
          42,
          41,
          40,
          56,
          51,
          49,
          42,
          40,
          44,
          37,
          38,
          17,
          50,
          40,
          44,
          37,
          37,
          74,
          62,
          71,
          56,
          60,
          46,
          38,
          75,
          66,
          83,
          82,
          52,
          42,
          56,
          49,
          39,
          51,
          59,
          54,
          54,
          53,
          36,
          35,
          42,
          64,
          42,
          48,
          63,
          78,
          54,
          56,
          55,
          52,
          64,
          67,
          61,
          75,
          65,
          67,
          78,
          72,
          54,
          76,
          48,
          71,
          60,
          69,
          48,
          62,
          77,
          61,
          76,
          60,
          79,
          83,
          89,
          83,
          96,
          87,
          93,
          91,
          95,
          82,
          29,
          57,
          38,
          49,
          53,
          42,
          47,
          49,
          47,
          50,
          34,
          50,
          46,
          41,
          46,
          52,
          44,
          38,
          46,
          54,
          37,
          38,
          33,
          41,
          29,
          46,
          41,
          43,
          48,
          44,
          39,
          55,
          55,
          42,
          60,
          46,
          46,
          50,
          52,
          50,
          58,
          52,
          67,
          58,
          43,
          48,
          29
         ]
        },
        {
         "histfunc": "min",
         "name": "Min",
         "type": "histogram",
         "x": [
          2011,
          2012,
          2013,
          2011,
          2013,
          2014,
          2015,
          2016,
          2017,
          2018,
          2019,
          2020,
          2011,
          2012,
          2016,
          2011,
          2012,
          2013,
          2014,
          2015,
          2016,
          2017,
          2018,
          2019,
          2020,
          2017,
          2018,
          2019,
          2011,
          2016,
          2017,
          2018,
          2019,
          2020,
          2013,
          2014,
          2015,
          2016,
          2017,
          2018,
          2012,
          2015,
          2017,
          2011,
          2012,
          2013,
          2014,
          2015,
          2016,
          2017,
          2018,
          2019,
          2020,
          2011,
          2012,
          2013,
          2014,
          2015,
          2016,
          2020,
          2014,
          2016,
          2017,
          2019,
          2020,
          2013,
          2014,
          2015,
          2016,
          2017,
          2018,
          2019,
          2020,
          2011,
          2012,
          2013,
          2011,
          2012,
          2013,
          2014,
          2015,
          2016,
          2017,
          2018,
          2019,
          2011,
          2012,
          2013,
          2014,
          2015,
          2011,
          2012,
          2013,
          2014,
          2015,
          2016,
          2017,
          2018,
          2019,
          2020,
          2011,
          2012,
          2013,
          2014,
          2015,
          2016,
          2017,
          2018,
          2019,
          2020,
          2018,
          2019,
          2020,
          2011,
          2012,
          2013,
          2014,
          2015,
          2016,
          2017,
          2018,
          2019,
          2020,
          2011,
          2012,
          2013,
          2014,
          2015,
          2016,
          2017,
          2018,
          2019,
          2020,
          2011,
          2012,
          2013,
          2014,
          2015,
          2016,
          2017,
          2018,
          2019,
          2020,
          2011,
          2012,
          2013,
          2014,
          2015,
          2016,
          2017,
          2018,
          2019,
          2020,
          2014,
          2020,
          2017,
          2018,
          2019,
          2020,
          2012,
          2013,
          2014,
          2015,
          2016,
          2015,
          2016,
          2017,
          2018,
          2019,
          2020,
          2011,
          2014,
          2015,
          2016,
          2017,
          2018,
          2011,
          2012,
          2019,
          2020,
          2012,
          2013,
          2014,
          2015,
          2018,
          2019,
          2020,
          2011,
          2012,
          2013,
          2014,
          2015,
          2016,
          2017,
          2018,
          2019,
          2020,
          2011,
          2012,
          2013
         ],
         "y": [
          41,
          40,
          23,
          34,
          80,
          71,
          65,
          95,
          80,
          36,
          54,
          78,
          45,
          38,
          35,
          57,
          63,
          69,
          69,
          58,
          50,
          55,
          66,
          40,
          46,
          45,
          38,
          31,
          36,
          37,
          48,
          34,
          40,
          21,
          42,
          49,
          44,
          50,
          47,
          27,
          37,
          18,
          33,
          61,
          55,
          53,
          63,
          50,
          59,
          55,
          41,
          50,
          45,
          39,
          53,
          49,
          43,
          46,
          36,
          42,
          30,
          43,
          26,
          46,
          47,
          46,
          45,
          48,
          51,
          52,
          48,
          50,
          40,
          42,
          41,
          40,
          56,
          51,
          49,
          42,
          40,
          44,
          37,
          38,
          17,
          50,
          40,
          44,
          37,
          37,
          74,
          62,
          71,
          56,
          60,
          46,
          38,
          75,
          66,
          83,
          82,
          52,
          42,
          56,
          49,
          39,
          51,
          59,
          54,
          54,
          53,
          36,
          35,
          42,
          64,
          42,
          48,
          63,
          78,
          54,
          56,
          55,
          52,
          64,
          67,
          61,
          75,
          65,
          67,
          78,
          72,
          54,
          76,
          48,
          71,
          60,
          69,
          48,
          62,
          77,
          61,
          76,
          60,
          79,
          83,
          89,
          83,
          96,
          87,
          93,
          91,
          95,
          82,
          29,
          57,
          38,
          49,
          53,
          42,
          47,
          49,
          47,
          50,
          34,
          50,
          46,
          41,
          46,
          52,
          44,
          38,
          46,
          54,
          37,
          38,
          33,
          41,
          29,
          46,
          41,
          43,
          48,
          44,
          39,
          55,
          55,
          42,
          60,
          46,
          46,
          50,
          52,
          50,
          58,
          52,
          67,
          58,
          43,
          48,
          29
         ]
        }
       ],
       "layout": {
        "template": {
         "data": {
          "bar": [
           {
            "error_x": {
             "color": "#2a3f5f"
            },
            "error_y": {
             "color": "#2a3f5f"
            },
            "marker": {
             "line": {
              "color": "#E5ECF6",
              "width": 0.5
             },
             "pattern": {
              "fillmode": "overlay",
              "size": 10,
              "solidity": 0.2
             }
            },
            "type": "bar"
           }
          ],
          "barpolar": [
           {
            "marker": {
             "line": {
              "color": "#E5ECF6",
              "width": 0.5
             },
             "pattern": {
              "fillmode": "overlay",
              "size": 10,
              "solidity": 0.2
             }
            },
            "type": "barpolar"
           }
          ],
          "carpet": [
           {
            "aaxis": {
             "endlinecolor": "#2a3f5f",
             "gridcolor": "white",
             "linecolor": "white",
             "minorgridcolor": "white",
             "startlinecolor": "#2a3f5f"
            },
            "baxis": {
             "endlinecolor": "#2a3f5f",
             "gridcolor": "white",
             "linecolor": "white",
             "minorgridcolor": "white",
             "startlinecolor": "#2a3f5f"
            },
            "type": "carpet"
           }
          ],
          "choropleth": [
           {
            "colorbar": {
             "outlinewidth": 0,
             "ticks": ""
            },
            "type": "choropleth"
           }
          ],
          "contour": [
           {
            "colorbar": {
             "outlinewidth": 0,
             "ticks": ""
            },
            "colorscale": [
             [
              0,
              "#0d0887"
             ],
             [
              0.1111111111111111,
              "#46039f"
             ],
             [
              0.2222222222222222,
              "#7201a8"
             ],
             [
              0.3333333333333333,
              "#9c179e"
             ],
             [
              0.4444444444444444,
              "#bd3786"
             ],
             [
              0.5555555555555556,
              "#d8576b"
             ],
             [
              0.6666666666666666,
              "#ed7953"
             ],
             [
              0.7777777777777778,
              "#fb9f3a"
             ],
             [
              0.8888888888888888,
              "#fdca26"
             ],
             [
              1,
              "#f0f921"
             ]
            ],
            "type": "contour"
           }
          ],
          "contourcarpet": [
           {
            "colorbar": {
             "outlinewidth": 0,
             "ticks": ""
            },
            "type": "contourcarpet"
           }
          ],
          "heatmap": [
           {
            "colorbar": {
             "outlinewidth": 0,
             "ticks": ""
            },
            "colorscale": [
             [
              0,
              "#0d0887"
             ],
             [
              0.1111111111111111,
              "#46039f"
             ],
             [
              0.2222222222222222,
              "#7201a8"
             ],
             [
              0.3333333333333333,
              "#9c179e"
             ],
             [
              0.4444444444444444,
              "#bd3786"
             ],
             [
              0.5555555555555556,
              "#d8576b"
             ],
             [
              0.6666666666666666,
              "#ed7953"
             ],
             [
              0.7777777777777778,
              "#fb9f3a"
             ],
             [
              0.8888888888888888,
              "#fdca26"
             ],
             [
              1,
              "#f0f921"
             ]
            ],
            "type": "heatmap"
           }
          ],
          "heatmapgl": [
           {
            "colorbar": {
             "outlinewidth": 0,
             "ticks": ""
            },
            "colorscale": [
             [
              0,
              "#0d0887"
             ],
             [
              0.1111111111111111,
              "#46039f"
             ],
             [
              0.2222222222222222,
              "#7201a8"
             ],
             [
              0.3333333333333333,
              "#9c179e"
             ],
             [
              0.4444444444444444,
              "#bd3786"
             ],
             [
              0.5555555555555556,
              "#d8576b"
             ],
             [
              0.6666666666666666,
              "#ed7953"
             ],
             [
              0.7777777777777778,
              "#fb9f3a"
             ],
             [
              0.8888888888888888,
              "#fdca26"
             ],
             [
              1,
              "#f0f921"
             ]
            ],
            "type": "heatmapgl"
           }
          ],
          "histogram": [
           {
            "marker": {
             "pattern": {
              "fillmode": "overlay",
              "size": 10,
              "solidity": 0.2
             }
            },
            "type": "histogram"
           }
          ],
          "histogram2d": [
           {
            "colorbar": {
             "outlinewidth": 0,
             "ticks": ""
            },
            "colorscale": [
             [
              0,
              "#0d0887"
             ],
             [
              0.1111111111111111,
              "#46039f"
             ],
             [
              0.2222222222222222,
              "#7201a8"
             ],
             [
              0.3333333333333333,
              "#9c179e"
             ],
             [
              0.4444444444444444,
              "#bd3786"
             ],
             [
              0.5555555555555556,
              "#d8576b"
             ],
             [
              0.6666666666666666,
              "#ed7953"
             ],
             [
              0.7777777777777778,
              "#fb9f3a"
             ],
             [
              0.8888888888888888,
              "#fdca26"
             ],
             [
              1,
              "#f0f921"
             ]
            ],
            "type": "histogram2d"
           }
          ],
          "histogram2dcontour": [
           {
            "colorbar": {
             "outlinewidth": 0,
             "ticks": ""
            },
            "colorscale": [
             [
              0,
              "#0d0887"
             ],
             [
              0.1111111111111111,
              "#46039f"
             ],
             [
              0.2222222222222222,
              "#7201a8"
             ],
             [
              0.3333333333333333,
              "#9c179e"
             ],
             [
              0.4444444444444444,
              "#bd3786"
             ],
             [
              0.5555555555555556,
              "#d8576b"
             ],
             [
              0.6666666666666666,
              "#ed7953"
             ],
             [
              0.7777777777777778,
              "#fb9f3a"
             ],
             [
              0.8888888888888888,
              "#fdca26"
             ],
             [
              1,
              "#f0f921"
             ]
            ],
            "type": "histogram2dcontour"
           }
          ],
          "mesh3d": [
           {
            "colorbar": {
             "outlinewidth": 0,
             "ticks": ""
            },
            "type": "mesh3d"
           }
          ],
          "parcoords": [
           {
            "line": {
             "colorbar": {
              "outlinewidth": 0,
              "ticks": ""
             }
            },
            "type": "parcoords"
           }
          ],
          "pie": [
           {
            "automargin": true,
            "type": "pie"
           }
          ],
          "scatter": [
           {
            "marker": {
             "colorbar": {
              "outlinewidth": 0,
              "ticks": ""
             }
            },
            "type": "scatter"
           }
          ],
          "scatter3d": [
           {
            "line": {
             "colorbar": {
              "outlinewidth": 0,
              "ticks": ""
             }
            },
            "marker": {
             "colorbar": {
              "outlinewidth": 0,
              "ticks": ""
             }
            },
            "type": "scatter3d"
           }
          ],
          "scattercarpet": [
           {
            "marker": {
             "colorbar": {
              "outlinewidth": 0,
              "ticks": ""
             }
            },
            "type": "scattercarpet"
           }
          ],
          "scattergeo": [
           {
            "marker": {
             "colorbar": {
              "outlinewidth": 0,
              "ticks": ""
             }
            },
            "type": "scattergeo"
           }
          ],
          "scattergl": [
           {
            "marker": {
             "colorbar": {
              "outlinewidth": 0,
              "ticks": ""
             }
            },
            "type": "scattergl"
           }
          ],
          "scattermapbox": [
           {
            "marker": {
             "colorbar": {
              "outlinewidth": 0,
              "ticks": ""
             }
            },
            "type": "scattermapbox"
           }
          ],
          "scatterpolar": [
           {
            "marker": {
             "colorbar": {
              "outlinewidth": 0,
              "ticks": ""
             }
            },
            "type": "scatterpolar"
           }
          ],
          "scatterpolargl": [
           {
            "marker": {
             "colorbar": {
              "outlinewidth": 0,
              "ticks": ""
             }
            },
            "type": "scatterpolargl"
           }
          ],
          "scatterternary": [
           {
            "marker": {
             "colorbar": {
              "outlinewidth": 0,
              "ticks": ""
             }
            },
            "type": "scatterternary"
           }
          ],
          "surface": [
           {
            "colorbar": {
             "outlinewidth": 0,
             "ticks": ""
            },
            "colorscale": [
             [
              0,
              "#0d0887"
             ],
             [
              0.1111111111111111,
              "#46039f"
             ],
             [
              0.2222222222222222,
              "#7201a8"
             ],
             [
              0.3333333333333333,
              "#9c179e"
             ],
             [
              0.4444444444444444,
              "#bd3786"
             ],
             [
              0.5555555555555556,
              "#d8576b"
             ],
             [
              0.6666666666666666,
              "#ed7953"
             ],
             [
              0.7777777777777778,
              "#fb9f3a"
             ],
             [
              0.8888888888888888,
              "#fdca26"
             ],
             [
              1,
              "#f0f921"
             ]
            ],
            "type": "surface"
           }
          ],
          "table": [
           {
            "cells": {
             "fill": {
              "color": "#EBF0F8"
             },
             "line": {
              "color": "white"
             }
            },
            "header": {
             "fill": {
              "color": "#C8D4E3"
             },
             "line": {
              "color": "white"
             }
            },
            "type": "table"
           }
          ]
         },
         "layout": {
          "annotationdefaults": {
           "arrowcolor": "#2a3f5f",
           "arrowhead": 0,
           "arrowwidth": 1
          },
          "autotypenumbers": "strict",
          "coloraxis": {
           "colorbar": {
            "outlinewidth": 0,
            "ticks": ""
           }
          },
          "colorscale": {
           "diverging": [
            [
             0,
             "#8e0152"
            ],
            [
             0.1,
             "#c51b7d"
            ],
            [
             0.2,
             "#de77ae"
            ],
            [
             0.3,
             "#f1b6da"
            ],
            [
             0.4,
             "#fde0ef"
            ],
            [
             0.5,
             "#f7f7f7"
            ],
            [
             0.6,
             "#e6f5d0"
            ],
            [
             0.7,
             "#b8e186"
            ],
            [
             0.8,
             "#7fbc41"
            ],
            [
             0.9,
             "#4d9221"
            ],
            [
             1,
             "#276419"
            ]
           ],
           "sequential": [
            [
             0,
             "#0d0887"
            ],
            [
             0.1111111111111111,
             "#46039f"
            ],
            [
             0.2222222222222222,
             "#7201a8"
            ],
            [
             0.3333333333333333,
             "#9c179e"
            ],
            [
             0.4444444444444444,
             "#bd3786"
            ],
            [
             0.5555555555555556,
             "#d8576b"
            ],
            [
             0.6666666666666666,
             "#ed7953"
            ],
            [
             0.7777777777777778,
             "#fb9f3a"
            ],
            [
             0.8888888888888888,
             "#fdca26"
            ],
            [
             1,
             "#f0f921"
            ]
           ],
           "sequentialminus": [
            [
             0,
             "#0d0887"
            ],
            [
             0.1111111111111111,
             "#46039f"
            ],
            [
             0.2222222222222222,
             "#7201a8"
            ],
            [
             0.3333333333333333,
             "#9c179e"
            ],
            [
             0.4444444444444444,
             "#bd3786"
            ],
            [
             0.5555555555555556,
             "#d8576b"
            ],
            [
             0.6666666666666666,
             "#ed7953"
            ],
            [
             0.7777777777777778,
             "#fb9f3a"
            ],
            [
             0.8888888888888888,
             "#fdca26"
            ],
            [
             1,
             "#f0f921"
            ]
           ]
          },
          "colorway": [
           "#636efa",
           "#EF553B",
           "#00cc96",
           "#ab63fa",
           "#FFA15A",
           "#19d3f3",
           "#FF6692",
           "#B6E880",
           "#FF97FF",
           "#FECB52"
          ],
          "font": {
           "color": "#2a3f5f"
          },
          "geo": {
           "bgcolor": "white",
           "lakecolor": "white",
           "landcolor": "#E5ECF6",
           "showlakes": true,
           "showland": true,
           "subunitcolor": "white"
          },
          "hoverlabel": {
           "align": "left"
          },
          "hovermode": "closest",
          "mapbox": {
           "style": "light"
          },
          "paper_bgcolor": "white",
          "plot_bgcolor": "#E5ECF6",
          "polar": {
           "angularaxis": {
            "gridcolor": "white",
            "linecolor": "white",
            "ticks": ""
           },
           "bgcolor": "#E5ECF6",
           "radialaxis": {
            "gridcolor": "white",
            "linecolor": "white",
            "ticks": ""
           }
          },
          "scene": {
           "xaxis": {
            "backgroundcolor": "#E5ECF6",
            "gridcolor": "white",
            "gridwidth": 2,
            "linecolor": "white",
            "showbackground": true,
            "ticks": "",
            "zerolinecolor": "white"
           },
           "yaxis": {
            "backgroundcolor": "#E5ECF6",
            "gridcolor": "white",
            "gridwidth": 2,
            "linecolor": "white",
            "showbackground": true,
            "ticks": "",
            "zerolinecolor": "white"
           },
           "zaxis": {
            "backgroundcolor": "#E5ECF6",
            "gridcolor": "white",
            "gridwidth": 2,
            "linecolor": "white",
            "showbackground": true,
            "ticks": "",
            "zerolinecolor": "white"
           }
          },
          "shapedefaults": {
           "line": {
            "color": "#2a3f5f"
           }
          },
          "ternary": {
           "aaxis": {
            "gridcolor": "white",
            "linecolor": "white",
            "ticks": ""
           },
           "baxis": {
            "gridcolor": "white",
            "linecolor": "white",
            "ticks": ""
           },
           "bgcolor": "#E5ECF6",
           "caxis": {
            "gridcolor": "white",
            "linecolor": "white",
            "ticks": ""
           }
          },
          "title": {
           "x": 0.05
          },
          "xaxis": {
           "automargin": true,
           "gridcolor": "white",
           "linecolor": "white",
           "ticks": "",
           "title": {
            "standoff": 15
           },
           "zerolinecolor": "white",
           "zerolinewidth": 2
          },
          "yaxis": {
           "automargin": true,
           "gridcolor": "white",
           "linecolor": "white",
           "ticks": "",
           "title": {
            "standoff": 15
           },
           "zerolinecolor": "white",
           "zerolinewidth": 2
          }
         }
        },
        "title": {
         "text": "Overview of points by season"
        },
        "xaxis": {
         "title": {
          "text": "Season"
         }
        },
        "yaxis": {
         "title": {
          "text": "Points"
         }
        }
       }
      }
     },
     "metadata": {},
     "output_type": "display_data"
    }
   ],
   "source": [
    "### Overview of points through the seasons\n",
    "\n",
    "fig5 = go.Figure()\n",
    "fig5.add_trace(go.Histogram(histfunc=\"max\", y=df.Points, x=df.Season, name=\"Max\"))\n",
    "fig5.add_trace(go.Histogram(histfunc=\"avg\", y=df.Points, x=df.Season, name=\"Average\"))\n",
    "fig5.add_trace(go.Histogram(histfunc=\"min\", y=df.Points, x=df.Season, name=\"Min\"))\n",
    "fig5.update_layout(\n",
    "    title=\"Overview of points by season\",\n",
    "    xaxis_title=\"Season\",\n",
    "    yaxis_title=\"Points\")"
   ]
  }
 ],
 "metadata": {
  "interpreter": {
   "hash": "bb3398f4b21c7b026dd5874af3f954bf25f1e8ff81e25d82a94abcbbaacf760b"
  },
  "kernelspec": {
   "display_name": "Python 3.8.8 64-bit ('base': conda)",
   "language": "python",
   "name": "python3"
  },
  "language_info": {
   "codemirror_mode": {
    "name": "ipython",
    "version": 3
   },
   "file_extension": ".py",
   "mimetype": "text/x-python",
   "name": "python",
   "nbconvert_exporter": "python",
   "pygments_lexer": "ipython3",
   "version": "3.7.6"
  },
  "orig_nbformat": 4
 },
 "nbformat": 4,
 "nbformat_minor": 2
}
